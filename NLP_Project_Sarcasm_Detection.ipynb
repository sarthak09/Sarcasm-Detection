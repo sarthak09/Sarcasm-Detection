{
 "cells": [
  {
   "cell_type": "markdown",
   "metadata": {
    "colab_type": "text",
    "id": "pp68FAQf9aMN"
   },
   "source": [
    "# Sarcasm Detection\n",
    " **Acknowledgement**\n",
    "\n",
    "Misra, Rishabh, and Prahal Arora. \"Sarcasm Detection using Hybrid Neural Network.\" arXiv preprint arXiv:1908.07414 (2019).\n",
    "\n",
    "**Required Files given in below link.**\n",
    "\n",
    "https://drive.google.com/drive/folders/1xUnF35naPGU63xwRDVGc-DkZ3M8V5mMk"
   ]
  },
  {
   "cell_type": "markdown",
   "metadata": {
    "colab_type": "text",
    "id": "WXYwajPeQbRq"
   },
   "source": [
    "#**## Reading and Exploring Data**"
   ]
  },
  {
   "cell_type": "markdown",
   "metadata": {
    "colab_type": "text",
    "id": "vAk6BRUh8CqL"
   },
   "source": [
    "## Read Data \"Sarcasm_Headlines_Dataset.json\". Explore the data and get  some insights about the data. ( 4 marks)\n",
    "Hint - As its in json format you need to use pandas.read_json function. Give paraemeter lines = True."
   ]
  },
  {
   "cell_type": "code",
   "execution_count": 1,
   "metadata": {},
   "outputs": [
    {
     "name": "stderr",
     "output_type": "stream",
     "text": [
      "Using TensorFlow backend.\n"
     ]
    }
   ],
   "source": [
    "#Import lib\n",
    "import pandas as pd\n",
    "import numpy as np\n",
    "import matplotlib.pyplot as plt\n",
    "import seaborn as sns\n",
    "from sklearn import metrics\n",
    "import os\n",
    "import numpy as np\n",
    "from keras.callbacks import  EarlyStopping, ReduceLROnPlateau, ModelCheckpoint\n",
    "from sklearn.metrics import roc_auc_score\n",
    "from sklearn.metrics import confusion_matrix,classification_report,accuracy_score,precision_score,recall_score,f1_score"
   ]
  },
  {
   "cell_type": "code",
   "execution_count": 2,
   "metadata": {
    "colab": {},
    "colab_type": "code",
    "id": "StSLB-T8PuGr"
   },
   "outputs": [],
   "source": [
    "#Load dataset\n",
    "data = pd.read_json(\"data/data/Sarcasm_Headlines_Dataset.json\", lines=True)"
   ]
  },
  {
   "cell_type": "code",
   "execution_count": 3,
   "metadata": {},
   "outputs": [
    {
     "data": {
      "text/html": [
       "<div>\n",
       "<style scoped>\n",
       "    .dataframe tbody tr th:only-of-type {\n",
       "        vertical-align: middle;\n",
       "    }\n",
       "\n",
       "    .dataframe tbody tr th {\n",
       "        vertical-align: top;\n",
       "    }\n",
       "\n",
       "    .dataframe thead th {\n",
       "        text-align: right;\n",
       "    }\n",
       "</style>\n",
       "<table border=\"1\" class=\"dataframe\">\n",
       "  <thead>\n",
       "    <tr style=\"text-align: right;\">\n",
       "      <th></th>\n",
       "      <th>article_link</th>\n",
       "      <th>headline</th>\n",
       "      <th>is_sarcastic</th>\n",
       "    </tr>\n",
       "  </thead>\n",
       "  <tbody>\n",
       "    <tr>\n",
       "      <th>0</th>\n",
       "      <td>https://www.huffingtonpost.com/entry/versace-b...</td>\n",
       "      <td>former versace store clerk sues over secret 'b...</td>\n",
       "      <td>0</td>\n",
       "    </tr>\n",
       "    <tr>\n",
       "      <th>1</th>\n",
       "      <td>https://www.huffingtonpost.com/entry/roseanne-...</td>\n",
       "      <td>the 'roseanne' revival catches up to our thorn...</td>\n",
       "      <td>0</td>\n",
       "    </tr>\n",
       "    <tr>\n",
       "      <th>2</th>\n",
       "      <td>https://local.theonion.com/mom-starting-to-fea...</td>\n",
       "      <td>mom starting to fear son's web series closest ...</td>\n",
       "      <td>1</td>\n",
       "    </tr>\n",
       "    <tr>\n",
       "      <th>3</th>\n",
       "      <td>https://politics.theonion.com/boehner-just-wan...</td>\n",
       "      <td>boehner just wants wife to listen, not come up...</td>\n",
       "      <td>1</td>\n",
       "    </tr>\n",
       "    <tr>\n",
       "      <th>4</th>\n",
       "      <td>https://www.huffingtonpost.com/entry/jk-rowlin...</td>\n",
       "      <td>j.k. rowling wishes snape happy birthday in th...</td>\n",
       "      <td>0</td>\n",
       "    </tr>\n",
       "  </tbody>\n",
       "</table>\n",
       "</div>"
      ],
      "text/plain": [
       "                                        article_link  \\\n",
       "0  https://www.huffingtonpost.com/entry/versace-b...   \n",
       "1  https://www.huffingtonpost.com/entry/roseanne-...   \n",
       "2  https://local.theonion.com/mom-starting-to-fea...   \n",
       "3  https://politics.theonion.com/boehner-just-wan...   \n",
       "4  https://www.huffingtonpost.com/entry/jk-rowlin...   \n",
       "\n",
       "                                            headline  is_sarcastic  \n",
       "0  former versace store clerk sues over secret 'b...             0  \n",
       "1  the 'roseanne' revival catches up to our thorn...             0  \n",
       "2  mom starting to fear son's web series closest ...             1  \n",
       "3  boehner just wants wife to listen, not come up...             1  \n",
       "4  j.k. rowling wishes snape happy birthday in th...             0  "
      ]
     },
     "execution_count": 3,
     "metadata": {},
     "output_type": "execute_result"
    }
   ],
   "source": [
    "#Check dataset\n",
    "data.head()"
   ]
  },
  {
   "cell_type": "code",
   "execution_count": 4,
   "metadata": {},
   "outputs": [
    {
     "name": "stdout",
     "output_type": "stream",
     "text": [
      "Index(['article_link', 'headline', 'is_sarcastic'], dtype='object')\n"
     ]
    }
   ],
   "source": [
    "#To see what all columns are there in the dataset \n",
    "print(data.columns)"
   ]
  },
  {
   "cell_type": "code",
   "execution_count": 5,
   "metadata": {},
   "outputs": [
    {
     "name": "stdout",
     "output_type": "stream",
     "text": [
      "Data length =  26709\n",
      "\n",
      "\n",
      "Data type =  <class 'pandas.core.frame.DataFrame'>\n",
      "\n",
      "\n",
      "Data shape =  (26709, 3)\n"
     ]
    }
   ],
   "source": [
    "#Printing important information about the loaded dataset\n",
    "#Information like len of dataset\n",
    "print(\"Data length = \",len(data))\n",
    "\n",
    "print(\"\\n\")\n",
    "print(\"Data type = \",type(data))\n",
    "\n",
    "\n",
    "print(\"\\n\")\n",
    "print(\"Data shape = \",data.shape)\n"
   ]
  },
  {
   "cell_type": "code",
   "execution_count": 6,
   "metadata": {},
   "outputs": [
    {
     "name": "stdout",
     "output_type": "stream",
     "text": [
      "Unique classes in data = [0 1]\n",
      "Total classes in data = 2\n"
     ]
    }
   ],
   "source": [
    "#Cross check step\n",
    "#print number of classes in target variable and total class in dataset\n",
    "print(\"Unique classes in data =\",np.unique(data['is_sarcastic']))\n",
    "print(\"Total classes in data =\",len(np.unique(data['is_sarcastic'])))"
   ]
  },
  {
   "cell_type": "code",
   "execution_count": 7,
   "metadata": {},
   "outputs": [
    {
     "name": "stdout",
     "output_type": "stream",
     "text": [
      "Total number of words in train =  26602\n"
     ]
    }
   ],
   "source": [
    "#Cross check step\n",
    "#To see number of words in data column name headline\n",
    "print(\"Total number of words in train = \",len(np.unique(np.hstack(data['headline']))))"
   ]
  },
  {
   "cell_type": "code",
   "execution_count": 8,
   "metadata": {},
   "outputs": [
    {
     "name": "stdout",
     "output_type": "stream",
     "text": [
      "Total number of words in train =  26708\n"
     ]
    }
   ],
   "source": [
    "#Cross check step\n",
    "#To see number of words in data column name headline article_link\n",
    "print(\"Total number of words in train = \",len(np.unique(np.hstack(data['article_link']))))"
   ]
  },
  {
   "cell_type": "code",
   "execution_count": 9,
   "metadata": {},
   "outputs": [
    {
     "name": "stdout",
     "output_type": "stream",
     "text": [
      "Total number of 1 in data['is_sarcastic'] =  11724\n",
      "Total number of 0 in data['is_sarcastic'] =  14985\n",
      "Total number of values in data['is_sarcastic'] =  26709\n"
     ]
    }
   ],
   "source": [
    "#print imp information like total count of 1 and 0 in the dataset\n",
    "count=0\n",
    "count1=0\n",
    "for i in data['is_sarcastic']:\n",
    "    if i==1:\n",
    "        count+=1\n",
    "        \n",
    "    else:\n",
    "        count1+=1\n",
    "        \n",
    "print(\"Total number of 1 in data['is_sarcastic'] = \",count)\n",
    "print(\"Total number of 0 in data['is_sarcastic'] = \",count1)\n",
    "print(\"Total number of values in data['is_sarcastic'] = \",count+count1)"
   ]
  },
  {
   "cell_type": "code",
   "execution_count": 10,
   "metadata": {},
   "outputs": [
    {
     "data": {
      "image/png": "[encoded data removed]",
      "text/plain": [
       "<Figure size 432x288 with 1 Axes>"
      ]
     },
     "metadata": {},
     "output_type": "display_data"
    }
   ],
   "source": [
    "#plot count of 0 and 1 in the target column of the dataset\n",
    "sns.set(style=\"darkgrid\")\n",
    "ax = sns.countplot(x=\"is_sarcastic\", data=data, palette=\"Set3\")"
   ]
  },
  {
   "cell_type": "code",
   "execution_count": 11,
   "metadata": {},
   "outputs": [
    {
     "name": "stdout",
     "output_type": "stream",
     "text": [
      "Mean 60.91 words (19.184111)\n"
     ]
    },
    {
     "data": {
      "image/png": "[encoded data removed]",
      "text/plain": [
       "<Figure size 432x288 with 1 Axes>"
      ]
     },
     "metadata": {},
     "output_type": "display_data"
    }
   ],
   "source": [
    "#Visualize step\n",
    "# Summarize review length for data['headline']\n",
    "#This cell shows how long each data is and based on that it give mean and std of lenght of each sequence\n",
    "result = [len(x) for x in data['headline']]\n",
    "print(\"Mean %.2f words (%f)\" % (np.mean(result), np.std(result)))\n",
    "# plot review length\n",
    "plt.boxplot(result)\n",
    "plt.show()\n",
    "\n",
    "\n",
    "#Note: here you can see avg length is arnd 60"
   ]
  },
  {
   "cell_type": "code",
   "execution_count": 12,
   "metadata": {},
   "outputs": [
    {
     "name": "stdout",
     "output_type": "stream",
     "text": [
      "Mean 92.34 words (16.971156)\n"
     ]
    },
    {
     "data": {
      "image/png": "[encoded data removed]",
      "text/plain": [
       "<Figure size 432x288 with 1 Axes>"
      ]
     },
     "metadata": {},
     "output_type": "display_data"
    }
   ],
   "source": [
    "#Visualize step\n",
    "# Summarize review length for data['article_link']\n",
    "#This cell shows how long each data is and based on that it give mean and std of lenght of each sequence\n",
    "result = [len(x) for x in data['article_link']]\n",
    "print(\"Mean %.2f words (%f)\" % (np.mean(result), np.std(result)))\n",
    "# plot review length\n",
    "plt.boxplot(result)\n",
    "plt.show()\n",
    "\n",
    "#Note: here you can see avg length is arnd 92"
   ]
  },
  {
   "cell_type": "markdown",
   "metadata": {},
   "source": [
    "#### Data insights\n",
    "1. As you can see data has 3 columns where 1 column 'article_link' is not important\n",
    "2. The data['headline'] has avg mean sequence of 60.91 with std  as 19.184111\n",
    "3. The labels are either 0 or 1 and the number of 0 cases is more than 1\n",
    "4. The Data length =  26709\n",
    "5. Data doesn't have equal distribution"
   ]
  },
  {
   "cell_type": "code",
   "execution_count": null,
   "metadata": {},
   "outputs": [],
   "source": []
  },
  {
   "cell_type": "markdown",
   "metadata": {
    "colab_type": "text",
    "id": "z6pXf7A78E2H"
   },
   "source": [
    "## Drop `article_link` from dataset. ( 2 marks)\n",
    "As we only need headline text data and is_sarcastic column for this project. We can drop artical link column here."
   ]
  },
  {
   "cell_type": "code",
   "execution_count": 13,
   "metadata": {
    "colab": {},
    "colab_type": "code",
    "id": "VLSVsvrlP9qD"
   },
   "outputs": [],
   "source": [
    "#Drop of unwanted column\n",
    "data.drop(['article_link'], axis = 1, inplace=True) "
   ]
  },
  {
   "cell_type": "code",
   "execution_count": 14,
   "metadata": {},
   "outputs": [
    {
     "data": {
      "text/html": [
       "<div>\n",
       "<style scoped>\n",
       "    .dataframe tbody tr th:only-of-type {\n",
       "        vertical-align: middle;\n",
       "    }\n",
       "\n",
       "    .dataframe tbody tr th {\n",
       "        vertical-align: top;\n",
       "    }\n",
       "\n",
       "    .dataframe thead th {\n",
       "        text-align: right;\n",
       "    }\n",
       "</style>\n",
       "<table border=\"1\" class=\"dataframe\">\n",
       "  <thead>\n",
       "    <tr style=\"text-align: right;\">\n",
       "      <th></th>\n",
       "      <th>headline</th>\n",
       "      <th>is_sarcastic</th>\n",
       "    </tr>\n",
       "  </thead>\n",
       "  <tbody>\n",
       "    <tr>\n",
       "      <th>0</th>\n",
       "      <td>former versace store clerk sues over secret 'b...</td>\n",
       "      <td>0</td>\n",
       "    </tr>\n",
       "    <tr>\n",
       "      <th>1</th>\n",
       "      <td>the 'roseanne' revival catches up to our thorn...</td>\n",
       "      <td>0</td>\n",
       "    </tr>\n",
       "    <tr>\n",
       "      <th>2</th>\n",
       "      <td>mom starting to fear son's web series closest ...</td>\n",
       "      <td>1</td>\n",
       "    </tr>\n",
       "    <tr>\n",
       "      <th>3</th>\n",
       "      <td>boehner just wants wife to listen, not come up...</td>\n",
       "      <td>1</td>\n",
       "    </tr>\n",
       "    <tr>\n",
       "      <th>4</th>\n",
       "      <td>j.k. rowling wishes snape happy birthday in th...</td>\n",
       "      <td>0</td>\n",
       "    </tr>\n",
       "  </tbody>\n",
       "</table>\n",
       "</div>"
      ],
      "text/plain": [
       "                                            headline  is_sarcastic\n",
       "0  former versace store clerk sues over secret 'b...             0\n",
       "1  the 'roseanne' revival catches up to our thorn...             0\n",
       "2  mom starting to fear son's web series closest ...             1\n",
       "3  boehner just wants wife to listen, not come up...             1\n",
       "4  j.k. rowling wishes snape happy birthday in th...             0"
      ]
     },
     "execution_count": 14,
     "metadata": {},
     "output_type": "execute_result"
    }
   ],
   "source": [
    "#print head of the remain dataset and to cross check if the 'article_link' column is dropped or not\n",
    "data.head()"
   ]
  },
  {
   "cell_type": "markdown",
   "metadata": {
    "colab_type": "text",
    "id": "D0h6IOxU8OdH"
   },
   "source": [
    "## Get the Length of each line and find the maximum length. ( 4 marks)\n",
    "As different lines are of different length. We need to pad the our sequences using the max length."
   ]
  },
  {
   "cell_type": "code",
   "execution_count": 15,
   "metadata": {
    "colab": {},
    "colab_type": "code",
    "id": "BRAsChZAQmr3"
   },
   "outputs": [
    {
     "name": "stdout",
     "output_type": "stream",
     "text": [
      "[78, 84, 79, 84, 64, 27, 46, 67, 50, 59, 63, 59, 70, 64, 51, 64, 88, 50, 58, 20, 50, 111, 66, 42, 71, 37, 58, 22, 57, 40, 55, 51, 65, 59, 65, 34, 33, 86, 67, 71, 64, 82, 56, 53, 41, 41, 92, 71, 38, 33, 28, 52, 65, 69, 88, 67, 72, 49, 66, 68, 28, 28, 41, 88, 69, 60, 71, 81, 43, 42, 39, 50, 39, 54, 80, 63, 58, 64, 32, 57, 59, 59, 68, 85, 61, 64, 104, 53, 87, 76, 29, 113, 79, 42, 62, 49, 73, 54, 65, 44, 51, 67, 47, 55, 28, 68, 37, 64, 41, 63, 69, 77, 43, 118, 40, 71, 57, 107, 85, 69, 52, 22, 56, 60, 58, 65, 76, 58, 36, 82, 60, 57, 33, 58, 42, 58, 61, 63, 76, 61, 61, 59, 54, 47, 67, 52, 57, 48, 62, 73, 43, 67, 32, 77, 51, 62, 50, 66, 49, 88, 47, 43, 54, 80, 85, 84, 57, 91, 60, 48, 48, 64, 75, 40, 61, 36, 70, 25, 59, 50, 81, 97, 63, 47, 57, 48, 90, 61, 67, 66, 65, 72, 43, 40, 56, 90, 40, 43, 63, 96, 46, 96, 66, 66, 48, 91, 43, 29, 68, 49, 62, 40, 80, 85, 28, 123, 51, 58, 88, 61, 76, 57, 76, 62, 21, 55, 57, 56, 72, 24, 60, 57, 75, 60, 45, 51, 83, 60, 48, 60, 35, 94, 64, 58, 50, 36, 34, 76, 22, 61, 83, 63, 58, 47, 18, 23, 118, 88, 74, 55, 65, 70, 57, 38, 22, 50, 66, 60, 33, 65, 71, 109, 45, 97, 39, 63, 30, 49, 36, 59, 49, 37, 71, 33, 72, 71, 44, 61, 61, 18, 70, 91, 62, 52, 48, 73, 48, 54, 61, 47, 76, 54, 73, 79, 69, 90, 128, 61, 56, 87, 59, 69, 21, 37, 37, 79, 46, 34, 52, 66, 14, 67, 63, 44, 64, 41, 93, 91, 59, 65, 29, 41, 67, 46, 58, 74, 45, 74, 41, 49, 61, 38, 56, 71, 66, 68, 45, 49, 25, 93, 27, 72, 51, 72, 36, 72, 48, 49, 54, 80, 34, 55, 56, 27, 63, 99, 59, 49, 55, 58, 42, 38, 45, 80, 62, 48, 52, 65, 71, 75, 48, 113, 58, 76, 75, 56, 65, 73, 62, 49, 51, 67, 72, 82, 78, 64, 39, 55, 22, 75, 35, 46, 77, 59, 76, 63, 27, 77, 71, 48, 56, 51, 75, 98, 61, 38, 16, 33, 61, 38, 39, 35, 49, 72, 73, 61, 65, 42, 51, 31, 30, 52, 34, 52, 89, 53, 75, 75, 50, 95, 51, 60, 44, 68, 62, 75, 116, 68, 62, 92, 63, 63, 38, 23, 81, 91, 66, 81, 66, 37, 42, 70, 87, 56, 45, 28, 70, 73, 75, 62, 57, 56, 33, 99, 76, 28, 52, 79, 72, 49, 61, 79, 42, 89, 60, 62, 49, 53, 76, 34, 84, 93, 49, 70, 68, 88, 79, 43, 74, 56, 43, 71, 44, 54, 31, 43, 56, 65, 44, 62, 104, 35, 48, 51, 61, 73, 69, 77, 70, 51, 86, 52, 55, 65, 85, 61, 57, 65, 78, 48, 34, 117, 74, 50, 48, 70, 73, 52, 72, 55, 73, 49, 46, 46, 65, 83, 47, 37, 42, 72, 51, 38, 41, 46, 15, 73, 87, 64, 48, 16, 81, 47, 63, 64, 77, 73, 47, 82, 26, 48, 67, 87, 27, 24, 73, 67, 45, 62, 51, 49, 70, 80, 61, 71, 49, 65, 83, 71, 32, 46, 32, 55, 64, 48, 113, 53, 22, 63, 65, 30, 63, 79, 45, 46, 58, 88, 74, 54, 51, 49, 85, 22, 55, 24, 67, 93, 62, 64, 27, 73, 49, 77, 46, 49, 93, 66, 40, 51, 74, 88, 59, 75, 39, 41, 103, 45, 74, 72, 71, 86, 76, 71, 45, 67, 36, 50, 78, 81, 57, 56, 68, 65, 74, 51, 72, 37, 102, 86, 65, 66, 94, 77, 79, 65, 65, 84, 79, 70, 65, 34, 72, 72, 47, 66, 76, 57, 43, 72, 86, 56, 75, 85, 74, 63, 29, 51, 74, 69, 44, 65, 77, 39, 92, 50, 36, 76, 42, 74, 83, 99, 52, 69, 41, 40, 83, 45, 76, 69, 56, 86, 59, 50, 91, 76, 99, 117, 49, 83, 66, 68, 58, 61, 57, 85, 62, 50, 100, 35, 58, 72, 60, 46, 48, 29, 61, 54, 63, 54, 39, 86, 69, 70, 39, 66, 51, 74, 69, 44, 42, 35, 42, 90, 58, 54, 48, 101, 59, 75, 36, 52, 30, 39, 70, 50, 75, 52, 51, 58, 82, 56, 74, 49, 41, 60, 39, 54, 55, 65, 111, 39, 56, 45, 41, 62, 67, 49, 73, 77, 37, 47, 74, 98, 68, 64, 59, 75, 83, 66, 68, 57, 78, 91, 68, 64, 82, 92, 60, 56, 42, 71, 58, 81, 45, 49, 84, 31, 51, 90, 69, 84, 69, 65, 59, 39, 73, 62, 24, 43, 59, 71, 62, 69, 81, 100, 62, 97, 37, 104, 47, 40, 61, 65, 47, 73, 51, 67, 107, 67, 54, 36, 65, 59, 66, 47, 66, 85, 84, 93, 36, 75, 63, 77, 67, 67, 71, 68, 59, 45, 76, 61, 69, 59, 44, 90, 95, 82, 74, 77, 65, 82, 65, 29, 80, 63, 65, 111, 73, 55, 58, 13, 62, 66, 57, 74, 86, 95, 59, 90, 55, 64, 64, 69, 79, 47, 41, 58, 41, 65, 51, 58, 47, 48, 22, 69, 75, 83, 64, 84, 73, 59, 73, 87, 50, 63, 65, 39, 31, 57, 43, 116, 21, 65, 76, 57, 84, 65, 58, 27, 67, 59, 69, 73, 94, 64, 29, 74, 97, 66, 63, 71, 67, 68, 52, 54, 56, 53, 70, 97, 55, 54, 77, 48, 81, 58, 101, 66, 68, 41, 56, 38, 86, 47, 65, 82, 86, 44, 44, 41, 25, 56, 44, 90, 101, 34, 30, 60, 33, 54, 78, 22, 77, 29, 58, 119, 59, 72, 64, 74, 39, 21, 66, 67, 107, 56, 53, 69, 60, 73, 51, 65, 52, 56, 79, 66, 75, 53, 63, 78, 78, 78, 46, 47, 51, 74, 65, 112, 31, 63, 75, 55, 75, 83, 67, 44, 49, 74, 22, 61, 78, 54, 45, 33, 13, 42, 64, 59, 55, 58, 25, 66, 40, 69, 65, 37, 79, 49, 67, 46, 68, 54, 35, 47, 77, 45, 104, 37, 45, 60, 71, 84, 59, 49, 75, 64, 84, 91, 20, 101, 80, 79, 76, 38, 51, 64, 87, 90, 76, 60, 68, 49, 36, 50, 49, 52, 76, 78, 46, 70, 43, 81, 55, 100, 69, 65, 60, 55, 50, 58, 84, 57, 59, 27, 39, 62, 60, 73, 66, 63, 84, 67, 39, 52, 99, 49, 84, 15, 65, 71, 70, 41, 35, 51, 63, 34, 50, 56, 46, 70, 65, 72, 57, 109, 55, 65, 82, 35, 41, 69, 45, 44, 87, 74, 28, 47, 67, 42, 50, 52, 78, 61, 55, 44, 73, 59, 93, 63, 51, 84, 63, 53, 37, 40, 50, 61, 59, 69, 52, 31, 64, 101, 71, 56, 60, 37, 24, 77, 62, 78, 64, 63, 57, 63, 43, 62, 30, 63, 64, 76, 51, 52, 34, 31, 38, 30, 91, 51, 87, 76, 38, 81, 52, 54, 25, 74, 68, 81, 76, 69, 64, 86, 99, 69, 56, 14, 55, 35, 45, 72, 41, 34, 48, 50, 53, 28, 72, 20, 20, 28, 30, 49, 75, 54, 85, 68, 79, 53, 62, 95, 54, 49, 41, 61, 87, 79, 64, 56, 28, 43, 76, 115, 74, 62, 52, 61, 110, 51, 64, 59, 37, 64, 55, 65, 49, 58, 65, 62, 84, 64, 100, 54, 66, 89, 29, 64, 71, 39, 58, 79, 44, 58, 65, 76, 49, 27, 47, 44, 93, 26, 64, 59, 44, 99, 79, 44, 48, 54, 100, 77, 58, 46, 25, 80, 63, 49, 86, 14, 65, 91, 31, 56, 70, 68, 71, 89, 74, 96, 96, 56, 61, 56, 66, 82, 57, 66, 79, 60, 29, 48, 80, 71, 62, 43, 53, 71, 41, 69, 75, 68, 72, 37, 112, 65, 59, 37, 81, 48, 47, 79, 107, 66, 58, 44, 49, 60, 47, 35, 64, 36, 71, 73, 53, 69, 52, 44, 83, 39, 71, 75, 12, 86, 46, 76, 63, 86, 34, 59, 30, 69, 35, 85, 39, 93, 64, 71, 67, 41, 90, 87, 51, 82, 79, 66, 53, 70, 55, 34, 44, 54, 72, 80, 59, 46, 62, 81, 110, 73, 62, 76, 49, 91, 70, 81, 24, 62, 78, 89, 60, 69, 68, 75, 47, 74, 91, 101, 76, 62, 72, 72, 106, 71, 86, 70, 66, 47, 67, 59, 40, 51, 41, 39, 82, 77, 55, 55, 64, 61, 84, 98, 67, 68, 63, 67, 77, 46, 53, 71, 75, 38, 81, 68, 86, 30, 72, 54, 77, 76, 58, 83, 88, 52, 58, 19, 26, 66, 88, 55, 86, 43, 28, 62, 67, 60, 70, 42, 47, 72, 54, 18, 92, 53, 65, 87, 52, 67, 29, 76, 53, 52, 76, 61, 101, 73, 66, 52, 65, 18, 74, 68, 49, 18, 92, 64, 28, 87, 53, 27, 66, 76, 40, 53, 77, 92, 48, 73, 34, 68, 57, 38, 39, 128, 76, 32, 47, 51, 57, 66, 89, 49, 62, 65, 76, 48, 55, 72, 86, 41, 65, 62, 83, 61, 14, 39, 44, 71, 53, 29, 94, 82, 65, 30, 88, 40, 26, 36, 62, 73, 76, 60, 75, 73, 58, 21, 79, 67, 62, 38, 59, 89, 55, 72, 49, 61, 48, 32, 82, 50, 72, 70, 67, 50, 33, 51, 45, 78, 35, 54, 55, 59, 81, 70, 55, 59, 57, 71, 58, 32, 57, 62, 63, 99, 63, 65, 43, 67, 17, 71, 41, 86, 91, 56, 65, 24, 73, 52, 55, 44, 31, 56, 51, 70, 45, 82, 61, 69, 34, 92, 60, 68, 60, 48, 63, 80, 71, 63, 88, 61, 50, 70, 100, 48, 58, 113, 46, 47, 63, 83, 54, 58, 64, 62, 65, 73, 65, 77, 13, 76, 65, 54, 42, 34, 38, 61, 62, 60, 36, 63, 93, 57, 78, 64, 62, 116, 41, 48, 81, 33, 102, 82, 61, 65, 75, 36, 79, 48, 58, 34, 60, 57, 57, 43, 55, 38, 56, 36, 60, 45, 73, 69, 24, 28, 78, 47, 37, 78, 56, 45, 63, 42, 49, 92, 108, 46, 69, 63, 93, 78, 49, 54, 53, 35, 53, 60, 72, 72, 28, 77, 38, 65, 87, 50, 111, 52, 62, 56, 62, 61, 75, 54, 101, 18, 101, 57, 78, 28, 76, 47, 60, 53, 30, 59, 29, 54, 65, 46, 31, 49, 59, 76, 71, 43, 62, 65, 53, 42, 59, 25, 23, 56, 72, 68, 105, 119, 54, 45, 71, 91, 52, 31, 70, 83, 27, 70, 78, 64, 41, 45, 65, 39, 97, 92, 65, 49, 50, 40, 86, 56, 76, 57, 63, 41, 83, 70, 76, 48, 70, 100, 91, 60, 34, 54, 70, 41, 52, 62, 39, 68, 68, 57, 92, 50, 58, 58, 71, 36, 68, 52, 102, 130, 83, 44, 26, 57, 36, 47, 63, 60, 78, 57, 57, 15, 32, 77, 76, 50, 85, 87, 63, 49, 36, 107, 36, 74, 44, 89, 70, 54, 71, 84, 53, 59, 73, 59, 72, 78, 61, 71, 72, 48, 49, 58, 52, 44, 36, 65, 62, 86, 64, 86, 23, 51, 46, 66, 47, 54, 54, 31, 51, 49, 96, 44, 86, 52, 45, 78, 95, 61, 57, 75, 66, 52, 44, 49, 60, 89, 65, 50, 65, 63, 58, 25, 69, 82, 41, 45, 61, 88, 63, 76, 67, 71, 101, 73, 72, 39, 50, 68, 101, 78, 76, 60, 68, 36, 31, 58, 57, 86, 70, 62, 29, 56, 68, 30, 43, 82, 80, 27, 100, 89, 86, 89, 48, 68, 24, 49, 78, 50, 89, 52, 70, 36, 62, 66, 54, 46, 49, 35, 64, 65, 44, 60, 81, 31, 59, 51, 75, 49, 66, 52, 57, 92, 59, 18, 74, 71, 68, 29, 56, 25, 88, 61, 61, 69, 71, 73, 50, 34, 71, 42, 77, 56, 54, 63, 50, 68, 35, 82, 52, 49, 52, 54, 53, 94, 22, 46, 58, 48, 42, 45, 89, 74, 37, 53, 57, 63, 68, 61, 36, 69, 67, 57, 52, 69, 55, 66, 76, 73, 62, 53, 66, 74, 85, 76, 36, 32, 41, 58, 50, 56, 67, 56, 38, 61, 90, 70, 83, 47, 16, 58, 74, 70, 95, 52, 54, 97, 20, 39, 67, 66, 47, 73, 43, 62, 49, 47, 27, 58, 68, 61, 66, 46, 54, 72, 33, 63, 62, 56, 64, 53, 37, 34, 60, 38, 96, 32, 41, 57, 67, 87, 58, 63, 20, 81, 27, 36, 77, 49, 37, 74, 44, 77, 49, 82, 57, 28, 63, 59, 76, 35, 58, 58, 40, 34, 49, 64, 68, 60, 63, 89, 55, 59, 87, 55, 55, 55, 60, 40, 68, 39, 62, 75, 50, 73, 51, 79, 77, 39, 80, 70, 54, 74, 65, 46, 69, 42, 45, 22, 45, 60, 62, 68, 52, 93, 26, 55, 63, 32, 23, 88, 58, 63, 55, 44, 82, 42, 49, 51, 68, 78, 67, 48, 85, 96, 113, 89, 24, 76, 69, 67, 53, 48, 20, 42, 50, 35, 84, 66, 61, 67, 55, 71, 82, 48, 51, 78, 92, 46, 75, 72, 75, 77, 68, 80, 63, 33, 46, 67, 62, 55, 38, 53, 20, 19, 53, 44, 74, 81, 54, 52, 71, 59, 44, 57, 72, 86, 46, 67, 70, 43, 43, 82, 61, 33, 71, 78, 23, 14, 100, 22, 60, 44, 62, 55, 51, 87, 22, 68, 95, 68, 65, 31, 62, 22, 51, 70, 53, 76, 24, 23, 51, 53, 79, 71, 73, 58, 44, 79, 81, 54, 16, 113, 76, 39, 49, 78, 61, 77, 39, 50, 70, 39, 25, 42, 59, 59, 46, 66, 43, 51, 77, 43, 86, 78, 59, 65, 53, 63, 25, 66, 79, 88, 25, 68, 57, 41, 63, 27, 100, 67, 62, 48, 68, 40, 27, 54, 73, 53, 71, 25, 63, 79, 75, 63, 59, 65, 53, 69, 65, 58, 70, 74, 56, 63, 44, 55, 60, 72, 74, 48, 72, 75, 39, 84, 70, 58, 34, 74, 66, 89, 64, 77, 76, 57, 93, 47, 87, 99, 33, 72, 93, 58, 52, 58, 84, 91, 58, 48, 50, 77, 63, 61, 45, 39, 31, 50, 77, 83, 79, 36, 79, 77, 61, 51, 33, 35, 55, 85, 68, 80, 70, 65, 92, 66, 69, 68, 87, 29, 54, 89, 48, 47, 41, 62, 36, 67, 52, 67, 44, 96, 46, 72, 60, 52, 46, 45, 39, 64, 40, 56, 34, 64, 57, 31, 52, 62, 40, 79, 44, 112, 70, 38, 57, 77, 58, 63, 76, 42, 57, 54, 74, 61, 45, 51, 56, 51, 52, 67, 31, 81, 103, 43, 41, 48, 59, 40, 71, 78, 19, 42, 40, 85, 73, 73, 53, 51, 70, 63, 46, 28, 115, 40, 53, 47, 54, 70, 76, 38, 83, 73, 52, 52, 54, 48, 47, 76, 57, 88, 72, 57, 24, 29, 39, 47, 73, 66, 71, 51, 48, 62, 52, 66, 58, 61, 13, 34, 54, 55, 84, 47, 73, 71, 69, 62, 56, 80, 63, 57, 68, 36, 47, 50, 71, 41, 60, 53, 47, 91, 73, 51, 37, 76, 64, 77, 43, 57, 82, 64, 63, 65, 44, 87, 90, 60, 55, 71, 62, 62, 59, 43, 43, 73, 53, 57, 59, 75, 65, 56, 37, 53, 38, 41, 31, 69, 51, 79, 24, 43, 66, 101, 61, 53, 43, 60, 28, 73, 67, 67, 91, 71, 36, 38, 53, 65, 73, 55, 64, 90, 84, 60, 51, 45, 52, 27, 64, 63, 65, 64, 47, 35, 41, 56, 59, 52, 66, 52, 62, 31, 41, 67, 65, 59, 58, 57, 54, 82, 43, 52, 107, 18, 31, 46, 53, 68, 76, 69, 44, 61, 79, 63, 74, 47, 17, 66, 47, 62, 71, 67, 64, 63, 62, 96, 68, 82, 46, 21, 29, 33, 46, 66, 62, 68, 61, 54, 101, 52, 97, 36, 75, 98, 70, 27, 89, 70, 35, 74, 67, 63, 46, 57, 46, 49, 48, 48, 69, 49, 64, 51, 49, 65, 86, 86, 67, 71, 47, 63, 58, 19, 44, 55, 95, 53, 67, 71, 60, 58, 93, 70, 83, 70, 63, 41, 28, 49, 87, 85, 49, 65, 65, 53, 30, 64, 47, 40, 54, 61, 54, 61, 89, 80, 65, 52, 59, 61, 74, 61, 43, 57, 55, 85, 80, 54, 61, 56, 58, 32, 55, 60, 66, 54, 52, 60, 44, 77, 11, 32, 48, 52, 48, 56, 56, 90, 56, 82, 58, 42, 49, 24, 38, 88, 65, 33, 38, 58, 79, 60, 67, 63, 80, 52, 87, 77, 79, 57, 45, 69, 48, 91, 85, 53, 66, 42, 51, 64, 69, 59, 41, 45, 49, 32, 127, 49, 88, 61, 47, 94, 65, 43, 37, 37, 67, 82, 50, 53, 47, 54, 41, 95, 57, 53, 56, 72, 52, 56, 62, 58, 48, 71, 55, 52, 57, 63, 65, 56, 73, 45, 65, 70, 64, 48, 63, 78, 57, 65, 85, 54, 43, 43, 68, 50, 60, 79, 58, 74, 32, 80, 42, 40, 106, 50, 77, 86, 67, 55, 61, 30, 66, 67, 75, 54, 68, 18, 63, 75, 61, 84, 78, 65, 57, 71, 33, 70, 69, 21, 60, 87, 57, 51, 43, 82, 69, 43, 90, 85, 70, 53, 32, 64, 48, 71, 93, 67, 39, 70, 87, 64, 40, 54, 67, 73, 80, 69, 63, 54, 50, 48, 91, 85, 80, 34, 131, 57, 110, 78, 78, 80, 75, 51, 69, 65, 57, 51, 90, 26, 80, 71, 45, 90, 72, 65, 78, 47, 44, 68, 67, 56, 62, 35, 65, 76, 40, 24, 49, 64, 23, 61, 65, 78, 48, 88, 45, 62, 81, 58, 88, 84, 40, 52, 61, 70, 49, 69, 67, 51, 55, 66, 65, 57, 61, 35, 27, 82, 56, 66, 60, 46, 77, 61, 57, 59, 62, 51, 83, 68, 77, 66, 65, 51, 51, 25, 74, 45, 82, 33, 63, 41, 59, 91, 66, 43, 57, 64, 53, 72, 68, 49, 29, 24, 78, 90, 31, 29, 49, 48, 60, 32, 43, 35, 40, 67, 69, 87, 111, 34, 75, 52, 85, 35, 73, 88, 104, 56, 101, 89, 66, 78, 83, 70, 137, 62, 77, 34, 85, 58, 65, 29, 65, 49, 50, 58, 62, 81, 46, 66, 58, 77, 64, 32, 82, 40, 72, 47, 65, 52, 48, 43, 52, 89, 72, 44, 110, 68, 56, 57, 27, 70, 64, 44, 46, 24, 52, 40, 69, 63, 32, 105, 93, 65, 70, 59, 53, 33, 49, 28, 91, 82, 55, 71, 73, 63, 83, 68, 114, 91, 71, 76, 30, 69, 39, 47, 76, 77, 74, 59, 85, 61, 62, 44, 68, 92, 26, 91, 82, 50, 20, 66, 60, 70, 46, 70, 79, 47, 73, 63, 104, 23, 47, 82, 56, 53, 46, 72, 23, 73, 70, 41, 79, 67, 86, 56, 42, 44, 90, 63, 66, 33, 123, 56, 53, 57, 76, 45, 43, 84, 59, 56, 69, 80, 92, 35, 77, 53, 84, 104, 48, 25, 65, 64, 44, 55, 52, 55, 77, 62, 49, 62, 70, 79, 46, 54, 54, 81, 57, 64, 58, 61, 76, 53, 75, 61, 90, 62, 104, 89, 74, 75, 88, 60, 53, 82, 80, 35, 73, 84, 39, 66, 85, 57, 100, 71, 57, 67, 42, 53, 57, 56, 99, 58, 72, 65, 68, 37, 48, 108, 88, 25, 69, 42, 112, 65, 85, 80, 82, 74, 76, 59, 68, 69, 46, 40, 62, 89, 63, 48, 44, 70, 27, 64, 79, 77, 117, 65, 83, 30, 51, 78, 85, 37, 33, 77, 59, 93, 106, 83, 52, 31, 39, 92, 46, 58, 28, 68, 36, 67, 81, 47, 61, 79, 70, 80, 44, 56, 57, 68, 24, 28, 68, 75, 34, 80, 70, 75, 55, 47, 75, 59, 64, 108, 81, 46, 59, 56, 43, 56, 43, 46, 33, 66, 48, 35, 92, 48, 46, 64, 56, 60, 59, 62, 48, 50, 58, 46, 67, 41, 95, 64, 52, 63, 92, 44, 72, 54, 65, 90, 31, 58, 47, 84, 75, 68, 74, 58, 42, 57, 66, 62, 70, 34, 34, 58, 80, 57, 32, 56, 55, 54, 76, 33, 59, 74, 53, 68, 71, 45, 56, 61, 82, 43, 85, 63, 64, 63, 96, 62, 77, 38, 61, 57, 90, 71, 96, 40, 106, 51, 61, 95, 68, 77, 30, 47, 83, 56, 73, 70, 59, 62, 75, 79, 49, 63, 80, 64, 60, 48, 64, 41, 45, 82, 100, 59, 63, 34, 30, 34, 69, 104, 78, 34, 29, 84, 39, 104, 77, 92, 79, 81, 76, 106, 45, 33, 44, 73, 66, 62, 83, 55, 60, 59, 35, 78, 55, 104, 72, 49, 43, 27, 60, 53, 53, 67, 58, 94, 65, 69, 78, 94, 70, 68, 64, 81, 54, 83, 64, 79, 54, 53, 57, 58, 34, 61, 62, 93, 56, 62, 35, 51, 64, 42, 68, 71, 76, 65, 73, 65, 90, 44, 60, 73, 47, 89, 60, 114, 71, 96, 33, 82, 55, 41, 67, 63, 25, 50, 34, 86, 44, 65, 87, 51, 73, 89, 41, 56, 28, 53, 77, 72, 52, 63, 75, 68, 49, 46, 64, 70, 63, 62, 81, 84, 86, 60, 32, 50, 27, 63, 35, 69, 64, 29, 68, 72, 59, 78, 62, 41, 71, 65, 71, 41, 69, 67, 120, 54, 60, 29, 66, 67, 82, 85, 97, 67, 53, 52, 48, 39, 42, 66, 58, 60, 61, 56, 51, 59, 42, 69, 40, 84, 60, 69, 36, 64, 65, 57, 76, 49, 46, 62, 77, 83, 44, 38, 15, 85, 70, 69, 58, 74, 39, 10, 65, 89, 62, 49, 49, 28, 85, 96, 69, 39, 79, 56, 71, 65, 64, 67, 68, 63, 79, 59, 12, 33, 59, 62, 78, 76, 81, 63, 65, 58, 98, 45, 38, 43, 61, 50, 73, 56, 68, 67, 38, 86, 84, 96, 49, 84, 61, 62, 35, 54, 51, 65, 53, 79, 28, 86, 54, 38, 72, 31, 45, 79, 48, 52, 28, 68, 113, 76, 66, 54, 53, 57, 58, 40, 51, 58, 51, 55, 71, 22, 47, 63, 36, 77, 70, 46, 88, 72, 55, 50, 40, 73, 103, 44, 65, 77, 47, 47, 94, 67, 46, 65, 60, 22, 62, 75, 68, 75, 72, 73, 58, 40, 55, 68, 28, 57, 66, 51, 46, 58, 46, 56, 39, 77, 74, 78, 48, 40, 82, 102, 59, 52, 79, 74, 37, 34, 71, 111, 30, 57, 57, 52, 93, 39, 53, 58, 93, 36, 66, 55, 93, 69, 83, 76, 53, 14, 56, 59, 41, 58, 79, 50, 45, 32, 75, 68, 14, 88, 58, 58, 63, 74, 92, 69, 97, 59, 91, 79, 30, 43, 37, 92, 74, 65, 60, 65, 42, 62, 43, 107, 51, 76, 48, 45, 46, 68, 75, 41, 54, 40, 67, 60, 64, 60, 43, 65, 69, 52, 59, 75, 70, 29, 137, 89, 58, 76, 110, 68, 56, 75, 40, 54, 37, 45, 72, 50, 55, 82, 56, 32, 86, 64, 58, 42, 56, 44, 51, 50, 62, 70, 51, 86, 40, 56, 87, 59, 79, 84, 70, 70, 80, 84, 26, 49, 50, 56, 92, 66, 59, 72, 78, 53, 43, 84, 71, 51, 84, 71, 71, 57, 61, 66, 26, 45, 65, 71, 55, 37, 26, 51, 69, 30, 54, 40, 87, 62, 48, 88, 61, 72, 65, 56, 112, 47, 77, 41, 71, 46, 41, 29, 109, 55, 44, 67, 53, 58, 59, 37, 68, 67, 55, 36, 66, 100, 67, 61, 58, 54, 67, 37, 47, 36, 85, 44, 62, 80, 58, 80, 52, 83, 73, 65, 29, 68, 64, 47, 42, 99, 80, 55, 48, 23, 62, 43, 73, 84, 79, 63, 62, 53, 62, 64, 70, 79, 57, 39, 45, 60, 80, 30, 48, 57, 46, 54, 35, 62, 38, 79, 48, 95, 72, 49, 69, 39, 73, 58, 72, 58, 70, 56, 48, 64, 34, 66, 78, 69, 82, 77, 32, 62, 28, 23, 68, 44, 57, 68, 63, 43, 87, 61, 91, 73, 36, 38, 64, 80, 68, 51, 68, 108, 74, 28, 82, 76, 64, 69, 31, 67, 58, 48, 56, 70, 26, 54, 77, 62, 54, 80, 55, 32, 63, 42, 85, 73, 47, 61, 80, 69, 34, 67, 66, 74, 87, 38, 44, 54, 78, 67, 65, 72, 49, 78, 77, 52, 76, 60, 61, 67, 61, 57, 38, 55, 75, 30, 51, 48, 39, 35, 32, 64, 63, 33, 42, 45, 43, 48, 80, 29, 46, 40, 41, 79, 56, 18, 22, 35, 63, 44, 66, 73, 44, 49, 39, 54, 41, 94, 84, 45, 38, 31, 18, 61, 81, 58, 58, 67, 64, 48, 40, 50, 72, 40, 61, 87, 42, 117, 119, 57, 63, 79, 67, 65, 48, 52, 74, 18, 79, 71, 52, 79, 56, 50, 71, 48, 28, 34, 41, 83, 66, 60, 37, 46, 70, 30, 69, 65, 108, 37, 57, 51, 66, 67, 96, 66, 54, 71, 54, 33, 68, 77, 37, 76, 79, 66, 38, 36, 64, 71, 45, 61, 27, 67, 59, 22, 78, 57, 64, 56, 22, 56, 81, 90, 83, 59, 60, 72, 71, 83, 54, 65, 49, 53, 73, 62, 65, 57, 71, 38, 60, 34, 86, 36, 65, 51, 43, 47, 53, 26, 65, 71, 70, 42, 17, 30, 32, 59, 70, 50, 48, 61, 48, 42, 68, 50, 62, 120, 64, 62, 30, 64, 26, 13, 60, 46, 32, 70, 67, 69, 70, 28, 62, 68, 54, 65, 78, 72, 67, 71, 60, 11, 44, 33, 65, 80, 72, 100, 100, 61, 64, 33, 23, 92, 46, 85, 67, 52, 20, 99, 61, 38, 63, 56, 33, 52, 51, 25, 66, 69, 86, 58, 72, 82, 72, 66, 55, 79, 82, 64, 51, 100, 33, 16, 47, 52, 46, 88, 32, 35, 69, 80, 74, 28, 67, 79, 50, 87, 64, 79, 57, 105, 30, 76, 68, 47, 32, 47, 55, 52, 96, 79, 50, 55, 63, 63, 58, 64, 56, 70, 21, 27, 120, 53, 70, 65, 28, 87, 72, 61, 33, 35, 46, 31, 84, 69, 74, 50, 65, 60, 57, 65, 70, 53, 67, 85, 15, 78, 55, 69, 77, 47, 55, 62, 18, 61, 67, 58, 48, 61, 54, 69, 57, 64, 71, 80, 51, 43, 50, 58, 80, 67, 65, 41, 60, 54, 41, 74, 39, 45, 68, 73, 37, 38, 41, 46, 70, 56, 80, 51, 42, 73, 73, 99, 68, 69, 85, 81, 71, 59, 31, 87, 78, 35, 60, 63, 95, 54, 78, 41, 43, 86, 73, 64, 53, 59, 61, 82, 42, 48, 66, 56, 77, 62, 94, 50, 91, 69, 35, 58, 62, 96, 63, 58, 68, 47, 35, 52, 78, 67, 46, 54, 41, 43, 67, 48, 69, 84, 65, 71, 81, 64, 49, 104, 52, 23, 88, 62, 80, 57, 52, 70, 49, 49, 52, 45, 91, 28, 45, 53, 71, 27, 39, 75, 71, 90, 45, 66, 50, 82, 56, 67, 45, 70, 37, 73, 90, 73, 58, 80, 76, 45, 70, 37, 74, 22, 48, 50, 49, 54, 77, 59, 51, 70, 68, 35, 103, 33, 29, 74, 50, 75, 42, 68, 40, 42, 72, 47, 63, 56, 62, 26, 46, 32, 61, 39, 58, 59, 76, 78, 31, 73, 61, 92, 47, 38, 32, 82, 59, 73, 81, 83, 87, 27, 78, 81, 71, 57, 77, 69, 74, 62, 62, 28, 64, 59, 51, 72, 60, 41, 62, 14, 47, 61, 68, 74, 61, 71, 55, 78, 37, 69, 109, 75, 47, 67, 84, 73, 53, 19, 33, 127, 66, 62, 44, 38, 58, 41, 45, 73, 61, 63, 40, 40, 51, 58, 86, 80, 66, 72, 24, 68, 63, 53, 74, 56, 63, 83, 35, 69, 71, 40, 78, 51, 64, 34, 57, 74, 53, 43, 77, 92, 38, 84, 74, 85, 47, 116, 78, 94, 48, 98, 71, 39, 106, 62, 21, 83, 71, 57, 41, 52, 80, 81, 51, 89, 74, 55, 58, 66, 87, 66, 44, 40, 51, 52, 46, 65, 87, 31, 66, 35, 78, 71, 43, 76, 94, 77, 44, 51, 53, 61, 38, 48, 14, 81, 53, 29, 121, 71, 85, 69, 64, 73, 34, 65, 95, 83, 27, 75, 65, 51, 32, 72, 99, 67, 66, 47, 87, 72, 63, 65, 62, 52, 96, 52, 70, 66, 95, 27, 65, 58, 22, 55, 69, 66, 62, 61, 78, 65, 71, 57, 106, 54, 57, 50, 68, 63, 57, 61, 67, 63, 92, 55, 50, 25, 48, 119, 82, 66, 59, 72, 57, 63, 67, 76, 78, 56, 75, 66, 59, 94, 69, 89, 55, 62, 55, 51, 54, 35, 69, 60, 68, 70, 54, 40, 52, 23, 54, 43, 58, 55, 58, 53, 37, 71, 54, 67, 71, 55, 66, 59, 64, 65, 76, 46, 67, 76, 53, 71, 57, 40, 40, 19, 40, 57, 78, 62, 52, 58, 62, 38, 46, 63, 84, 21, 81, 60, 103, 57, 46, 58, 61, 79, 74, 52, 22, 40, 19, 35, 75, 55, 98, 56, 49, 72, 59, 72, 71, 69, 45, 65, 64, 55, 57, 69, 93, 63, 96, 57, 41, 73, 82, 71, 71, 84, 27, 48, 68, 52, 48, 53, 53, 64, 54, 70, 48, 72, 72, 33, 77, 70, 72, 46, 81, 88, 42, 67, 73, 67, 42, 52, 33, 49, 65, 76, 62, 80, 60, 66, 64, 54, 27, 75, 34, 74, 59, 61, 57, 83, 29, 83, 59, 60, 63, 73, 41, 71, 78, 47, 93, 64, 41, 50, 68, 56, 19, 63, 49, 74, 79, 50, 46, 82, 64, 74, 84, 66, 59, 86, 61, 59, 50, 74, 71, 68, 25, 51, 49, 105, 76, 94, 64, 44, 68, 57, 56, 61, 39, 80, 32, 72, 77, 39, 10, 105, 61, 78, 90, 42, 74, 62, 62, 76, 78, 78, 52, 56, 95, 86, 55, 95, 76, 61, 48, 64, 63, 57, 54, 58, 65, 75, 66, 63, 25, 70, 90, 60, 24, 89, 78, 67, 75, 59, 90, 65, 39, 59, 68, 59, 57, 72, 62, 58, 63, 43, 41, 32, 17, 30, 16, 36, 75, 15, 67, 36, 21, 75, 41, 51, 37, 68, 68, 81, 88, 77, 38, 76, 63, 46, 89, 65, 80, 40, 42, 75, 71, 75, 54, 44, 33, 106, 117, 71, 94, 64, 66, 28, 74, 78, 41, 41, 41, 69, 76, 87, 69, 71, 60, 85, 75, 54, 79, 40, 34, 52, 59, 47, 67, 71, 47, 67, 62, 67, 70, 65, 61, 58, 57, 89, 31, 69, 32, 31, 43, 74, 48, 73, 60, 80, 64, 56, 51, 23, 51, 79, 73, 73, 68, 67, 66, 70, 36, 49, 69, 97, 73, 47, 49, 64, 55, 124, 61, 54, 80, 73, 60, 27, 87, 35, 37, 61, 44, 65, 32, 64, 52, 76, 80, 67, 68, 76, 42, 43, 87, 26, 99, 58, 59, 33, 40, 79, 80, 59, 14, 47, 68, 63, 51, 57, 60, 31, 45, 66, 81, 27, 63, 61, 61, 77, 50, 74, 77, 63, 51, 60, 82, 44, 62, 65, 66, 41, 74, 57, 27, 82, 29, 74, 44, 51, 49, 57, 62, 84, 108, 35, 86, 56, 51, 68, 58, 85, 48, 32, 32, 117, 35, 67, 50, 67, 64, 72, 56, 64, 84, 41, 54, 61, 66, 76, 75, 63, 66, 77, 102, 82, 58, 48, 64, 37, 52, 57, 71, 69, 59, 64, 72, 86, 63, 79, 56, 45, 54, 39, 70, 56, 52, 32, 36, 80, 89, 34, 56, 53, 81, 58, 82, 67, 71, 77, 58, 67, 57, 43, 71, 77, 95, 50, 107, 44, 43, 63, 68, 45, 57, 60, 74, 64, 66, 39, 100, 79, 58, 39, 49, 66, 68, 59, 60, 52, 74, 54, 44, 60, 65, 69, 36, 61, 19, 84, 56, 47, 64, 60, 41, 56, 37, 55, 60, 76, 68, 56, 63, 81, 100, 49, 60, 85, 58, 74, 87, 63, 35, 76, 33, 44, 73, 52, 36, 60, 39, 90, 93, 62, 82, 65, 19, 58, 64, 61, 39, 82, 36, 47, 62, 101, 72, 139, 82, 52, 107, 92, 58, 46, 37, 43, 110, 61, 63, 86, 56, 55, 82, 62, 35, 90, 97, 29, 68, 83, 70, 77, 62, 73, 67, 68, 69, 48, 51, 59, 74, 91, 52, 56, 55, 38, 44, 76, 55, 51, 85, 70, 37, 92, 70, 62, 39, 48, 87, 28, 84, 63, 43, 61, 69, 53, 42, 29, 32, 41, 46, 78, 60, 74, 55, 63, 78, 38, 56, 42, 50, 39, 32, 49, 57, 43, 86, 38, 106, 80, 78, 64, 77, 65, 41, 70, 51, 80, 64, 53, 73, 48, 91, 43, 20, 38, 68, 90, 73, 70, 63, 51, 78, 70, 75, 55, 60, 63, 43, 57, 72, 64, 37, 64, 67, 71, 78, 35, 64, 56, 54, 78, 67, 71, 82, 84, 71, 53, 54, 86, 67, 94, 51, 90, 55, 53, 115, 80, 76, 73, 82, 69, 63, 68, 76, 69, 68, 32, 81, 64, 69, 51, 34, 56, 41, 101, 28, 38, 59, 69, 38, 67, 104, 58, 92, 38, 60, 92, 61, 68, 25, 73, 67, 24, 46, 24, 43, 68, 51, 58, 48, 51, 75, 45, 118, 85, 69, 66, 71, 48, 40, 59, 33, 79, 50, 52, 41, 46, 64, 65, 92, 74, 77, 55, 91, 72, 60, 89, 68, 39, 50, 37, 74, 68, 97, 39, 45, 16, 60, 108, 60, 33, 53, 69, 86, 61, 80, 46, 29, 66, 52, 40, 63, 53, 15, 39, 64, 30, 95, 26, 73, 69, 46, 65, 84, 56, 59, 74, 51, 89, 62, 30, 74, 65, 35, 64, 65, 72, 55, 68, 78, 55, 110, 58, 86, 51, 51, 79, 46, 43, 75, 63, 30, 80, 66, 21, 65, 66, 25, 60, 42, 45, 89, 75, 49, 52, 55, 55, 43, 28, 67, 67, 19, 68, 91, 73, 61, 64, 67, 63, 67, 63, 77, 37, 52, 50, 66, 80, 40, 65, 82, 46, 70, 103, 74, 71, 56, 81, 56, 17, 56, 59, 27, 49, 69, 66, 50, 61, 42, 92, 58, 59, 65, 56, 40, 60, 90, 87, 41, 77, 70, 77, 68, 93, 63, 42, 39, 54, 46, 54, 83, 88, 54, 59, 63, 54, 80, 73, 86, 62, 51, 28, 84, 31, 29, 42, 69, 103, 17, 83, 88, 61, 67, 62, 58, 29, 69, 47, 66, 62, 50, 60, 72, 65, 23, 83, 66, 52, 65, 52, 48, 49, 83, 68, 61, 74, 60, 62, 65, 64, 40, 31, 69, 62, 70, 65, 56, 33, 53, 51, 74, 65, 45, 86, 78, 27, 68, 55, 65, 75, 65, 63, 58, 54, 78, 77, 62, 68, 49, 67, 63, 73, 56, 48, 78, 42, 37, 57, 139, 76, 66, 29, 76, 65, 20, 39, 46, 57, 71, 53, 90, 95, 46, 73, 46, 47, 49, 39, 102, 78, 41, 69, 60, 66, 48, 23, 113, 48, 136, 72, 67, 123, 62, 49, 39, 59, 67, 65, 107, 69, 68, 73, 93, 73, 51, 38, 41, 71, 58, 59, 79, 56, 55, 58, 70, 65, 73, 67, 54, 58, 58, 48, 94, 85, 66, 72, 90, 36, 63, 34, 67, 33, 61, 36, 32, 83, 25, 106, 61, 36, 75, 68, 74, 53, 121, 76, 55, 75, 21, 65, 106, 62, 57, 75, 65, 81, 115, 90, 78, 73, 47, 46, 58, 48, 56, 61, 32, 87, 68, 54, 25, 78, 60, 35, 57, 61, 75, 50, 84, 69, 97, 51, 81, 25, 106, 85, 40, 17, 79, 63, 60, 57, 77, 53, 47, 77, 69, 72, 76, 48, 54, 36, 40, 35, 49, 73, 71, 63, 47, 33, 63, 75, 56, 62, 76, 84, 43, 75, 51, 81, 107, 54, 35, 39, 52, 61, 73, 65, 83, 46, 70, 72, 19, 56, 56, 79, 70, 67, 39, 73, 63, 82, 61, 35, 46, 55, 74, 56, 92, 26, 39, 58, 59, 37, 66, 57, 57, 90, 73, 31, 64, 55, 50, 112, 88, 26, 57, 53, 51, 17, 87, 74, 63, 100, 39, 43, 71, 71, 61, 98, 38, 50, 84, 92, 30, 17, 75, 39, 69, 55, 94, 93, 74, 57, 21, 79, 28, 62, 40, 35, 46, 75, 30, 90, 54, 65, 46, 54, 82, 53, 47, 84, 105, 78, 47, 59, 59, 67, 51, 58, 76, 71, 122, 87, 87, 55, 76, 69, 59, 46, 65, 44, 77, 43, 41, 75, 67, 56, 60, 56, 71, 94, 79, 47, 31, 71, 68, 72, 40, 36, 63, 75, 93, 63, 65, 39, 70, 81, 37, 78, 26, 70, 27, 69, 96, 50, 44, 33, 53, 72, 20, 49, 60, 37, 58, 85, 46, 54, 37, 53, 28, 57, 78, 76, 47, 63, 76, 19, 54, 65, 80, 53, 81, 76, 20, 84, 40, 38, 85, 24, 54, 72, 66, 64, 30, 32, 71, 106, 68, 60, 32, 67, 62, 56, 72, 38, 48, 42, 56, 70, 63, 69, 70, 63, 92, 81, 41, 47, 75, 59, 70, 57, 70, 77, 64, 70, 51, 55, 64, 88, 71, 76, 61, 48, 17, 47, 107, 45, 73, 42, 64, 68, 62, 70, 65, 51, 57, 56, 30, 44, 64, 40, 52, 68, 53, 33, 53, 55, 39, 81, 69, 66, 74, 39, 44, 46, 61, 60, 35, 44, 55, 59, 39, 61, 89, 71, 83, 54, 34, 20, 56, 100, 56, 53, 34, 80, 76, 53, 46, 58, 119, 33, 86, 88, 71, 103, 97, 69, 69, 43, 51, 55, 14, 53, 66, 46, 63, 48, 80, 72, 64, 95, 11, 23, 61, 89, 56, 70, 44, 32, 67, 66, 48, 52, 73, 51, 70, 50, 73, 69, 81, 51, 42, 64, 72, 69, 45, 39, 68, 77, 48, 53, 43, 66, 84, 74, 38, 83, 74, 57, 35, 44, 78, 63, 65, 43, 50, 70, 36, 47, 43, 75, 56, 80, 82, 46, 61, 12, 69, 97, 49, 77, 51, 63, 40, 59, 77, 59, 62, 83, 58, 23, 67, 102, 49, 68, 42, 76, 65, 14, 67, 68, 62, 41, 52, 66, 72, 113, 79, 52, 62, 60, 55, 60, 75, 70, 53, 39, 58, 68, 55, 65, 75, 42, 84, 50, 74, 85, 69, 14, 83, 61, 75, 32, 98, 87, 65, 30, 62, 67, 24, 40, 59, 67, 41, 44, 79, 74, 42, 28, 40, 74, 32, 58, 67, 64, 67, 79, 83, 33, 40, 66, 64, 82, 64, 69, 81, 65, 46, 66, 25, 77, 57, 29, 74, 53, 68, 28, 12, 47, 46, 62, 75, 55, 81, 77, 47, 31, 75, 80, 85, 42, 109, 51, 29, 54, 85, 107, 49, 56, 71, 54, 126, 38, 30, 56, 67, 18, 55, 29, 37, 56, 25, 79, 20, 67, 62, 54, 31, 75, 68, 74, 50, 24, 60, 46, 87, 57, 76, 57, 75, 78, 68, 71, 51, 48, 46, 37, 49, 69, 72, 55, 43, 66, 56, 45, 50, 71, 58, 39, 84, 77, 49, 42, 88, 64, 35, 26, 63, 61, 59, 74, 90, 28, 56, 63, 77, 42, 63, 67, 57, 50, 71, 94, 71, 45, 91, 53, 64, 81, 60, 36, 95, 105, 83, 90, 23, 60, 74, 38, 98, 76, 58, 35, 43, 68, 51, 81, 61, 50, 85, 57, 80, 60, 69, 75, 43, 52, 96, 70, 63, 57, 56, 29, 57, 60, 73, 65, 78, 28, 79, 30, 74, 46, 57, 58, 81, 55, 59, 58, 75, 71, 66, 55, 66, 78, 82, 49, 51, 65, 63, 84, 27, 79, 99, 93, 75, 49, 37, 78, 65, 67, 48, 48, 53, 30, 18, 73, 93, 99, 58, 44, 49, 85, 75, 51, 36, 22, 52, 67, 42, 27, 70, 87, 40, 50, 86, 33, 92, 53, 72, 40, 65, 44, 74, 47, 81, 113, 40, 51, 56, 82, 54, 37, 82, 44, 31, 98, 79, 45, 90, 64, 56, 19, 81, 31, 68, 83, 66, 25, 89, 54, 74, 52, 122, 38, 38, 58, 60, 97, 62, 42, 66, 87, 43, 28, 60, 65, 93, 69, 20, 34, 30, 80, 65, 57, 58, 54, 81, 38, 74, 63, 77, 88, 74, 50, 42, 49, 55, 40, 97, 42, 65, 29, 47, 67, 66, 63, 42, 66, 75, 30, 54, 43, 79, 51, 47, 53, 84, 67, 83, 76, 73, 39, 51, 47, 44, 84, 22, 82, 43, 40, 54, 95, 96, 34, 56, 46, 65, 50, 85, 79, 50, 63, 47, 65, 82, 29, 91, 52, 61, 50, 64, 70, 50, 72, 35, 39, 62, 47, 40, 77, 49, 68, 64, 66, 46, 43, 48, 20, 58, 71, 72, 52, 65, 94, 55, 79, 54, 64, 64, 69, 91, 75, 57, 40, 63, 95, 52, 46, 33, 62, 72, 47, 41, 21, 67, 75, 55, 65, 44, 110, 51, 62, 51, 36, 78, 43, 59, 88, 48, 66, 13, 60, 62, 57, 60, 52, 35, 100, 74, 46, 38, 59, 43, 28, 80, 47, 52, 85, 42, 76, 59, 50, 59, 98, 67, 43, 62, 72, 55, 27, 45, 79, 62, 57, 86, 47, 50, 34, 65, 36, 48, 44, 48, 42, 46, 59, 97, 85, 37, 61, 43, 46, 71, 62, 69, 37, 57, 64, 57, 35, 57, 66, 72, 51, 44, 75, 59, 54, 52, 77, 91, 80, 68, 81, 50, 59, 82, 56, 34, 66, 44, 43, 59, 69, 46, 66, 41, 65, 37, 41, 41, 40, 19, 65, 62, 78, 31, 70, 117, 54, 66, 64, 21, 9, 58, 70, 69, 61, 88, 80, 53, 112, 56, 80, 68, 57, 98, 68, 56, 55, 104, 49, 109, 45, 116, 38, 73, 56, 69, 58, 62, 87, 77, 60, 83, 29, 28, 79, 40, 49, 70, 57, 46, 57, 64, 86, 52, 47, 71, 61, 59, 94, 84, 69, 99, 60, 57, 51, 56, 62, 29, 72, 77, 59, 35, 70, 46, 58, 58, 56, 109, 81, 63, 54, 32, 61, 62, 67, 48, 54, 77, 66, 77, 67, 70, 31, 53, 68, 67, 14, 58, 68, 80, 63, 70, 68, 47, 63, 92, 53, 51, 71, 79, 44, 35, 108, 98, 29, 65, 78, 67, 49, 65, 78, 45, 82, 69, 44, 71, 50, 77, 59, 47, 26, 68, 37, 37, 114, 55, 54, 56, 43, 84, 37, 88, 33, 49, 68, 60, 40, 41, 80, 87, 43, 35, 28, 97, 53, 80, 35, 61, 47, 53, 66, 41, 65, 84, 58, 57, 69, 93, 60, 38, 72, 145, 83, 82, 47, 64, 71, 66, 75, 69, 64, 39, 30, 75, 55, 82, 75, 30, 42, 54, 35, 75, 42, 68, 30, 70, 34, 59, 50, 66, 83, 78, 45, 70, 47, 81, 58, 59, 90, 60, 24, 57, 27, 80, 71, 89, 59, 44, 67, 110, 59, 47, 83, 60, 74, 76, 60, 42, 82, 76, 32, 71, 42, 69, 67, 77, 95, 89, 57, 51, 41, 69, 24, 71, 19, 56, 79, 83, 48, 41, 62, 61, 59, 58, 35, 79, 57, 94, 73, 58, 83, 20, 79, 54, 69, 87, 60, 59, 40, 98, 71, 63, 33, 50, 65, 76, 49, 71, 58, 64, 46, 70, 63, 86, 36, 85, 55, 73, 95, 52, 63, 57, 69, 106, 63, 74, 65, 86, 64, 72, 74, 66, 98, 71, 62, 66, 13, 53, 75, 18, 55, 76, 52, 81, 53, 29, 61, 51, 54, 85, 61, 25, 14, 51, 72, 50, 33, 53, 62, 65, 43, 53, 61, 88, 68, 97, 65, 73, 99, 58, 49, 53, 65, 58, 60, 61, 64, 73, 72, 54, 42, 69, 61, 58, 30, 73, 60, 58, 86, 50, 48, 47, 43, 71, 70, 90, 95, 88, 75, 45, 48, 41, 62, 58, 32, 69, 44, 83, 70, 88, 31, 62, 67, 34, 81, 68, 62, 82, 38, 76, 48, 64, 64, 66, 63, 64, 24, 73, 54, 65, 50, 74, 113, 67, 69, 46, 11, 61, 61, 64, 41, 91, 43, 68, 103, 68, 49, 34, 66, 77, 78, 83, 34, 44, 58, 88, 88, 85, 69, 66, 75, 72, 44, 53, 90, 72, 73, 79, 76, 48, 40, 55, 71, 75, 58, 56, 70, 70, 40, 58, 78, 85, 46, 55, 63, 31, 73, 91, 58, 66, 76, 102, 57, 76, 64, 73, 53, 48, 58, 33, 47, 43, 83, 72, 50, 34, 56, 101, 50, 78, 45, 58, 27, 74, 43, 57, 55, 74, 71, 58, 60, 45, 47, 54, 16, 49, 60, 41, 45, 56, 45, 78, 37, 78, 43, 71, 23, 66, 67, 81, 58, 68, 93, 64, 47, 39, 36, 56, 76, 68, 78, 66, 64, 66, 42, 57, 28, 71, 39, 27, 86, 50, 31, 72, 42, 60, 46, 29, 72, 65, 85, 45, 80, 32, 68, 28, 64, 78, 49, 61, 63, 78, 43, 71, 63, 45, 53, 48, 39, 66, 58, 69, 63, 78, 50, 48, 65, 50, 61, 88, 40, 80, 48, 61, 54, 56, 87, 55, 35, 39, 62, 77, 77, 94, 76, 87, 31, 55, 37, 56, 25, 71, 60, 21, 53, 51, 76, 53, 43, 76, 60, 56, 61, 56, 66, 44, 38, 68, 70, 53, 92, 61, 68, 62, 30, 46, 48, 143, 63, 59, 79, 43, 24, 69, 126, 39, 38, 99, 50, 79, 51, 76, 59, 74, 67, 48, 55, 74, 81, 69, 56, 33, 61, 64, 72, 34, 66, 73, 50, 111, 54, 37, 39, 69, 71, 80, 61, 66, 66, 72, 34, 54, 49, 65, 62, 27, 49, 36, 68, 65, 56, 113, 84, 40, 65, 87, 71, 59, 64, 84, 32, 68, 48, 40, 48, 61, 62, 67, 57, 68, 64, 53, 76, 35, 46, 53, 32, 71, 53, 50, 17, 28, 55, 26, 30, 20, 91, 64, 76, 61, 79, 74, 51, 54, 93, 77, 60, 28, 40, 94, 71, 50, 61, 53, 47, 54, 80, 113, 52, 58, 33, 82, 85, 90, 73, 74, 41, 62, 87, 70, 61, 67, 47, 67, 50, 74, 75, 46, 65, 74, 46, 58, 81, 62, 76, 41, 66, 29, 28, 72, 51, 69, 61, 62, 76, 71, 57, 81, 81, 17, 72, 46, 41, 50, 101, 47, 62, 54, 54, 52, 71, 69, 83, 31, 40, 66, 55, 51, 37, 72, 47, 39, 29, 75, 83, 53, 62, 30, 44, 29, 74, 19, 74, 49, 72, 51, 46, 62, 78, 66, 60, 67, 73, 70, 89, 11, 100, 33, 69, 43, 69, 50, 91, 56, 51, 62, 101, 83, 51, 93, 61, 60, 44, 50, 70, 70, 57, 74, 78, 76, 61, 55, 60, 52, 68, 110, 21, 80, 51, 50, 39, 53, 54, 61, 59, 43, 60, 98, 88, 59, 49, 51, 28, 40, 68, 52, 46, 62, 77, 76, 83, 56, 75, 66, 75, 55, 83, 69, 69, 47, 40, 67, 54, 103, 88, 44, 78, 41, 53, 90, 65, 59, 50, 91, 43, 45, 57, 68, 66, 54, 50, 72, 67, 87, 81, 80, 57, 36, 48, 32, 53, 84, 58, 56, 69, 55, 60, 76, 40, 51, 80, 118, 46, 65, 47, 62, 46, 51, 190, 79, 42, 41, 88, 65, 53, 70, 51, 56, 35, 31, 80, 60, 69, 82, 55, 68, 75, 45, 55, 65, 36, 58, 35, 72, 56, 68, 60, 80, 54, 35, 58, 70, 59, 57, 62, 56, 70, 49, 56, 43, 61, 72, 76, 25, 75, 65, 48, 60, 36, 69, 68, 75, 73, 72, 51, 65, 97, 68, 64, 74, 73, 44, 79, 20, 86, 69, 46, 71, 45, 46, 48, 33, 47, 35, 71, 52, 48, 63, 65, 58, 33, 63, 54, 64, 28, 45, 65, 77, 57, 96, 39, 80, 39, 61, 85, 80, 64, 54, 52, 71, 58, 40, 57, 62, 52, 56, 85, 61, 27, 41, 49, 68, 65, 57, 41, 75, 49, 40, 53, 18, 89, 85, 125, 32, 51, 48, 72, 45, 73, 64, 28, 72, 41, 21, 90, 74, 72, 22, 70, 37, 73, 41, 43, 68, 61, 80, 26, 66, 53, 75, 69, 98, 52, 85, 25, 86, 62, 80, 43, 46, 51, 47, 74, 49, 39, 84, 55, 65, 50, 71, 49, 27, 58, 44, 55, 46, 73, 60, 75, 96, 78, 74, 48, 84, 78, 75, 84, 100, 39, 88, 64, 17, 46, 60, 79, 86, 85, 54, 79, 63, 33, 58, 51, 54, 36, 60, 75, 45, 72, 40, 59, 77, 53, 25, 45, 51, 65, 35, 31, 95, 35, 65, 52, 76, 70, 75, 44, 59, 97, 77, 57, 39, 50, 40, 100, 35, 68, 113, 68, 75, 75, 64, 69, 85, 97, 74, 69, 53, 35, 68, 71, 31, 37, 72, 77, 87, 87, 49, 41, 72, 54, 75, 82, 73, 18, 52, 82, 66, 68, 57, 71, 59, 59, 50, 43, 23, 74, 67, 67, 40, 43, 101, 68, 51, 23, 66, 69, 63, 110, 36, 28, 70, 32, 51, 51, 42, 50, 61, 84, 57, 49, 62, 52, 92, 69, 62, 83, 63, 39, 57, 61, 32, 78, 94, 50, 55, 73, 35, 38, 38, 29, 95, 76, 70, 44, 40, 71, 62, 50, 56, 61, 52, 54, 37, 54, 83, 71, 70, 47, 54, 68, 56, 57, 48, 58, 60, 56, 76, 68, 74, 67, 66, 51, 28, 43, 77, 59, 84, 60, 67, 95, 42, 43, 49, 39, 56, 23, 62, 40, 60, 79, 26, 60, 66, 69, 80, 69, 101, 52, 55, 60, 86, 69, 89, 35, 56, 85, 58, 82, 76, 36, 72, 60, 89, 72, 54, 34, 60, 75, 43, 75, 78, 35, 73, 39, 39, 37, 33, 38, 54, 74, 51, 69, 80, 40, 65, 62, 48, 65, 93, 37, 31, 44, 86, 43, 30, 65, 63, 30, 93, 85, 49, 83, 56, 93, 49, 42, 78, 47, 87, 28, 103, 69, 76, 51, 53, 78, 40, 56, 34, 79, 52, 79, 95, 70, 64, 13, 43, 51, 69, 31, 72, 50, 69, 86, 84, 16, 60, 61, 52, 44, 74, 34, 31, 70, 45, 104, 44, 41, 71, 78, 66, 62, 95, 77, 83, 34, 99, 69, 80, 68, 65, 52, 70, 67, 68, 78, 51, 61, 76, 55, 65, 103, 59, 54, 65, 49, 31, 83, 33, 49, 96, 41, 70, 67, 66, 64, 44, 61, 44, 50, 46, 47, 61, 86, 65, 58, 63, 26, 45, 48, 46, 68, 41, 119, 60, 33, 81, 56, 53, 36, 76, 68, 57, 37, 27, 84, 56, 63, 80, 59, 55, 60, 67, 54, 67, 78, 62, 75, 94, 34, 39, 63, 65, 94, 77, 80, 68, 70, 33, 37, 55, 59, 62, 39, 63, 55, 61, 40, 63, 65, 44, 46, 45, 40, 85, 105, 34, 66, 70, 34, 59, 72, 53, 64, 37, 28, 80, 67, 72, 70, 89, 56, 82, 88, 75, 15, 74, 61, 52, 72, 74, 54, 87, 66, 59, 81, 53, 71, 41, 25, 86, 45, 68, 69, 73, 68, 52, 58, 44, 78, 73, 38, 43, 42, 39, 32, 77, 70, 119, 52, 72, 92, 35, 47, 79, 63, 71, 48, 39, 73, 47, 53, 51, 30, 47, 38, 34, 31, 77, 69, 50, 51, 75, 29, 49, 33, 67, 84, 66, 54, 34, 97, 51, 78, 68, 39, 52, 67, 80, 34, 60, 88, 67, 68, 75, 73, 59, 66, 63, 82, 56, 49, 87, 92, 63, 53, 42, 57, 34, 69, 63, 26, 66, 60, 81, 74, 43, 63, 71, 54, 80, 41, 43, 64, 130, 61, 76, 64, 60, 29, 52, 48, 68, 54, 69, 42, 81, 69, 56, 61, 27, 78, 94, 69, 42, 49, 73, 58, 106, 90, 60, 65, 48, 67, 77, 51, 45, 68, 64, 79, 47, 32, 44, 75, 48, 71, 102, 69, 60, 82, 75, 62, 82, 101, 63, 57, 73, 47, 74, 72, 60, 90, 46, 66, 58, 32, 84, 69, 85, 105, 43, 50, 73, 47, 60, 79, 39, 58, 35, 58, 48, 59, 68, 47, 68, 70, 67, 142, 44, 69, 70, 9, 53, 91, 79, 25, 34, 60, 66, 22, 60, 57, 65, 46, 122, 65, 69, 67, 53, 75, 69, 40, 65, 21, 79, 27, 60, 33, 48, 37, 43, 78, 78, 44, 70, 50, 79, 66, 86, 51, 41, 36, 58, 57, 45, 87, 40, 60, 55, 40, 68, 63, 55, 65, 48, 44, 24, 69, 93, 51, 63, 64, 67, 86, 85, 54, 55, 62, 81, 74, 29, 89, 42, 73, 37, 61, 93, 39, 49, 99, 61, 61, 90, 62, 69, 64, 39, 21, 43, 65, 51, 75, 96, 23, 21, 89, 67, 29, 77, 64, 45, 67, 58, 63, 47, 59, 76, 67, 60, 42, 26, 46, 72, 79, 38, 63, 50, 62, 102, 92, 56, 50, 74, 65, 24, 36, 71, 53, 43, 66, 35, 57, 97, 75, 68, 71, 90, 46, 51, 68, 76, 34, 49, 86, 65, 55, 45, 65, 72, 83, 40, 68, 49, 98, 82, 50, 55, 56, 36, 65, 56, 74, 33, 95, 23, 74, 36, 73, 66, 60, 59, 37, 32, 50, 81, 44, 128, 43, 47, 83, 42, 48, 74, 32, 62, 71, 42, 57, 53, 59, 51, 95, 46, 43, 60, 64, 66, 51, 68, 48, 98, 67, 62, 62, 60, 75, 45, 61, 93, 94, 46, 49, 28, 66, 86, 45, 45, 78, 45, 70, 63, 44, 52, 38, 71, 60, 58, 56, 45, 50, 55, 67, 70, 67, 69, 52, 86, 74, 68, 59, 41, 73, 68, 39, 76, 79, 73, 62, 56, 59, 57, 37, 70, 63, 50, 70, 36, 53, 65, 64, 17, 64, 47, 83, 69, 55, 52, 65, 46, 70, 55, 66, 51, 61, 38, 40, 34, 72, 41, 55, 41, 66, 139, 73, 76, 14, 88, 67, 56, 49, 61, 62, 37, 54, 76, 30, 74, 58, 45, 66, 47, 20, 32, 75, 44, 61, 47, 74, 62, 66, 55, 33, 35, 40, 50, 59, 90, 38, 61, 101, 58, 69, 65, 53, 54, 62, 102, 49, 82, 47, 73, 39, 56, 58, 39, 83, 105, 79, 55, 58, 82, 64, 70, 64, 69, 67, 63, 68, 50, 63, 78, 64, 57, 49, 77, 75, 86, 48, 66, 58, 45, 41, 64, 76, 65, 73, 53, 106, 58, 51, 85, 35, 58, 68, 92, 27, 16, 51, 20, 85, 58, 71, 56, 75, 14, 54, 70, 88, 75, 22, 100, 44, 15, 57, 55, 76, 20, 38, 62, 79, 57, 64, 38, 52, 57, 70, 44, 60, 16, 71, 45, 68, 104, 41, 47, 42, 60, 56, 55, 51, 60, 55, 76, 57, 50, 89, 34, 84, 61, 55, 57, 39, 55, 53, 61, 73, 91, 39, 46, 92, 63, 61, 42, 71, 69, 78, 53, 49, 60, 42, 99, 71, 40, 70, 70, 65, 62, 64, 71, 45, 92, 77, 59, 53, 69, 65, 69, 121, 51, 107, 41, 75, 60, 48, 84, 74, 41, 66, 83, 67, 40, 56, 78, 63, 70, 62, 74, 78, 68, 50, 91, 56, 58, 39, 59, 39, 50, 30, 50, 69, 95, 81, 47, 117, 48, 67, 48, 99, 36, 68, 48, 50, 63, 27, 83, 50, 46, 63, 30, 81, 86, 71, 41, 83, 46, 33, 54, 114, 50, 72, 89, 55, 33, 52, 86, 78, 60, 73, 99, 76, 56, 73, 43, 60, 45, 33, 47, 65, 68, 65, 96, 49, 60, 72, 86, 73, 73, 63, 67, 54, 59, 61, 43, 64, 98, 56, 41, 77, 60, 71, 69, 72, 49, 55, 63, 51, 63, 52, 68, 98, 106, 47, 91, 53, 62, 40, 52, 40, 83, 58, 61, 55, 64, 43, 42, 21, 42, 65, 66, 76, 66, 57, 81, 46, 64, 64, 78, 58, 45, 52, 57, 45, 67, 44, 44, 87, 34, 63, 62, 72, 69, 21, 122, 54, 48, 63, 64, 91, 50, 58, 42, 36, 54, 53, 84, 66, 95, 43, 69, 39, 76, 54, 100, 42, 64, 66, 42, 37, 71, 47, 78, 76, 78, 37, 70, 76, 41, 68, 49, 32, 54, 38, 73, 23, 79, 44, 45, 79, 69, 67, 45, 44, 33, 59, 40, 50, 75, 25, 51, 59, 45, 77, 64, 51, 71, 71, 96, 80, 25, 57, 30, 75, 69, 64, 38, 30, 79, 51, 88, 39, 67, 58, 56, 55, 64, 61, 75, 50, 58, 44, 62, 65, 34, 67, 69, 51, 74, 67, 64, 51, 60, 92, 68, 89, 57, 55, 46, 89, 55, 77, 51, 79, 70, 58, 77, 67, 23, 59, 54, 72, 28, 74, 60, 48, 67, 40, 66, 79, 65, 64, 33, 31, 80, 25, 46, 43, 82, 26, 83, 67, 60, 74, 84, 44, 70, 82, 62, 41, 62, 33, 82, 66, 31, 60, 45, 34, 38, 65, 58, 70, 63, 90, 49, 63, 90, 99, 36, 25, 111, 82, 73, 54, 60, 51, 58, 91, 127, 64, 56, 25, 88, 54, 54, 28, 59, 72, 68, 34, 68, 19, 32, 59, 58, 118, 58, 66, 59, 51, 98, 59, 30, 73, 75, 52, 48, 66, 85, 57, 70, 57, 44, 63, 65, 63, 69, 81, 61, 73, 91, 54, 31, 67, 60, 48, 59, 36, 53, 64, 27, 56, 36, 46, 49, 76, 24, 91, 79, 44, 77, 68, 73, 54, 65, 66, 44, 74, 63, 63, 85, 94, 68, 65, 50, 85, 69, 74, 58, 51, 31, 39, 52, 42, 58, 41, 66, 49, 66, 66, 88, 57, 96, 58, 93, 59, 63, 44, 69, 76, 55, 79, 36, 87, 56, 42, 60, 78, 79, 81, 82, 60, 71, 44, 81, 52, 79, 46, 69, 50, 54, 57, 68, 71, 78, 69, 79, 82, 79, 75, 81, 42, 82, 67, 43, 45, 91, 32, 67, 71, 71, 96, 35, 61, 61, 45, 50, 61, 48, 35, 69, 91, 65, 48, 53, 83, 78, 66, 46, 104, 53, 50, 57, 67, 34, 41, 66, 64, 91, 110, 52, 16, 70, 55, 64, 68, 69, 35, 61, 34, 72, 91, 54, 78, 80, 84, 54, 55, 60, 100, 63, 66, 48, 38, 78, 42, 70, 66, 69, 53, 87, 39, 65, 37, 66, 50, 45, 64, 111, 54, 73, 74, 85, 53, 74, 71, 42, 62, 75, 73, 65, 68, 45, 62, 60, 38, 41, 59, 42, 141, 49, 38, 69, 69, 87, 58, 36, 55, 63, 36, 43, 83, 33, 62, 81, 69, 45, 73, 40, 65, 61, 58, 61, 59, 51, 33, 53, 46, 57, 36, 88, 43, 73, 67, 47, 57, 66, 59, 55, 84, 63, 100, 32, 49, 53, 63, 56, 76, 68, 66, 79, 61, 44, 59, 72, 60, 66, 63, 79, 73, 49, 51, 47, 69, 36, 76, 86, 55, 52, 79, 38, 112, 17, 56, 37, 56, 37, 62, 72, 74, 69, 84, 74, 59, 54, 70, 54, 41, 70, 62, 72, 94, 24, 72, 59, 37, 26, 43, 60, 63, 79, 57, 65, 18, 26, 63, 105, 63, 56, 30, 53, 65, 64, 53, 69, 55, 52, 59, 70, 77, 71, 34, 67, 48, 85, 72, 69, 55, 66, 78, 52, 41, 75, 54, 71, 64, 56, 77, 45, 67, 100, 50, 48, 60, 54, 61, 82, 61, 89, 69, 96, 93, 30, 41, 49, 56, 84, 102, 65, 59, 75, 64, 80, 42, 64, 43, 57, 56, 88, 80, 90, 82, 48, 90, 44, 116, 22, 73, 49, 60, 70, 59, 67, 91, 61, 49, 64, 55, 61, 58, 29, 55, 92, 56, 57, 86, 60, 68, 81, 89, 43, 52, 29, 24, 53, 40, 32, 71, 54, 78, 40, 46, 58, 68, 80, 65, 52, 52, 40, 80, 62, 107, 90, 76, 64, 49, 55, 82, 70, 64, 44, 17, 60, 48, 61, 99, 65, 77, 49, 55, 76, 26, 71, 64, 46, 59, 47, 64, 61, 56, 95, 75, 75, 59, 62, 48, 72, 112, 89, 88, 36, 43, 27, 49, 50, 30, 20, 73, 41, 57, 43, 53, 91, 33, 57, 80, 96, 62, 35, 66, 54, 82, 66, 53, 79, 42, 53, 62, 61, 43, 49, 102, 48, 80, 26, 65, 62, 52, 58, 73, 69, 69, 64, 63, 47, 8, 55, 75, 46, 100, 63, 89, 45, 64, 22, 61, 61, 96, 52, 53, 55, 47, 61, 58, 64, 70, 56, 43, 57, 71, 86, 33, 63, 86, 117, 86, 34, 29, 77, 47, 82, 66, 35, 94, 74, 34, 42, 51, 51, 62, 52, 75, 85, 44, 50, 69, 80, 71, 35, 62, 68, 49, 32, 73, 35, 55, 27, 57, 83, 40, 97, 38, 40, 81, 47, 48, 60, 45, 37, 46, 65, 50, 81, 70, 66, 62, 102, 14, 76, 22, 74, 52, 78, 33, 56, 32, 79, 81, 78, 51, 75, 60, 46, 89, 48, 25, 71, 83, 28, 67, 15, 65, 77, 67, 74, 90, 15, 49, 58, 84, 46, 73, 33, 52, 32, 33, 87, 51, 68, 100, 50, 43, 34, 60, 50, 65, 87, 36, 43, 64, 70, 70, 51, 67, 72, 53, 75, 46, 65, 60, 40, 64, 65, 71, 65, 50, 61, 128, 49, 36, 57, 76, 83, 77, 79, 103, 57, 34, 69, 30, 72, 99, 78, 65, 76, 51, 67, 43, 77, 46, 41, 64, 42, 71, 28, 50, 61, 55, 47, 40, 67, 73, 77, 85, 66, 53, 94, 71, 67, 39, 44, 84, 84, 44, 38, 82, 79, 101, 92, 40, 64, 58, 64, 55, 57, 70, 27, 76, 72, 71, 58, 52, 22, 44, 39, 52, 55, 31, 49, 57, 65, 59, 45, 67, 28, 70, 85, 61, 79, 48, 62, 49, 39, 69, 51, 60, 72, 43, 50, 75, 55, 65, 66, 56, 36, 81, 64, 98, 52, 56, 86, 86, 81, 129, 92, 95, 41, 73, 44, 58, 41, 49, 70, 72, 44, 58, 72, 109, 77, 80, 70, 14, 38, 92, 78, 69, 47, 79, 67, 42, 56, 81, 84, 62, 64, 61, 72, 99, 58, 81, 73, 61, 34, 75, 52, 52, 53, 64, 49, 96, 83, 47, 65, 63, 77, 82, 57, 108, 77, 96, 77, 85, 57, 86, 97, 58, 55, 106, 52, 94, 36, 54, 77, 73, 28, 56, 68, 68, 14, 50, 66, 26, 52, 60, 49, 74, 65, 50, 52, 82, 56, 63, 93, 62, 55, 81, 51, 65, 50, 47, 75, 69, 61, 78, 18, 61, 81, 76, 67, 112, 66, 64, 55, 51, 51, 72, 69, 81, 73, 76, 68, 83, 74, 66, 44, 66, 79, 62, 65, 50, 67, 33, 45, 77, 49, 65, 47, 65, 66, 33, 87, 63, 34, 52, 46, 86, 46, 73, 76, 84, 60, 81, 36, 64, 95, 61, 103, 61, 75, 70, 45, 73, 101, 60, 18, 24, 60, 86, 66, 68, 65, 59, 48, 61, 61, 75, 32, 41, 64, 93, 24, 49, 52, 75, 65, 52, 71, 36, 60, 23, 42, 43, 47, 86, 72, 53, 71, 54, 35, 75, 35, 81, 67, 44, 102, 53, 70, 50, 59, 60, 54, 54, 79, 71, 59, 83, 72, 47, 67, 73, 91, 22, 49, 67, 43, 55, 51, 32, 102, 79, 33, 44, 90, 52, 66, 53, 105, 32, 96, 64, 87, 17, 16, 93, 49, 94, 52, 29, 45, 36, 54, 68, 31, 52, 68, 71, 79, 43, 50, 108, 52, 59, 86, 69, 66, 62, 88, 64, 53, 75, 32, 62, 43, 41, 55, 59, 63, 53, 61, 35, 65, 27, 50, 72, 62, 56, 46, 51, 65, 78, 66, 59, 60, 65, 54, 52, 78, 67, 70, 73, 63, 72, 55, 33, 37, 80, 35, 38, 47, 47, 82, 66, 62, 69, 92, 39, 78, 49, 52, 67, 55, 71, 56, 70, 60, 72, 99, 55, 70, 51, 62, 55, 37, 102, 52, 44, 76, 55, 31, 58, 68, 68, 49, 42, 95, 51, 80, 59, 49, 65, 67, 86, 83, 75, 70, 63, 58, 91, 90, 76, 44, 85, 81, 55, 57, 63, 64, 71, 39, 85, 71, 82, 52, 40, 69, 72, 83, 62, 84, 56, 54, 71, 40, 79, 57, 66, 51, 64, 70, 88, 50, 36, 48, 62, 71, 63, 78, 64, 49, 38, 32, 38, 66, 91, 51, 57, 50, 92, 18, 59, 67, 43, 67, 41, 57, 68, 54, 99, 90, 44, 44, 79, 74, 70, 35, 30, 52, 66, 47, 63, 64, 52, 62, 68, 39, 68, 56, 71, 78, 46, 68, 57, 71, 88, 56, 50, 46, 62, 71, 81, 34, 78, 84, 111, 61, 66, 74, 46, 48, 39, 88, 75, 68, 30, 89, 77, 83, 34, 42, 29, 109, 83, 27, 51, 76, 90, 53, 64, 93, 44, 52, 78, 60, 58, 63, 62, 31, 63, 64, 38, 55, 61, 39, 45, 63, 83, 63, 69, 46, 47, 82, 50, 69, 60, 52, 98, 70, 65, 70, 55, 36, 56, 68, 57, 70, 63, 63, 85, 57, 83, 114, 53, 28, 81, 39, 62, 39, 78, 47, 82, 41, 60, 42, 32, 53, 61, 75, 74, 25, 74, 82, 33, 77, 73, 69, 39, 85, 57, 71, 53, 71, 42, 67, 91, 37, 51, 68, 73, 48, 59, 108, 49, 62, 35, 81, 61, 39, 34, 59, 91, 75, 47, 78, 94, 61, 67, 45, 51, 63, 45, 62, 80, 22, 134, 68, 26, 76, 84, 42, 47, 71, 84, 87, 81, 57, 58, 62, 87, 82, 65, 73, 67, 69, 66, 69, 62, 61, 73, 44, 75, 65, 56, 70, 99, 81, 80, 41, 70, 64, 63, 16, 82, 62, 75, 87, 27, 26, 58, 63, 44, 62, 63, 63, 30, 72, 29, 72, 59, 91, 65, 57, 71, 60, 44, 51, 57, 27, 51, 62, 66, 35, 138, 47, 99, 54, 103, 68, 22, 84, 67, 44, 36, 73, 40, 55, 57, 96, 70, 92, 47, 76, 86, 66, 26, 36, 82, 78, 75, 52, 69, 74, 68, 51, 41, 47, 73, 50, 72, 31, 40, 73, 75, 38, 95, 66, 36, 71, 50, 53, 17, 31, 33, 76, 51, 42, 62, 67, 41, 32, 59, 64, 36, 66, 74, 52, 32, 94, 88, 62, 49, 59, 73, 77, 60, 36, 41, 73, 50, 79, 63, 47, 70, 51, 33, 56, 93, 61, 29, 73, 54, 62, 100, 61, 81, 23, 51, 59, 38, 76, 36, 76, 87, 67, 68, 32, 37, 71, 71, 62, 50, 61, 34, 68, 38, 62, 55, 66, 56, 65, 48, 66, 92, 62, 39, 70, 49, 60, 63, 66, 63, 75, 56, 43, 29, 71, 77, 94, 25, 78, 77, 36, 57, 40, 56, 61, 54, 37, 63, 143, 73, 54, 52, 65, 68, 66, 35, 73, 59, 69, 61, 63, 40, 52, 59, 61, 83, 31, 67, 40, 74, 48, 77, 63, 63, 47, 89, 81, 56, 51, 65, 64, 44, 86, 35, 82, 57, 36, 70, 64, 94, 89, 57, 82, 56, 40, 16, 49, 56, 59, 50, 42, 35, 54, 22, 73, 62, 39, 74, 59, 48, 33, 54, 65, 45, 84, 53, 59, 42, 50, 52, 87, 37, 60, 57, 60, 119, 48, 58, 72, 50, 32, 49, 90, 72, 73, 60, 62, 48, 61, 79, 38, 50, 17, 57, 90, 34, 67, 58, 83, 48, 57, 66, 59, 87, 57, 53, 76, 95, 68, 63, 62, 103, 65, 29, 66, 74, 65, 77, 49, 82, 67, 54, 48, 36, 72, 54, 42, 54, 63, 55, 45, 78, 43, 90, 77, 71, 86, 81, 80, 74, 31, 41, 61, 70, 59, 66, 97, 79, 70, 73, 59, 80, 71, 17, 48, 39, 89, 39, 59, 76, 45, 39, 58, 96, 69, 64, 45, 46, 60, 73, 86, 79, 54, 50, 86, 68, 67, 49, 56, 14, 55, 73, 25, 67, 48, 46, 48, 58, 65, 60, 113, 40, 199, 39, 48, 70, 22, 60, 79, 59, 39, 55, 41, 76, 37, 73, 39, 60, 35, 43, 43, 88, 42, 101, 31, 93, 47, 60, 51, 40, 76, 63, 74, 59, 95, 32, 91, 48, 73, 80, 47, 55, 31, 70, 50, 58, 41, 57, 74, 54, 60, 73, 84, 32, 70, 57, 48, 91, 38, 110, 112, 30, 95, 88, 86, 37, 32, 38, 81, 55, 68, 74, 84, 65, 63, 43, 61, 103, 41, 68, 59, 51, 44, 75, 55, 65, 49, 22, 79, 62, 80, 50, 18, 87, 59, 103, 64, 49, 75, 32, 55, 48, 33, 57, 44, 70, 58, 47, 37, 57, 56, 89, 45, 64, 33, 76, 79, 55, 73, 57, 52, 77, 69, 70, 68, 61, 47, 32, 56, 53, 68, 50, 57, 55, 38, 65, 8, 32, 39, 114, 86, 72, 79, 32, 57, 73, 58, 60, 67, 62, 78, 57, 94, 46, 59, 35, 77, 42, 42, 45, 69, 42, 67, 31, 65, 61, 55, 67, 69, 54, 67, 53, 59, 56, 28, 62, 52, 56, 34, 58, 57, 59, 44, 58, 94, 30, 90, 58, 75, 35, 56, 59, 70, 59, 60, 64, 47, 114, 57, 50, 49, 85, 54, 77, 92, 20, 56, 74, 74, 76, 24, 31, 49, 65, 45, 50, 69, 75, 52, 75, 120, 76, 96, 57, 53, 67, 19, 55, 67, 50, 80, 44, 44, 40, 86, 71, 74, 48, 37, 46, 21, 40, 117, 70, 63, 53, 60, 75, 67, 76, 76, 67, 71, 69, 55, 87, 51, 65, 53, 35, 46, 40, 75, 79, 29, 67, 60, 103, 54, 83, 45, 68, 79, 67, 60, 63, 57, 62, 59, 83, 62, 43, 85, 66, 48, 54, 71, 93, 30, 59, 62, 73, 70, 63, 58, 71, 44, 56, 76, 43, 52, 56, 56, 56, 39, 13, 27, 42, 63, 64, 41, 75, 84, 49, 43, 73, 69, 44, 53, 78, 79, 92, 50, 84, 88, 73, 71, 31, 38, 81, 55, 63, 58, 39, 35, 40, 63, 78, 64, 55, 72, 69, 54, 74, 62, 51, 71, 46, 70, 55, 100, 64, 86, 29, 48, 67, 68, 102, 70, 67, 69, 35, 91, 77, 81, 84, 103, 71, 45, 54, 67, 69, 54, 96, 38, 52, 45, 27, 73, 35, 51, 58, 46, 64, 88, 67, 68, 59, 46, 66, 48, 69, 81, 72, 38, 62, 64, 71, 68, 37, 59, 52, 62, 93, 84, 62, 71, 141, 65, 103, 51, 75, 35, 88, 60, 27, 42, 44, 49, 78, 88, 75, 55, 56, 43, 39, 62, 82, 30, 46, 68, 57, 70, 89, 102, 95, 52, 83, 94, 40, 59, 33, 69, 57, 46, 73, 46, 74, 57, 53, 93, 46, 69, 78, 72, 81, 75, 70, 63, 92, 70, 29, 62, 65, 73, 28, 17, 59, 51, 42, 72, 53, 52, 17, 85, 36, 71, 83, 99, 61, 82, 74, 41, 76, 77, 80, 47, 34, 48, 36, 76, 67, 72, 77, 30, 55, 53, 65, 51, 85, 51, 34, 71, 99, 44, 45, 77, 38, 64, 49, 28, 91, 71, 69, 76, 52, 58, 77, 52, 42, 58, 57, 63, 40, 46, 52, 89, 79, 73, 60, 84, 48, 48, 49, 40, 89, 73, 39, 38, 53, 67, 42, 51, 71, 66, 57, 48, 31, 22, 72, 73, 52, 62, 74, 67, 66, 54, 57, 37, 59, 33, 70, 37, 51, 69, 100, 44, 116, 47, 43, 59, 81, 52, 67, 28, 80, 34, 41, 91, 88, 71, 81, 77, 89, 65, 54, 74, 43, 43, 58, 71, 75, 36, 52, 104, 68, 65, 71, 41, 34, 79, 94, 35, 80, 54, 42, 43, 62, 61, 90, 50, 79, 101, 47, 79, 63, 40, 77, 44, 37, 50, 19, 70, 61, 66, 82, 11, 48, 78, 37, 105, 43, 72, 29, 77, 121, 32, 62, 46, 40, 81, 41, 49, 97, 72, 52, 93, 75, 56, 27, 22, 43, 52, 54, 100, 44, 56, 98, 78, 68, 56, 50, 25, 34, 73, 60, 73, 104, 72, 46, 75, 57, 43, 60, 73, 50, 73, 87, 72, 42, 50, 41, 64, 56, 47, 34, 79, 56, 79, 86, 65, 60, 89, 77, 19, 78, 44, 50, 52, 91, 52, 60, 35, 50, 62, 93, 73, 45, 53, 69, 64, 46, 90, 56, 77, 69, 61, 49, 48, 56, 69, 82, 39, 26, 75, 101, 71, 62, 49, 51, 62, 52, 83, 64, 77, 84, 82, 86, 66, 45, 74, 68, 67, 17, 77, 57, 67, 34, 75, 102, 34, 53, 125, 98, 103, 35, 70, 71, 59, 66, 62, 58, 72, 54, 29, 74, 46, 31, 27, 48, 90, 81, 64, 62, 69, 53, 53, 43, 61, 77, 22, 56, 76, 47, 67, 93, 57, 47, 48, 106, 39, 63, 46, 50, 91, 80, 58, 80, 38, 56, 42, 19, 28, 101, 88, 87, 66, 86, 50, 46, 53, 72, 52, 74, 47, 63, 25, 71, 43, 47, 74, 87, 54, 51, 63, 42, 44, 90, 51, 54, 73, 57, 80, 69, 62, 67, 78, 84, 71, 85, 63, 56, 62, 65, 71, 43, 95, 60, 44, 71, 77, 58, 78, 64, 67, 49, 67, 110, 67, 79, 45, 41, 53, 91, 46, 63, 48, 77, 75, 55, 20, 35, 64, 73, 77, 106, 52, 70, 47, 74, 46, 77, 52, 79, 27, 43, 115, 70, 62, 32, 38, 57, 60, 98, 43, 69, 43, 43, 28, 56, 69, 65, 100, 63, 45, 24, 62, 68, 75, 68, 19, 74, 41, 59, 17, 43, 66, 34, 14, 78, 53, 63, 43, 40, 60, 40, 115, 55, 63, 58, 31, 56, 50, 83, 52, 43, 43, 62, 84, 79, 39, 127, 86, 48, 64, 54, 76, 79, 77, 52, 72, 91, 51, 97, 72, 64, 77, 33, 50, 54, 55, 63, 36, 70, 39, 44, 39, 50, 67, 42, 54, 36, 40, 76, 74, 11, 46, 49, 52, 61, 51, 80, 62, 56, 27, 64, 57, 69, 83, 63, 8, 61, 68, 60, 49, 38, 66, 65, 36, 58, 78, 76, 69, 62, 66, 48, 76, 58, 69, 42, 70, 72, 64, 59, 65, 71, 86, 64, 67, 104, 30, 77, 87, 71, 84, 44, 77, 62, 65, 60, 70, 64, 74, 69, 44, 73, 21, 53, 49, 71, 75, 45, 72, 35, 69, 98, 50, 37, 62, 78, 47, 41, 51, 60, 57, 96, 38, 45, 61, 28, 67, 69, 57, 85, 42, 78, 83, 51, 86, 83, 44, 65, 77, 55, 73, 99, 93, 91, 72, 56, 63, 66, 41, 51, 41, 60, 67, 55, 46, 25, 65, 56, 51, 37, 111, 61, 66, 62, 37, 66, 31, 62, 39, 43, 55, 89, 118, 52, 52, 65, 42, 46, 78, 51, 85, 97, 66, 107, 45, 80, 76, 62, 84, 73, 40, 55, 57, 28, 71, 83, 33, 54, 88, 83, 86, 47, 107, 52, 49, 47, 40, 47, 73, 57, 33, 67, 53, 25, 50, 30, 33, 48, 64, 65, 65, 78, 89, 100, 69, 69, 50, 66, 43, 91, 60, 74, 58, 71, 74, 47, 74, 64, 51, 44, 50, 30, 31, 21, 58, 43, 25, 87, 65, 45, 61, 80, 70, 57, 87, 35, 37, 68, 61, 73, 78, 56, 90, 76, 44, 48, 56, 65, 94, 58, 61, 87, 84, 57, 87, 42, 50, 38, 68, 59, 69, 67, 61, 36, 86, 63, 59, 69, 89, 124, 47, 69, 22, 60, 74, 74, 88, 91, 55, 37, 26, 71, 51, 32, 77, 50, 28, 50, 73, 105, 58, 64, 36, 70, 75, 41, 78, 33, 68, 45, 59, 43, 41, 58, 47, 73, 72, 66, 49, 66, 97, 53, 85, 48, 42, 71, 28, 125, 50, 52, 28, 39, 78, 45, 78, 69, 43, 76, 38, 88, 66, 62, 30, 48, 56, 100, 46, 83, 82, 67, 42, 73, 51, 51, 70, 33, 66, 44, 49, 55, 55, 48, 76, 50, 60, 72, 42, 102, 46, 65, 74, 77, 61, 57, 59, 40, 32, 20, 81, 68, 58, 34, 35, 67, 73, 61, 53, 113, 35, 56, 64, 39, 61, 56, 63, 49, 72, 68, 98, 70, 34, 83, 52, 71, 61, 56, 82, 64, 78, 47, 89, 89, 76, 72, 72, 62, 66, 62, 62, 15, 78, 51, 82, 79, 66, 60, 43, 56, 44, 78, 87, 75, 80, 50, 45, 55, 59, 28, 69, 27, 40, 101, 54, 55, 54, 46, 70, 39, 20, 113, 83, 83, 73, 63, 62, 52, 69, 60, 30, 41, 73, 54, 36, 58, 90, 84, 44, 73, 58, 39, 51, 68, 44, 99, 84, 54, 46, 64, 84, 51, 17, 100, 101, 80, 60, 47, 64, 43, 62, 80, 51, 41, 56, 63, 52, 113, 36, 41, 31, 65, 82, 64, 41, 69, 69, 55, 45, 62, 56, 61, 26, 24, 42, 37, 65, 54, 61, 56, 57, 73, 64, 105, 64, 77, 42, 70, 67, 84, 79, 91, 66, 69, 53, 56, 59, 102, 55, 36, 59, 42, 41, 64, 72, 53, 78, 91, 45, 85, 56, 39, 50, 70, 35, 85, 88, 54, 27, 53, 54, 48, 48, 65, 58, 60, 51, 72, 41, 55, 54, 51, 65, 53, 63, 45, 48, 62, 65, 67, 79, 76, 48, 76, 115, 57, 27, 39, 76, 21, 75, 50, 54, 107, 65, 56, 43, 72, 48, 44, 69, 60, 58, 75, 62, 77, 39, 86, 57, 75, 68, 69, 30, 100, 33, 86, 72, 33, 65, 68, 53, 105, 75, 48, 72, 45, 84, 52, 24, 69, 48, 95, 76, 42, 69, 62, 60, 59, 63, 71, 33, 38, 49, 31, 66, 67, 55, 57, 51, 45, 81, 58, 36, 71, 55, 68, 61, 54, 54, 75, 56, 54, 57, 62, 40, 75, 65, 82, 79, 67, 69, 67, 63, 65, 38, 51, 44, 28, 72, 80, 71, 48, 50, 53, 60, 32, 44, 69, 48, 36, 44, 69, 72, 56, 25, 41, 75, 51, 51, 69, 63, 82, 68, 41, 51, 56, 41, 65, 93, 59, 64, 55, 18, 63, 57, 62, 88, 72, 77, 60, 61, 41, 35, 76, 84, 49, 64, 56, 56, 68, 81, 97, 15, 28, 42, 71, 121, 76, 51, 65, 74, 72, 54, 66, 113, 67, 82, 70, 68, 80, 80, 55, 24, 48, 60, 53, 62, 56, 86, 53, 107, 71, 61, 71, 107, 62, 39, 23, 37, 81, 42, 36, 85, 58, 68, 65, 44, 52, 58, 73, 127, 44, 58, 86, 56, 82, 39, 105, 59, 67, 77, 73, 69, 34, 30, 110, 13, 53, 98, 82, 64, 70, 49, 39, 64, 46, 71, 77, 56, 91, 67, 52, 64, 39, 132, 88, 53, 39, 47, 54, 40, 56, 65, 86, 69, 28, 71, 91, 90, 15, 40, 90, 77, 15, 43, 71, 36, 57, 88, 81, 23, 73, 84, 56, 55, 73, 87, 59, 71, 77, 65, 46, 49, 45, 62, 73, 62, 52, 80, 37, 50, 53, 72, 73, 74, 72, 82, 51, 47, 27, 33, 40, 57, 79, 83, 29, 67, 70, 65, 72, 66, 69, 71, 72, 63, 78, 43, 64, 59, 34, 59, 95, 66, 52, 72, 74, 19, 44, 41, 66, 74, 50, 39, 42, 65, 62, 76, 20, 66, 41, 55, 27, 84, 47, 69, 73, 77, 71, 47, 42, 35, 86, 80, 54, 63, 65, 80, 32, 83, 48, 92, 37, 66, 64, 52, 74, 63, 58, 74, 34, 26, 60, 60, 52, 38, 83, 53, 50, 57, 20, 87, 75, 86, 36, 29, 52, 58, 62, 25, 53, 76, 46, 80, 87, 80, 76, 57, 58, 19, 48, 50, 46, 83, 65, 58, 35, 55, 57, 55, 33, 48, 62, 39, 46, 41, 73, 65, 46, 74, 71, 65, 30, 59, 68, 27, 69, 66, 73, 56, 90, 63, 38, 55, 33, 84, 30, 24, 47, 53, 73, 63, 29, 60, 60, 57, 64, 61, 82, 74, 49, 30, 49, 83, 67, 62, 54, 40, 91, 74, 52, 68, 51, 62, 76, 27, 78, 34, 104, 80, 55, 78, 28, 69, 58, 65, 70, 65, 57, 57, 97, 48, 77, 78, 48, 88, 39, 18, 76, 65, 73, 71, 68, 61, 58, 76, 46, 63, 46, 47, 62, 76, 40, 81, 38, 57, 70, 100, 62, 64, 68, 51, 55, 40, 32, 84, 56, 61, 59, 54, 63, 20, 70, 45, 46, 74, 62, 47, 39, 40, 49, 57, 44, 65, 78, 32, 38, 54, 55, 43, 40, 45, 77, 40, 24, 39, 83, 44, 83, 44, 61, 97, 104, 56, 73, 72, 55, 81, 67, 79, 43, 63, 25, 57, 78, 56, 66, 60, 64, 85, 95, 75, 38, 70, 98, 56, 73, 50, 58, 28, 67, 56, 143, 58, 90, 79, 46, 39, 65, 61, 75, 28, 38, 82, 46, 54, 62, 70, 51, 73, 62, 76, 64, 56, 67, 67, 57, 46, 37, 53, 83, 37, 51, 65, 43, 85, 109, 50, 81, 77, 80, 40, 67, 80, 60, 74, 76, 59, 47, 84, 56, 37, 75, 79, 60, 48, 35, 59, 76, 65, 57, 58, 37, 83, 45, 90, 53, 92, 30, 38, 78, 63, 58, 73, 62, 66, 65, 71, 37, 28, 89, 58, 80, 31, 25, 65, 76, 68, 17, 56, 34, 37, 40, 67, 77, 52, 62, 58, 46, 68, 51, 39, 74, 89, 46, 79, 111, 71, 68, 17, 67, 48, 59, 34, 68, 53, 23, 23, 15, 82, 67, 88, 29, 29, 62, 76, 40, 49, 69, 26, 88, 46, 42, 50, 58, 44, 45, 64, 74, 73, 71, 59, 62, 59, 58, 77, 78, 49, 28, 51, 66, 65, 42, 77, 64, 71, 71, 70, 84, 12, 80, 67, 54, 117, 68, 69, 34, 67, 82, 78, 77, 47, 62, 104, 77, 81, 67, 52, 58, 40, 80, 95, 80, 67, 48, 64, 24, 45, 72, 33, 23, 72, 55, 59, 86, 46, 69, 39, 66, 97, 67, 46, 80, 37, 19, 53, 89, 55, 25, 70, 60, 79, 72, 85, 33, 66, 73, 41, 77, 69, 86, 21, 51, 66, 67, 77, 39, 40, 71, 60, 36, 52, 64, 66, 51, 57, 76, 45, 91, 61, 30, 69, 73, 50, 61, 75, 63, 71, 65, 76, 30, 64, 73, 67, 49, 42, 18, 54, 68, 66, 45, 44, 37, 46, 49, 54, 35, 66, 32, 86, 46, 49, 62, 61, 39, 77, 68, 85, 58, 98, 51, 94, 66, 84, 49, 76, 48, 105, 52, 62, 37, 23, 98, 49, 61, 78, 48, 46, 65, 124, 98, 50, 60, 62, 69, 59, 60, 29, 78, 56, 98, 38, 50, 48, 84, 49, 104, 49, 65, 64, 58, 68, 53, 50, 66, 76, 65, 67, 46, 21, 65, 43, 68, 53, 66, 96, 36, 30, 55, 65, 66, 45, 53, 29, 69, 62, 53, 72, 53, 29, 46, 64, 70, 64, 58, 70, 67, 51, 32, 67, 63, 67, 54, 61, 59, 62, 43, 39, 54, 71, 65, 97, 41, 45, 66, 74, 106, 50, 56, 67, 41, 56, 42, 65, 47, 80, 60, 72, 74, 64, 39, 103, 89, 55, 97, 101, 21, 79, 63, 51, 46, 62, 65, 61, 74, 70, 75, 56, 42, 58, 78, 43, 18, 21, 63, 94, 29, 100, 26, 63, 92, 65, 65, 34, 82, 79, 52, 92, 90, 86, 37, 34, 45, 34, 45, 60, 50, 77, 62, 53, 89, 67, 64, 50, 82, 46, 45, 79, 34, 53, 67, 94, 70, 62, 87, 59, 34, 92, 32, 82, 58, 81, 51, 37, 48, 92, 36, 46, 48, 90, 38, 71, 64, 76, 97, 45, 60, 90, 43, 81, 46, 65, 59, 68, 35, 68, 55, 65, 69, 49, 59, 61, 84, 63, 43, 56, 63, 79, 12, 46, 44, 49, 85, 73, 70, 75, 50, 64, 57, 87, 47, 79, 83, 67, 46, 36, 34, 69, 88, 32, 70, 49, 79, 75, 32, 77, 56, 43, 65, 55, 40, 81, 72, 28, 64, 77, 73, 33, 54, 108, 64, 85, 83, 16, 40, 94, 67, 74, 29, 97, 60, 25, 43, 47, 39, 71, 60, 82, 59, 38, 70, 43, 45, 71, 53, 57, 88, 79, 82, 65, 48, 93, 65, 63, 77, 65, 20, 55, 52, 58, 52, 68, 44, 82, 40, 47, 46, 111, 53, 40, 73, 68, 81, 73, 70, 75, 72, 64, 69, 51, 73, 68, 28, 72, 70, 64, 62, 45, 77, 25, 74, 49, 86, 68, 53, 94, 54, 63, 20, 86, 55, 44, 29, 54, 105, 81, 14, 52, 60, 55, 96, 124, 94, 33, 61, 87, 89, 54, 75, 42, 77, 64, 70, 74, 49, 52, 54, 66, 63, 43, 59, 73, 87, 73, 54, 49, 103, 84, 43, 24, 79, 64, 37, 70, 61, 40, 44, 96, 39, 92, 49, 65, 69, 55, 63, 79, 101, 81, 45, 54, 44, 76, 64, 42, 65, 73, 79, 41, 82, 62, 81, 75, 80, 75, 53, 111, 43, 99, 51, 59, 55, 63, 42, 112, 53, 99, 40, 87, 69, 63, 62, 89, 51, 56, 63, 32, 64, 63, 84, 58, 66, 51, 59, 117, 44, 34, 62, 41, 86, 54, 66, 25, 51, 71, 67, 93, 57, 73, 45, 28, 62, 35, 72, 61, 40, 74, 79, 60, 79, 46, 72, 39, 60, 80, 80, 95, 48, 60, 69, 86, 68, 56, 102, 27, 67, 54, 56, 29, 44, 81, 42, 66, 65, 75, 56, 56, 72, 59, 63, 56, 34, 69, 74, 46, 76, 59, 61, 66, 44, 58, 76, 59, 55, 45, 67, 65, 42, 66, 47, 37, 50, 52, 68, 100, 67, 23, 55, 71, 51, 56, 69, 68, 76, 85, 89, 42, 76, 43, 35, 80, 58, 53, 57, 78, 46, 32, 67, 83, 32, 50, 61, 46, 50, 71, 63, 50, 45, 66, 45, 41, 65, 69, 75, 59, 57, 67, 68, 79, 62, 39, 45, 82, 78, 58, 42, 52, 72, 67, 69, 53, 54, 80, 87, 62, 29, 47, 50, 90, 71, 77, 73, 34, 68, 75, 81, 57, 94, 73, 91, 91, 22, 87, 80, 28, 48, 71, 34, 74, 63, 91, 66, 38, 76, 77, 60, 67, 66, 89, 31, 59, 69, 45, 72, 68, 66, 73, 77, 40, 58, 13, 71, 77, 48, 58, 45, 9, 50, 62, 67, 64, 62, 20, 71, 72, 61, 59, 66, 58, 69, 51, 53, 58, 38, 50, 40, 52, 20, 63, 88, 66, 47, 32, 87, 51, 63, 68, 70, 75, 85, 60, 70, 56, 83, 51, 53, 51, 65, 44, 32, 68, 103, 80, 57, 43, 64, 43, 66, 48, 34, 73, 56, 83, 59, 68, 63, 84, 110, 69, 65, 27, 86, 109, 58, 73, 72, 65, 61, 70, 61, 93, 73, 39, 44, 88, 73, 68, 67, 86, 77, 54, 87, 64, 50, 62, 37, 63, 83, 50, 76, 30, 88, 81, 51, 70, 21, 83, 37, 54, 27, 51, 50, 58, 34, 88, 63, 28, 47, 42, 55, 47, 83, 50, 69, 77, 102, 72, 70, 44, 72, 75, 20, 98, 45, 89, 37, 66, 79, 67, 42, 73, 106, 56, 75, 41, 68, 62, 43, 61, 57, 72, 56, 39, 46, 75, 19, 90, 71, 53, 43, 50, 51, 54, 93, 98, 81, 70, 77, 42, 80, 41, 48, 60, 61, 75, 51, 52, 60, 88, 77, 68, 50, 35, 28, 91, 61, 57, 43, 47, 41, 36, 52, 55, 75, 73, 91, 72, 92, 27, 55, 60, 75, 60, 66, 42, 52, 61, 18, 52, 81, 71, 65, 36, 66, 43, 68, 46, 35, 71, 52, 30, 72, 75, 53, 83, 119, 86, 54, 65, 61, 77, 62, 71, 68, 28, 20, 45, 62, 31, 42, 72, 71, 33, 47, 12, 45, 20, 106, 47, 91, 79, 39, 75, 55, 44, 104, 69, 55, 49, 32, 82, 53, 47, 74, 57, 43, 67, 89, 67, 42, 74, 45, 82, 60, 57, 85, 57, 59, 44, 62, 74, 47, 68, 82, 73, 47, 55, 81, 74, 66, 65, 48, 48, 56, 71, 62, 37, 51, 61, 47, 85, 63, 73, 71, 65, 26, 80, 36, 38, 72, 64, 79, 67, 62, 45, 53, 62, 82, 31, 75, 68, 76, 78, 37, 87, 58, 80, 74, 52, 64, 63, 90, 37, 29, 52, 61, 67, 74, 50, 65, 70, 57, 82, 62, 73, 25, 88, 56, 67, 34, 68, 33, 49, 37, 104, 80, 61, 32, 82, 76, 33, 46, 63, 28, 50, 42, 89, 66, 66, 50, 54, 70, 65, 83, 23, 60, 55, 47, 63, 32, 47, 50, 66, 61, 50, 33, 52, 71, 88, 60, 83, 48, 73, 33, 56, 58, 72, 81, 74, 75, 68, 71, 50, 31, 43, 28, 65, 50, 65, 62, 65, 31, 40, 84, 80, 43, 63, 27, 68, 45, 92, 77, 93, 83, 65, 82, 50, 63, 86, 110, 73, 27, 20, 55, 43, 69, 51, 96, 35, 35, 49, 37, 35, 50, 56, 57, 41, 64, 76, 58, 66, 62, 53, 115, 60, 63, 14, 62, 68, 73, 46, 67, 19, 58, 25, 76, 41, 73, 33, 60, 38, 82, 47, 70, 38, 43, 77, 79, 47, 72, 67, 66, 87, 83, 50, 96, 90, 69, 24, 72, 68, 68, 74, 59, 42, 89, 94, 60, 81, 85, 58, 80, 54, 73, 68, 71, 43, 65, 75, 52, 21, 33, 44, 80, 26, 83, 71, 104, 71, 70, 43, 64, 72, 61, 65, 45, 24, 48, 27, 57, 69, 40, 58, 28, 64, 70, 56, 76, 62, 35, 32, 81, 70, 63, 46, 72, 79, 65, 60, 43, 47, 39, 84, 73, 70, 98, 61, 76, 61, 69, 47, 43, 46, 67, 50, 75, 56, 84, 45, 116, 56, 72, 60, 42, 38, 69, 60, 59, 54, 64, 71, 35, 65, 40, 66, 93, 53, 55, 69, 60, 73, 64, 64, 86, 78, 84, 55, 38, 101, 39, 112, 70, 85, 59, 78, 33, 67, 60, 82, 57, 54, 73, 35, 20, 64, 72, 84, 56, 64, 54, 46, 36, 53, 55, 75, 26, 55, 74, 76, 27, 72, 104, 36, 68, 67, 57, 57, 48, 79, 54, 49, 45, 70, 58, 62, 67, 39, 68, 44, 25, 44, 78, 55, 71, 42, 72, 70, 33, 51, 55, 31, 66, 59, 59, 41, 101, 49, 49, 25, 69, 53, 56, 54, 89, 52, 133, 78, 32, 52, 52, 70, 70, 111, 78, 51, 49, 54, 27, 46, 74, 78, 54, 94, 55, 75, 38, 82, 84, 58, 104, 14, 56, 73, 77, 66, 40, 71, 58, 45, 65, 41, 53, 76, 61, 46, 66, 74, 70, 53, 36, 55, 67, 53, 41, 39, 69, 72, 67, 33, 70, 62, 81, 65, 96, 22, 63, 50, 45, 96, 44, 65, 47, 63, 50, 88, 62, 59, 71, 53, 76, 44, 101, 47, 36, 47, 65, 42, 64, 58, 42, 73, 109, 68, 62, 90, 77, 54, 17, 61, 80, 66, 28, 57, 71, 44, 104, 59, 27, 101, 31, 72, 41, 78, 41, 74, 67, 73, 33, 76, 71, 39, 24, 31, 52, 81, 38, 123, 80, 69, 52, 16, 58, 62, 105, 69, 65, 61, 59, 58, 58, 40, 97, 60, 99, 60, 42, 28, 104, 64, 92, 41, 32, 85, 73, 79, 65, 43, 72, 60, 94, 55, 59, 59, 64, 63, 20, 69, 37, 81, 63, 68, 23, 56, 48, 48, 70, 80, 68, 53, 64, 95, 38, 45, 82, 113, 73, 39, 58, 65, 53, 63, 50, 76, 67, 62, 51, 58, 82, 67, 39, 78, 72, 59, 52, 69, 48, 107, 46, 65, 67, 27, 68, 59, 80, 79, 54, 25, 94, 79, 89, 43, 24, 29, 52, 62, 36, 92, 56, 41, 51, 32, 44, 71, 47, 39, 20, 54, 77, 72, 65, 65, 102, 51, 54, 43, 84, 59, 67, 54, 57, 62, 55, 106, 67, 38, 56, 36, 68, 35, 64, 48, 66, 92, 41, 69, 82, 40, 40, 85, 68, 70, 54, 62, 79, 65, 65, 56, 87, 52, 67, 58, 87, 90, 59, 76, 69, 59, 82, 42, 47, 71, 84, 54, 43, 35, 80, 63, 94, 59, 56, 75, 70, 62, 41, 76, 58, 47, 65, 68, 76, 60, 34, 90, 79, 75, 53, 52, 68, 19, 50, 68, 60, 60, 56, 77, 41, 28, 64, 61, 84, 67, 26, 67, 51, 43, 61, 41, 42, 76, 77, 86, 75, 54, 24, 49, 52, 62, 56, 54, 33, 99, 75, 80, 51, 90, 75, 77, 36, 54, 237, 65, 61, 87, 70, 83, 42, 54, 56, 66, 54, 100, 83, 85, 70, 93, 37, 50, 63, 92, 63, 66, 51, 46, 64, 42, 43, 71, 54, 44, 62, 36, 65, 79, 74, 51, 56, 86, 35, 57, 33, 45, 53, 59, 18, 63, 63, 57, 74, 64, 62, 30, 78, 66, 54, 55, 41, 63, 31, 52, 56, 87, 30, 59, 76, 34, 39, 47, 71, 47, 57, 97, 31, 63, 68, 74, 34, 81, 75, 67, 45, 65, 38, 65, 62, 49, 81, 53, 62, 66, 33, 78, 56, 49, 55, 63, 40, 56, 107, 52, 80, 58, 38, 67, 78, 67, 66, 36, 32, 54, 29, 55, 58, 35, 58, 44, 66, 62, 64, 27, 74, 111, 36, 64, 65, 59, 50, 71, 67, 70, 76, 64, 89, 75, 87, 76, 20, 52, 67, 74, 62, 59, 88, 76, 77, 47, 57, 39, 90, 45, 71, 39, 77, 59, 69, 65, 81, 54, 46, 75, 36, 67, 55, 64, 62, 67, 80, 63, 78, 74, 64, 31, 49, 46, 88, 52, 48, 73, 63, 16, 70, 54, 71, 51, 47, 50, 59, 67, 106, 60, 29, 32, 73, 47, 69, 36, 42, 71, 57, 89, 45, 75, 77, 58, 77, 71, 61, 63, 63, 76, 53, 19, 63, 42, 66, 85, 83, 70, 68, 48, 59, 78, 61, 80, 27, 58, 34, 68, 60, 66, 90, 30, 27, 68, 110, 22, 20, 69, 111, 61, 57, 39, 86, 52, 38, 76, 30, 55, 82, 68, 54, 56, 44, 113, 74, 49, 59, 42, 113, 90, 67, 58, 63, 42, 65, 89, 59, 66, 44, 54, 36, 78, 87, 56, 13, 66, 88, 62, 53, 62, 57, 66, 68, 76, 70, 80, 35, 60, 55, 88, 64, 81, 28, 47, 59, 70, 65, 64, 51, 91, 75, 103, 37, 64, 67, 49, 46, 76, 85, 61, 65, 69, 94, 57, 79, 69, 79, 50, 72, 93, 71, 79, 66, 56, 85, 53, 37, 49, 61, 53, 68, 58, 57, 50, 36, 35, 44, 55, 75, 71, 96, 45, 74, 42, 38, 70, 60, 83, 84, 68, 56, 36, 73, 76, 74, 24, 43, 53, 78, 66, 37, 54, 73, 49, 70, 42, 31, 115, 48, 70, 46, 45, 62, 72, 60, 113, 55, 24, 61, 37, 71, 66, 62, 38, 72, 82, 85, 50, 64, 58, 28, 74, 64, 53, 96, 68, 96, 72, 49, 52, 45, 73, 80, 44, 69, 45, 98, 84, 40, 37, 56, 55, 57, 58, 34, 48, 95, 37, 76, 64, 123, 29, 68, 83, 72, 39, 105, 65, 36, 45, 35, 38, 51, 30, 99, 47, 58, 63, 70, 73, 66, 43, 86, 41, 61, 18, 41, 54, 85, 70, 63, 74, 82, 62, 81, 56, 57, 49, 52, 81, 79, 71, 49, 64, 62, 94, 57, 47, 79, 75, 86, 35, 76, 51, 59, 69, 45, 76, 48, 21, 51, 68, 81, 52, 59, 71, 32, 54, 69, 35, 67, 64, 54, 63, 82, 71, 82, 63, 34, 39, 63, 45, 67, 39, 55, 44, 58, 70, 87, 64, 61, 74, 46, 54, 69, 101, 64, 60, 22, 38, 83, 48, 39, 73, 66, 81, 96, 60, 62, 74, 44, 86, 50, 70, 50, 65, 17, 61, 75, 55, 84, 81, 65, 46, 54, 71, 41, 68, 55, 81, 60, 51, 54, 90, 35, 64, 21, 75, 62, 85, 60, 75, 59, 60, 68, 102, 46, 41, 49, 45, 68, 78, 95, 53, 116, 60, 27, 76, 62, 61, 29, 33, 40, 88, 79, 64, 56, 77, 24, 53, 51, 47, 69, 51, 56, 82, 45, 61, 73, 79, 34, 50, 44, 81, 54, 60, 55, 74, 82, 66, 35, 73, 82, 80, 17, 37, 76, 67, 82, 45, 35, 45, 65, 52, 101, 60, 80, 45, 54, 58, 73, 35, 48, 72, 52, 39, 60, 67, 42, 93, 48, 54, 53, 51, 48, 63, 21, 55, 52, 36, 70, 91, 87, 96, 43, 57, 67, 68, 47, 81, 80, 78, 48, 64, 43, 63, 55, 30, 61, 30, 65, 80, 17, 77, 45, 84, 47, 32, 47, 44, 47, 41, 35, 54, 45, 56, 67, 62, 31, 59, 61, 78, 68, 80, 63, 36, 52, 152, 39, 74, 61, 90, 39, 26, 75, 68, 38, 61, 82, 51, 41, 73, 70, 73, 46, 43, 34, 70, 39, 52, 51, 69, 56, 94, 55, 43, 125, 67, 65, 37, 85, 65, 50, 56, 74, 77, 47, 63, 24, 63, 42, 44, 28, 74, 55, 55, 56, 62, 47, 47, 49, 40, 38, 68, 81, 77, 87, 56, 41, 59, 32, 46, 46, 129, 35, 52, 33, 68, 45, 95, 49, 97, 52, 97, 47, 70, 48, 88, 54, 80, 119, 117, 64, 84, 50, 43, 34, 61, 60, 75, 71, 106, 52, 59, 37, 61, 92, 66, 54, 46, 83, 51, 22, 20, 84, 35, 46, 83, 42, 112, 42, 48, 36, 67, 33, 42, 45, 79, 67, 59, 76, 60, 72, 62, 33, 58, 85, 54, 47, 76, 49, 66, 48, 35, 25, 58, 71, 21, 40, 48, 52, 115, 31, 61, 47, 63, 29, 74, 67, 67, 55, 74, 18, 41, 44, 74, 69, 43, 37, 92, 84, 65, 46, 59, 42, 42, 25, 38, 76, 69, 51, 44, 70, 47, 33, 52, 63, 73, 55, 69, 64, 33, 85, 65, 42, 58, 42, 35, 82, 88, 32, 49, 98, 46, 84, 66, 49, 80, 62, 41, 79, 66, 61, 38, 73, 36, 50, 48, 73, 34, 40, 58, 77, 45, 37, 40, 42, 52, 51, 46, 69, 79, 38, 59, 23, 82, 69, 69, 75, 64, 60, 61, 55, 68, 37, 77, 70, 57, 71, 59, 57, 61, 13, 41, 56, 34, 55, 55, 46, 65, 87, 77, 87, 48, 57, 77, 51, 70, 37, 67, 34, 47, 17, 65, 39, 63, 39, 75, 41, 83, 60, 42, 50, 95, 58, 45, 72, 53, 64, 48, 70, 50, 48, 47, 82, 17, 28, 89, 73, 31, 80, 57, 63, 86, 67, 53, 74, 55, 81, 59, 30, 74, 110, 78, 64, 48, 67, 88, 63, 40, 24, 69, 41, 32, 94, 57, 81, 41, 52, 50, 53, 59, 51, 39, 80, 52, 72, 73, 36, 45, 75, 51, 62, 70, 36, 75, 53, 82, 49, 50, 65, 48, 50, 70, 66, 55, 75, 58, 85, 52, 64, 80, 85, 62, 50, 55, 88, 47, 64, 49, 82, 66, 62, 92, 43, 56, 67, 25, 68, 63, 57, 78, 70, 66, 66, 62, 80, 54, 114, 56, 70, 96, 71, 24, 62, 72, 30, 31, 79, 69, 76, 45, 77, 79, 68, 43, 73, 75, 29, 54, 63, 75, 48, 23, 65, 68, 75, 47, 61, 60, 84, 45, 86, 40, 53, 59, 77, 38, 89, 27, 65, 55, 40, 80, 21, 21, 50, 45, 74, 32, 65, 61, 63, 72, 43, 74, 57, 61, 57, 65, 42, 62, 95, 56, 27, 64, 50, 32, 66, 89, 77, 124, 74, 53, 31, 38, 44, 96, 51, 29, 63, 49, 40, 71, 71, 56, 65, 81, 79, 48, 72, 80, 71, 67, 34, 65, 72, 66, 53, 44, 54, 42, 73, 76, 44, 48, 50, 73, 41, 71, 65, 83, 55, 82, 33, 29, 65, 79, 49, 82, 52, 74, 39, 42, 61, 79, 47, 35, 73, 25, 51, 50, 64, 78, 51, 75, 51, 65, 94, 57, 62, 41, 73, 80, 75, 46, 18, 113, 36, 66, 91, 74, 70, 59, 69, 70, 76, 42, 43, 81, 48, 59, 66, 33, 60, 90, 45, 40, 73, 39, 26, 65, 34, 88, 63, 93, 71, 30, 73, 83, 48, 66, 54, 35, 77, 87, 94, 69, 66, 41, 51, 22, 88, 65, 94, 50, 35, 83, 73, 64, 67, 69, 73, 41, 40, 58, 61, 80, 64, 71, 70, 70, 62, 70, 42, 44, 86, 69, 66, 55, 101, 71, 42, 69, 77, 81, 41, 48, 36, 67, 64, 38, 64, 68, 43, 86, 71, 54, 65, 37, 69, 72, 65, 51, 87, 40, 65, 31, 75, 62, 66, 58, 96, 82, 64, 48, 56, 56, 73, 56, 72, 55, 69, 82, 71, 21, 57, 47, 62, 61, 15, 63, 35, 83, 51, 52, 92, 59, 66, 65, 62, 59, 37, 68, 62, 102, 61, 90, 100, 67, 42, 97, 89, 87, 65, 16, 35, 74, 63, 60, 32, 39, 25, 35, 64, 77, 74, 25, 70, 48, 49, 70, 22, 75, 62, 100, 31, 73, 42, 61, 40, 56, 65, 66, 40, 101, 66, 67, 82, 52, 87, 68, 42, 47, 61, 65, 103, 74, 63, 76, 46, 86, 49, 67, 62, 100, 74, 61, 54, 56, 71, 123, 69, 50, 47, 59, 34, 61, 69, 64, 45, 53, 88, 26, 62, 59, 83, 44, 72, 42, 75, 56, 72, 101, 81, 49, 71, 86, 54, 50, 88, 39, 90, 83, 53, 50, 52, 24, 67, 51, 61, 48, 49, 56, 42, 32, 87, 76, 69, 50, 54, 65, 72, 48, 85, 70, 78, 26, 67, 85, 48, 42, 77, 76, 59, 52, 46, 60, 31, 73, 48, 55, 77, 55, 22, 56, 32, 56, 48, 75, 110, 63, 68, 71, 56, 63, 78, 46, 83, 51, 66, 74, 77, 62, 81, 74, 75, 50, 77, 51, 75, 45, 61, 59, 64, 70, 70, 56, 64, 89, 64, 42, 89, 38, 47, 52, 53, 72, 56, 81, 78, 120, 48, 30, 69, 70, 48, 42, 67, 58, 62, 85, 40, 70, 74, 53, 69, 121, 83, 51, 70, 57, 16, 73, 75, 33, 56, 28, 84, 25, 70, 70, 65, 70, 73, 69, 63, 87, 55, 56, 63, 71, 33, 67, 67, 40, 44, 50, 71, 74, 50, 55, 30, 106, 71, 74, 88, 71, 61, 56, 48, 62, 42, 67, 62, 22, 68, 90, 65, 40, 68, 79, 72, 43, 62, 80, 78, 59, 26, 55, 34, 45, 60, 66, 62, 82, 48, 61, 25, 69, 28, 71, 60, 61, 54, 57, 59, 83, 75, 46, 83, 46, 78, 55, 85, 64, 63, 59, 69, 51, 53, 63, 56, 38, 45, 41, 80, 70, 50, 38, 94, 88, 20, 41, 76, 72, 69, 79, 65, 76, 66, 94, 88, 44, 88, 61, 58, 76, 56, 143, 44, 16, 75, 39, 68, 124, 62, 68, 69, 72, 31, 54, 54, 64, 50, 87, 67, 65, 76, 68, 30, 32, 91, 54, 39, 21, 74, 69, 38, 53, 61, 64, 75, 40, 83, 80, 27, 75, 33, 63, 103, 63, 49, 71, 70, 78, 38, 44, 58, 72, 37, 71, 64, 71, 89, 65, 57, 75, 63, 27, 88, 70, 69, 80, 65, 39, 96, 89, 88, 51, 69, 44, 33, 51, 60, 100, 56, 72, 74, 92, 48, 88, 35, 66, 45, 42, 91, 62, 49, 62, 53, 31, 49, 35, 82, 76, 56, 42, 71, 45, 40, 74, 90, 64, 106, 73, 55, 75, 65, 68, 67, 59, 53, 77, 66, 61, 89, 37, 64, 62, 78, 47, 41, 58, 56, 55, 73, 63, 35, 95, 76, 45, 82, 61, 56, 39, 67, 49, 75, 57, 65, 17, 69, 69, 49, 56, 60, 81, 51, 49, 34, 58, 62, 57, 14, 55, 79, 70, 61, 77, 75, 55, 32, 40, 62, 50, 27, 49, 38, 37, 57, 60, 51, 88, 30, 53, 76, 36, 69, 78, 66, 50, 39, 47, 62, 22, 66, 50, 48, 66, 78, 68, 42, 52, 54, 59, 69, 43, 75, 77, 86, 71, 56, 61, 77, 70, 29, 50, 50, 87, 53, 52, 76, 74, 75, 78, 55, 88, 67, 36, 64, 51, 62, 54, 65, 91, 25, 51, 82, 72, 52, 72, 59, 46, 85, 52, 73, 46, 50, 33, 46, 102, 67, 69, 65, 62, 16, 65, 62, 61, 38, 25, 29, 67, 81, 44, 71, 22, 80, 66, 72, 40, 52, 133, 85, 69, 31, 71, 82, 49, 56, 65, 98, 55, 61, 77, 60, 44, 67, 57, 64, 59, 61, 51, 63, 41, 78, 48, 70, 70, 50, 31, 46, 42, 65, 61, 32, 52, 34, 86, 39, 92, 44, 48, 71, 60, 56, 44, 72, 43, 27, 62, 73, 57, 27, 39, 58, 71, 65, 61, 32, 90, 60, 73, 30, 53, 57, 53, 75, 84, 40, 88, 41, 52, 51, 46, 39, 46, 81, 52, 73, 46, 77, 61, 53, 53, 83, 70, 44, 73, 41, 35, 74, 60, 55, 51, 58, 91, 54, 26, 33, 82, 62, 73, 50, 92, 56, 25, 79, 238, 35, 32, 65, 51, 46, 72, 72, 90, 70, 35, 56, 52, 65, 48, 115, 50, 57, 67, 40, 16, 69, 35, 57, 55, 53, 53, 59, 73, 73, 70, 50, 64, 28, 49, 40, 50, 78, 65, 70, 74, 42, 36, 57, 69, 59, 71, 61, 71, 43, 64, 76, 36, 69, 59, 51, 72, 77, 43, 44, 62, 50, 49, 63, 50, 68, 41, 86, 24, 84, 54, 90, 47, 63, 35, 60, 78, 61, 66, 66, 64, 58, 53, 71, 81, 82, 64, 71, 50, 48, 42, 94, 66, 66, 94, 91, 75, 64, 59, 33, 69, 58, 70, 81, 28, 76, 63, 101, 69, 85, 84, 56, 90, 74, 55, 85, 25, 85, 89, 71, 55, 61, 48, 74, 88, 47, 43, 67, 54, 63, 57, 71, 75, 113, 53, 40, 57, 74, 62, 68, 82, 41, 52, 47, 39, 92, 50, 46, 68, 30, 39, 58, 79, 78, 50, 67, 47, 64, 42, 37, 55, 57, 82, 56, 40, 49, 29, 88, 69, 76, 60, 50, 26, 72, 25, 36, 49, 55, 60, 38, 82, 36, 47, 51, 79, 48, 51, 79, 47, 65, 53, 70, 52, 51, 58, 15, 67, 34, 43, 58, 80, 86, 65, 43, 72, 42, 84, 85, 28, 64, 110, 53, 56, 75, 70, 49, 63, 67, 65, 40, 47, 71, 32, 61, 62, 65, 23, 50, 63, 29, 47, 67, 94, 69, 70, 90, 33, 70, 23, 82, 31, 35, 56, 35, 59, 67, 66, 70, 71, 55, 54, 58, 78, 42, 56, 52, 78, 93, 59, 14, 83, 82, 63, 63, 70, 70, 62, 52, 67, 42, 85, 41, 74, 39, 69, 106, 48, 63, 70, 81, 94, 111, 91, 56, 73, 46, 74, 65, 54, 90, 69, 61, 70, 70, 50, 84, 45, 69, 72, 33, 57, 40, 31, 88, 93, 82, 60, 27, 79, 84, 51, 59, 73, 71, 64, 18, 59, 52, 78, 24, 54, 49, 48, 83, 42, 56, 64, 55, 79, 46, 66, 69, 88, 69, 62, 73, 53, 70, 43, 72, 67, 75, 19, 73, 36, 94, 108, 75, 53, 52, 66, 44, 73, 118, 77, 103, 30, 73, 44, 58, 53, 49, 109, 30, 84, 95, 60, 61, 65, 83, 44, 74, 83, 69, 51, 26, 56, 87, 51, 65, 66, 71, 56, 99, 40, 114, 65, 81, 76, 54, 26, 53, 42, 68, 76, 65, 43, 58, 63, 52, 70, 56, 72, 54, 103, 43, 33, 73, 48, 30, 84, 75, 74, 33, 75, 74, 113, 41, 82, 68, 37, 62, 72, 56, 64, 41, 56, 34, 86, 69, 76, 62, 50, 41, 75, 111, 58, 38, 49, 85, 55, 35, 56, 64, 88, 59, 61, 69, 57, 48, 65, 37, 41, 76, 22, 31, 42, 25, 112, 59, 74, 58, 76, 55, 82, 75, 70, 65, 70, 72, 123, 28, 33, 69, 64, 79, 79, 42, 69, 84, 96, 63, 44, 102, 64, 42, 69, 80, 64, 68, 36, 91, 76, 51, 60, 73, 41, 33, 69, 67, 31, 88, 74, 66, 20, 81, 85, 70, 37, 34, 62, 51, 39, 70, 81, 69, 62, 37, 69, 53, 63, 28, 64, 65, 69, 34, 34, 51, 76, 15, 63, 64, 40, 63, 61, 42, 56, 91, 36, 74, 79, 73, 65, 41, 43, 76, 64, 69, 64, 79, 92, 31, 43, 25, 69, 84, 68, 100, 32, 99, 83, 38, 59, 61, 58, 63, 68, 86, 82, 91, 82, 38, 41, 105, 69, 53, 70, 60, 64, 45, 49, 70, 69, 61, 68, 38, 50, 62, 60, 112, 93, 96, 53, 42, 54, 57, 52, 60, 90, 77, 43, 24, 79, 66, 76, 41, 38, 61, 117, 93, 96, 33, 85, 44, 82, 46, 70, 53, 73, 68, 48, 55, 78, 93, 68, 79, 52, 91, 43, 67, 42, 61, 77, 66, 38, 20, 88, 79, 84, 67, 84, 78, 53, 64, 120, 16, 45, 82, 50, 47, 46, 60, 82, 96, 39, 26, 54, 67, 59, 67, 75, 87, 60, 72, 56, 75, 49, 57, 14, 87, 47, 37, 77, 56, 37, 115, 106, 40, 26, 101, 76, 67, 42, 69, 73, 44, 75, 67, 65, 66, 36, 72, 63, 49, 64, 50, 64, 61, 54, 64, 40, 58, 60, 68, 43, 48, 60, 40, 34, 65, 49, 97, 80, 73, 54, 55, 50, 49, 57, 57, 76, 51, 67, 72, 59, 51, 82, 57, 52, 38, 40, 73, 42, 106, 76, 24, 57, 72, 58, 83, 56, 64, 57, 34, 97, 41, 62, 75, 39, 53, 57, 72, 60, 13, 87, 37, 36, 69, 36, 81, 85, 66, 40, 39, 68, 20, 59, 67, 75, 37, 61, 59, 81, 110, 77, 87, 29, 52, 66, 43, 70, 42, 70, 69, 73, 39, 60, 77, 33, 50, 82, 67, 84, 82, 91, 54, 51, 29, 61, 62, 60, 71, 91, 93, 57, 89, 61, 82, 46, 32, 80, 36, 65, 83, 80, 38, 40, 47, 52, 30, 100, 52, 71, 61, 33, 47, 56, 44, 75, 76, 78, 56, 69, 28, 68, 66, 78, 76, 84, 35, 54, 63, 47, 60, 59, 74, 59, 69, 56, 61, 63, 47, 82, 56, 65, 46, 68, 70, 41, 92, 62, 72, 61, 64, 45, 49, 73, 32, 64, 49, 49, 42, 68, 41, 58, 70, 79, 39, 59, 42, 57, 73, 83, 36, 75, 43, 68, 26, 38, 63, 23, 46, 35, 64, 60, 46, 24, 63, 61, 46, 39, 40, 51, 58, 58, 16, 59, 63, 50, 44, 67, 46, 70, 49, 61, 66, 62, 45, 61, 79, 63, 96, 36, 54, 103, 78, 58, 96, 54, 77, 104, 16, 80, 67, 52, 66, 33, 70, 42, 43, 58, 84, 57, 51, 79, 67, 31, 69, 62, 57, 77, 29, 84, 87, 64, 75, 74, 30, 62, 54, 50, 85, 75, 96, 79, 80, 68, 43, 74, 64, 85, 57, 76, 21, 33, 50, 48, 57, 65, 35, 68, 42, 39, 75, 66, 59, 44, 84, 101, 42, 69, 55, 55, 53, 81, 111, 71, 63, 70, 86, 52, 82, 62, 72, 73, 78, 63, 70, 18, 66, 64, 37, 121, 70, 59, 67, 51, 48, 69, 104, 65, 61, 49, 77, 61, 89, 65, 54, 49, 57, 55, 80, 67, 59, 76, 95, 75, 32, 48, 65, 42, 114, 68, 68, 85, 72, 60, 55, 88, 35, 91, 44, 101, 80, 47, 51, 70, 53, 52, 63, 51, 97, 70, 56, 68, 28, 61, 40, 58, 79, 68, 78, 28, 32, 56, 54, 99, 55, 65, 78, 42, 52, 61, 31, 70, 67, 71, 73, 74, 93, 77, 26, 35, 71, 78, 53, 30, 26, 28, 56, 56, 47, 67, 60, 88, 19, 56, 64, 25, 65, 72, 70, 81, 69, 112, 36, 86, 45, 20, 80, 42, 46, 76, 73, 67, 69, 42, 40, 102, 39, 82, 55, 60, 41, 54, 64, 89, 88, 77, 68, 38, 29, 57, 39, 32, 72, 46, 81, 105, 33, 49, 48, 72, 59, 42, 59, 51, 75, 88, 82, 68, 65, 27, 52, 40, 76, 47, 74, 59, 33, 48, 65, 43, 75, 79, 79, 42, 54, 64, 58, 44, 69, 56, 76, 84, 35, 23, 69, 63, 49, 56, 71, 60, 66, 94, 83, 45, 56, 70, 55, 79, 55, 77, 109, 52, 76, 83, 72, 94, 75, 39, 29, 63, 48, 89, 74, 58, 36, 31, 59, 79, 67, 62, 79, 25, 54, 45, 43, 66, 60, 16, 71, 65, 38, 35, 55, 45, 39, 81, 78, 68, 55, 44, 43, 68, 59, 59, 101, 63, 56, 34, 54, 65, 90, 60, 39, 51, 72, 59, 58, 96, 95, 39, 57, 72, 87, 51, 74, 59, 46, 30, 64, 62, 69, 57, 41, 64, 48, 71, 57, 75, 46, 77, 75, 45, 47, 24, 79, 68, 73, 45, 87, 68, 58, 66, 73, 56, 34, 67, 45, 79, 60, 64, 61, 25, 68, 75, 72, 37, 47, 37, 94, 87, 74, 73, 60, 36, 37, 52, 59, 72, 30, 102, 46, 69, 37, 54, 53, 72, 76, 69, 32, 81, 58, 34, 72, 47, 60, 45, 47, 57, 75, 93, 40, 68, 52, 56, 61, 75, 25, 79, 47, 80, 40, 75, 70, 90, 57, 29, 74, 78, 38, 38, 77, 46, 62, 74, 40, 66, 31, 45, 75, 49, 62, 54, 63, 64, 59, 52, 47, 61, 44, 37, 80, 73, 109, 70, 58, 48, 47, 43, 60, 70, 104, 39, 42, 49, 77, 42, 72, 100, 45, 76, 61, 84, 41, 54, 87, 63, 30, 61, 70, 60, 65, 18, 81, 71, 46, 68, 52, 63, 33, 52, 52, 49, 61, 73, 27, 39, 66, 65, 20, 67, 51, 53, 42, 61, 77, 54, 59, 34, 97, 59, 61, 81, 46, 60, 50, 67, 31, 56, 119, 76, 65, 70, 49, 83, 47, 63, 81, 45, 38, 54, 103, 78, 33, 55, 48, 90, 52, 43, 44, 62, 57, 70, 45, 22, 38, 96, 68, 58, 64, 52, 59, 40, 39, 70, 52, 48, 76, 55, 64, 61, 67, 43, 47, 65, 34, 81, 75, 92, 74, 87, 69, 32, 24, 55, 47, 106, 66, 54, 48, 84, 65, 74, 38, 52, 43, 72, 66, 58, 70, 46, 58, 68, 66, 75, 88, 68, 109, 30, 35, 63, 45, 19, 62, 77, 96, 72, 58, 70, 56, 59, 70, 64, 78, 57, 50, 83, 63, 30, 70, 53, 58, 56, 64, 83, 40, 68, 55, 48, 53, 89, 65, 77, 65, 49, 102, 45, 65, 64, 56, 55, 81, 51, 78, 29, 42, 67, 53, 75, 78, 29, 43, 54, 70, 37, 51, 69, 76, 84, 70, 69, 51, 67, 58, 67, 63, 67, 67, 42, 67, 88, 84, 101, 45, 38, 45, 58, 75, 70, 31, 55, 29, 51, 53, 59, 49, 28, 63, 53, 77, 52, 57, 91, 60, 35, 58, 55, 46, 47, 29, 63, 79, 19, 34, 60, 74, 41, 32, 87, 67, 43, 41, 95, 79, 32, 73, 32, 58, 44, 50, 56, 89, 68, 54, 38, 54, 68, 72, 67, 72, 39, 75, 86, 68, 62, 52, 46, 80, 39, 22, 65, 49, 87, 80, 68, 57, 66, 75, 56, 42, 62, 26, 63, 78, 62, 100, 85, 62, 49, 42, 51, 30, 65, 61, 54, 91, 36, 21, 74, 80, 88, 39, 57, 64, 34, 83, 84, 63, 35, 25, 83, 46, 56, 103, 66, 82, 65, 46, 98, 50, 96, 35, 45, 74, 63, 77, 44, 56, 32, 96, 58, 32, 108, 93, 68, 66, 44, 77, 55, 78, 51, 73, 58, 88, 53, 86, 79, 32, 25, 60, 72, 47, 24, 56, 63, 77, 48, 78, 73, 73, 81, 85, 51, 58, 69, 36, 31, 70, 42, 61, 46, 58, 80, 36, 80, 67, 36, 34, 49, 92, 80, 49, 54, 85, 45, 54, 66, 59, 57, 86, 64, 80, 54, 61, 21, 83, 51, 98, 108, 73, 21, 66, 74, 57, 69, 18, 44, 31, 57, 63, 61, 84, 52, 72, 116, 78, 60, 71, 42, 27, 49, 75, 67, 89, 36, 53, 27, 69, 58, 127, 46, 101, 63, 48, 62, 72, 88, 82, 62, 113, 70, 89, 58, 60, 68, 92, 82, 68, 37, 57, 79, 79, 55, 74, 24, 87, 57, 73, 61, 64, 38, 29, 87, 82, 31, 80, 57, 61, 92, 48, 37, 24, 54, 35, 30, 80, 42, 38, 59, 50, 61, 68, 29, 41, 70, 68, 61, 64, 59, 73, 68, 48, 44, 70, 71, 43, 71, 69, 25, 72, 94, 61, 50, 72, 85, 62, 83, 54, 68, 42, 79, 44, 61, 61, 78, 92, 64, 32, 75, 57, 50, 85, 81, 66, 54, 60, 40, 52, 41, 59, 56, 40, 46, 81, 61, 89, 35, 59, 74, 54, 70, 23, 64, 81, 69, 65, 62, 89, 47, 68, 32, 54, 77, 14, 52, 73, 42, 64, 55, 73, 79, 47, 83, 40, 43, 52, 47, 26, 72, 39, 41, 26, 66, 78, 56, 63, 65, 20, 57, 33, 54, 71, 90, 40, 31, 91, 64, 71, 55, 25, 82, 95, 92, 87, 44, 84, 68, 53, 69, 63, 61, 59, 61, 51, 60, 44, 62, 18, 33, 67, 61, 55, 63, 61, 58, 83, 50, 69, 57, 45, 77, 49, 56, 93, 40, 51, 80, 53, 51, 64, 65, 66, 73, 72, 84, 61, 75, 90, 69, 66, 85, 49, 37, 69, 60, 44, 61, 34, 71, 60, 64, 62, 57, 74, 76, 52, 45, 38, 31, 77, 58, 39, 30, 42, 30, 51, 50, 37, 83, 60, 56, 43, 55, 71, 20, 62, 21, 41, 62, 74, 60, 80, 76, 32, 65, 24, 61, 65, 68, 66, 73, 26, 65, 70, 70, 90, 51, 71, 36, 70, 81, 80, 75, 78, 84, 59, 65, 50, 57, 66, 76, 70, 44, 34, 67, 73, 43, 42, 69, 69, 30, 66, 53, 65, 45, 79, 65, 46, 79, 48, 82, 45, 77, 86, 44, 39, 63, 48, 54, 69, 19, 43, 51, 90, 37, 49, 81, 36, 91, 70, 84, 63, 44, 67, 51, 40, 44, 55, 69, 97, 83, 73, 69, 33, 64, 88, 43, 67, 44, 65, 55, 56, 38, 70, 33, 78, 53, 51, 44, 84, 54, 45, 77, 69, 84, 43, 41, 31, 77, 83, 46, 46, 73, 70, 83, 66, 29, 55, 88, 39, 77, 62, 51, 57, 59, 53, 31, 41, 25, 41, 55, 28, 35, 49, 67, 56, 61, 86, 62, 55, 23, 35, 70, 35, 61, 62, 64, 53, 84, 59, 65, 44, 64, 73, 45, 62, 66, 63, 66, 24, 51, 75, 42, 98, 52, 55, 74, 61, 42, 39, 40, 97, 48, 36, 60, 70, 59, 92, 67, 54, 98, 73, 70, 22, 57, 55, 59, 21, 41, 71, 70, 42, 51, 80, 29, 65, 34, 85, 71, 68, 55, 73, 82, 93, 77, 48, 43, 33, 71, 66, 78, 66, 30, 61, 84, 51, 53, 49, 52, 47, 70, 32, 88, 50, 53, 39, 49, 44, 50, 71, 69, 50, 39, 66, 66, 60, 87, 69, 40, 88, 82, 26, 68, 55, 90, 30, 81, 83, 52, 47, 41, 62, 53, 72, 53, 54, 80, 61, 46, 78, 63, 96, 75, 58, 68, 61, 32, 36, 64, 15, 63, 85, 79, 72, 66, 55, 63, 57, 61, 35, 65, 36, 58, 55, 59, 47, 90, 95, 14, 87, 56, 67, 76, 56, 71, 68, 56, 68, 61, 78, 27, 67, 38, 44, 56, 68, 66, 64, 39, 46, 78, 37, 85, 64, 55, 57, 20, 44, 64, 70, 83, 87, 57, 72, 63, 55, 68, 42, 62, 59, 46, 37, 71, 36, 47, 95, 68, 72, 44, 69, 86, 66, 51, 24, 80, 72, 35, 63, 21, 85, 50, 78, 65, 80, 59, 53, 53, 79, 58, 63, 61, 50, 55, 60, 36, 57, 59, 42, 57, 78, 73, 24, 64, 62, 65, 101, 39, 74, 85, 9, 25, 56, 102, 72, 50, 53, 91, 46, 52, 54, 63, 59, 55, 78, 59, 73, 71, 53, 64, 59, 69, 11, 52, 55, 59, 39, 46, 36, 91, 86, 44, 58, 43, 99, 42, 44, 58, 33, 46, 66, 64, 35, 54, 48, 64, 82, 58, 43, 39, 51, 52, 61, 49, 58, 66, 75, 68, 31, 18, 104, 83, 65, 68, 71, 92, 87, 91, 55, 77, 69, 14, 55, 82, 61, 48, 52, 98, 39, 74, 75, 57, 91, 47, 47, 44, 71, 46, 55, 44, 84, 68, 78, 52, 70, 33, 58, 45, 72, 91, 68, 254, 61, 65, 84, 66, 42, 29, 73, 56, 58, 37, 80, 49, 50, 25, 77, 59, 59, 124, 18, 36, 73, 40, 72, 49, 37, 50, 64, 60, 39, 27, 46, 64, 60, 83, 59, 65, 67, 54, 69, 66, 72, 59, 70, 46, 94, 59, 54, 60, 101, 73, 54, 76, 59, 78, 43, 108, 49, 68, 57, 38, 72, 57, 84, 72, 38, 64, 48, 42, 66, 82, 74, 48, 60, 90, 82, 55, 74, 62, 36, 104, 42, 73, 77, 83, 55, 49, 59, 49, 93, 72, 41, 45, 76, 80, 33, 41, 39, 76, 33, 40, 57, 61, 72, 96, 44, 47, 75, 61, 65, 75, 67, 53, 82, 49, 15, 53, 45, 38, 61, 40, 35, 33, 65, 31, 80, 77, 50, 51, 78, 54, 59, 67, 49, 38, 49, 51, 24, 82, 94, 96, 64, 47, 62, 70, 44, 88, 80, 65, 41, 89, 54, 59, 94, 66, 27, 25, 96, 63, 63, 47, 98, 64, 80, 21, 89, 17, 72, 44, 76, 71, 58, 53, 44, 63, 25, 59, 78, 46, 56, 21, 30, 71, 65, 57, 60, 78, 29, 63, 45, 66, 53, 60, 55, 48, 67, 54, 53, 66, 65, 83, 76, 76, 50, 40, 55, 73, 85, 97, 76, 65, 37, 57, 65, 62, 25, 62, 67, 64, 59, 31, 59, 62, 99, 60, 34, 30, 33, 108, 92, 67, 90, 93, 45, 71, 59, 61, 59, 89, 30, 40, 53, 92, 70, 98, 50, 70, 61, 65, 34, 35, 67, 73, 62, 70, 75, 58, 44, 72, 42, 79, 59, 53, 46, 53, 75, 72, 32, 52, 88, 46, 58, 42, 18, 110, 106, 74, 47, 54, 79, 75, 93, 70, 53, 59, 78, 62, 61, 66, 84, 79, 94, 38, 51, 26, 62, 71, 54, 45, 41, 62, 70, 61, 38, 99, 84, 27, 52, 62, 54, 49, 68, 53, 48, 35, 64, 64, 35, 27, 43, 67, 85, 86, 66, 76, 74, 46, 69, 52, 58, 58, 75, 48, 62, 56, 82, 82, 46, 69, 83, 71, 60, 53, 83, 50, 80, 33, 61, 66, 85, 39, 55, 76, 66, 83, 36, 72, 84, 58, 50, 75, 48, 88, 81, 43, 90, 84, 75, 65, 39, 88, 38, 29, 70, 64, 68, 56, 75, 62, 70, 65, 48, 42, 56, 59, 40, 54, 65, 41, 59, 69, 34, 29, 50, 47, 90, 40, 66, 72, 52, 31, 59, 82, 89, 79, 69, 30, 32, 50, 42, 44, 93, 26, 71, 66, 82, 74, 44, 51, 64, 40, 54, 70, 87, 51, 74, 97, 74, 72, 42, 75, 36, 52, 73, 39, 55, 87, 79, 76, 66, 34, 73, 50, 50, 70, 45, 49, 57, 61, 63, 54, 21, 18, 87, 75, 66, 78, 63, 88, 52, 68, 78, 68, 84, 51, 26, 71, 23, 85, 66, 74, 43, 85, 71, 62, 62, 32, 66, 34, 58, 62, 52, 41, 83, 69, 50, 51, 99, 86, 43, 78, 73, 75, 37, 81, 19, 42, 80, 49, 41, 61, 85, 63, 58, 76, 80, 67, 34, 49, 62, 62, 37, 52, 62, 66, 52, 35, 112, 52, 76, 45, 62, 28, 51, 40, 29, 42, 79, 48, 48, 48, 100, 25, 70, 59, 40, 76, 79, 67, 43, 74, 53, 46, 69, 70, 86, 86, 89, 38, 86, 28, 85, 33, 63, 73, 45, 78, 105, 84, 27, 79, 99, 58, 76, 40, 49, 66, 69, 113, 59, 44, 63, 63, 38, 73, 46, 53, 67, 79, 26, 64, 50, 63, 43, 76, 80, 58, 91, 28, 82, 43, 48, 62, 72, 77, 58, 62, 23, 51, 23, 66, 46, 123, 53, 49, 55, 81, 59, 23, 55, 80, 111, 30, 60, 54, 76, 46, 47, 50, 68, 69, 45, 42, 83, 59, 68, 43, 52, 43, 71, 63, 37, 38, 74, 62, 78, 51, 76, 60, 62, 86, 56, 75, 79, 61, 56, 52, 71, 43, 49, 75, 70, 59, 100, 50, 47, 46, 103, 83, 59, 131, 58, 46, 54, 45, 50, 33, 62, 47, 76, 56, 75, 61, 56, 60, 62, 56, 54, 53, 64, 62, 80, 55, 7, 39, 80, 73, 76, 78, 69, 39, 66, 77, 65, 59, 72, 43, 53, 72, 97, 53, 108, 66, 40, 41, 110, 51, 82, 25, 42, 67, 41, 78, 48, 44, 74, 63, 76, 72, 51, 52, 51, 50, 87, 52, 82, 48, 83, 78, 71, 61, 56, 35, 58, 52, 56, 28, 80, 74, 83, 28, 92, 58, 74, 70, 82, 77, 66, 73, 71, 58, 67, 63, 83, 57, 48, 28, 23, 73, 93, 53, 51, 85, 52, 71, 77, 57, 77, 66, 34, 66, 47, 52, 63, 74, 87, 77, 68, 58, 68, 80, 26, 76, 73, 32, 41, 52, 91, 58, 30, 57, 63, 66, 91, 60, 71, 70, 50, 96, 62, 33, 48, 34, 43, 65, 60, 79, 61, 42, 48, 85, 54, 98, 69, 81, 67, 54, 29, 58, 76, 73, 65, 55, 70, 49, 44, 71, 94, 56, 60, 59, 77, 50, 75, 75, 17, 48, 44, 78, 66, 75, 70, 34, 69, 73, 78, 62, 54, 110, 36, 64, 50, 37, 60, 47, 42, 78, 53, 80, 87, 50, 70, 66, 61, 41, 67, 53, 86, 44, 82, 55, 86, 48, 59, 77, 24, 53, 74, 92, 72, 53, 48, 54, 69, 50, 61, 62, 56, 67, 50, 76, 46, 45, 38, 57, 76, 67, 70, 34, 99, 87, 46, 69, 46, 49, 63, 73, 88, 73, 50, 42, 54, 66, 44, 68, 67, 48, 54, 25, 43, 94, 45, 59, 69, 42, 55, 51, 41, 85, 27, 90, 73, 72, 67, 76, 64, 64, 71, 58, 55, 67, 69, 66, 64, 76, 63, 43, 62, 54, 78, 60, 48, 38, 131, 69, 73, 66, 13, 78, 72, 65, 54, 67, 73, 39, 26, 28, 76, 58, 55, 55, 29, 49, 48, 42, 66, 48, 65, 73, 72, 74, 73, 65, 67, 77, 77, 42, 47, 62, 26, 73, 72, 63, 38, 71, 89, 48, 82, 73, 69, 79, 52, 79, 17, 65, 85, 43, 48, 59, 67, 37, 60, 48, 80, 60, 58, 25, 32, 57, 34, 44, 52, 35, 73, 37, 57, 103, 71, 77, 70, 33, 63, 64, 54, 61, 60, 59, 73, 42, 50, 40, 45, 30, 92, 27, 72, 84, 59, 50, 75, 50, 37, 62, 84, 60, 66, 65, 33, 74, 70, 77, 73, 87, 31, 37, 42, 63, 75, 60, 34, 74, 88, 88, 63, 62, 53, 82, 34, 54, 62, 61, 72, 43, 65, 48, 86, 61, 67, 59, 65, 48, 44, 47, 75, 50, 42, 69, 96, 23, 53, 73, 45, 57, 110, 12, 30, 62, 51, 52, 49, 51, 62, 66, 86, 78, 49, 58, 78, 69, 59, 84, 46, 89, 57, 51, 71, 43, 35, 60, 45, 28, 71, 65, 15, 50, 82, 77, 59, 69, 62, 41, 71, 51, 75, 75, 60, 31, 70, 54, 72, 46, 105, 71, 52, 42, 15, 72, 70, 57, 52, 73, 77, 81, 76, 68, 75, 89, 70, 38, 35, 64, 85, 59, 38, 51, 62, 42, 56, 31, 51, 85, 106, 68, 50, 57, 67, 69, 51, 70, 54, 60, 40, 75, 71, 42, 84, 38, 72, 74, 67, 44, 58, 39, 31, 91, 88, 65, 35, 71, 25, 22, 89, 30, 77, 50, 60, 62, 37, 102, 51, 87, 112, 57, 95, 72, 69, 47, 40, 46, 69, 53, 65, 67, 11, 80, 94, 44, 70, 55, 51, 70, 64, 81, 61, 69, 43, 76, 61, 48, 77, 94, 64, 40, 38, 44, 94, 55, 68, 37, 52, 76, 83, 56, 84, 35, 46, 14, 82, 35, 45, 64, 30, 93, 38, 77, 73, 49, 67, 58, 64, 53, 71, 35, 45, 54, 37, 39, 76, 32, 50, 51, 25, 75, 64, 49, 29, 68, 60, 66, 87, 67, 42, 66, 68, 85, 63, 41, 36, 68, 58, 62, 80, 66, 68, 45, 74, 91, 68, 64, 65, 65, 37, 64, 70, 62, 70, 66, 58, 14, 42, 19, 57, 75, 62, 35, 14, 39, 69, 63, 71, 87, 38, 75, 52, 61, 52, 55, 47, 87, 24, 73, 61, 64, 52, 68, 74, 77, 67, 65, 65, 96, 32, 73, 71, 39, 58, 69, 67, 33, 49, 83, 68, 62, 78, 68, 79, 63, 71, 38, 68, 57, 89, 87, 28, 77, 46, 87, 58, 64, 56, 53, 67, 79, 52, 145, 60, 63, 55, 94, 30, 56, 47, 53, 70, 65, 88, 55, 71, 35, 67, 71, 55, 63, 46, 64, 61, 66, 84, 37, 74, 33, 38, 45, 90, 62, 39, 48, 35, 50, 53, 49, 75, 92, 85, 64, 52, 58, 47, 60, 58, 33, 63, 73, 51, 72, 57, 71, 83, 86, 43, 81, 69, 50, 54, 84, 65, 44, 44, 72, 80, 82, 75, 22, 102, 47, 62, 108, 32, 102, 55, 77, 78, 23, 35, 91, 76, 29, 64, 50, 77, 61, 95, 67, 58, 64, 63, 78, 49, 41, 27, 73, 95, 43, 69, 66, 38, 26, 49, 44, 60, 76, 69, 44, 40, 71, 31, 107, 77, 62, 60, 60, 80, 53, 73, 78, 57, 57, 55, 48, 86, 58, 55, 80, 81, 22, 61, 72, 57, 50, 51, 28, 48, 69, 52, 84, 87, 72, 50, 61, 64, 79, 62, 66, 82, 57, 71, 59, 54, 60, 62, 49, 18, 43, 68, 51, 68, 66, 76, 66, 56, 52, 69, 55, 60, 69, 99, 49, 54, 73, 52, 67, 58, 59, 51, 82, 75, 30, 60, 85, 56, 45, 84, 45, 41, 52, 39, 52, 62, 60, 73, 44, 60, 78, 71, 89, 61, 35, 58, 43, 67, 77, 115, 84, 80, 80, 87, 32, 75, 88, 39, 67, 71, 65, 40, 57, 74, 31, 54, 52, 56, 39, 54, 73, 48, 48, 62, 72, 84, 52, 67, 52, 67, 61, 70, 54, 74, 89, 53, 45, 87, 65, 52, 49, 64, 49, 51, 88, 31, 69, 70, 49, 79, 41, 64, 57, 73, 15, 68, 72, 75, 79, 41, 39, 84, 74, 38, 87, 73, 46, 57, 55, 50, 78, 86, 58, 88, 73, 66, 56, 48, 45, 89, 107, 62, 71, 41, 71, 76, 85, 51, 61, 66, 66, 52, 63, 74, 53, 47, 56, 51, 51, 94, 79, 40, 87, 50, 84, 91, 76, 107, 49, 73, 61, 111, 87, 58, 55, 37, 59, 85, 98, 76, 40, 102, 31, 95, 15, 67, 36, 70, 83, 63, 33, 72, 40, 63, 38, 62, 48, 65, 67, 60, 71, 52, 64, 51, 29, 39, 49, 47, 46, 66, 22, 70, 46, 49, 57, 52, 67, 47, 40, 38, 66, 67, 63, 65, 71, 42, 28, 68, 33, 64, 74, 50, 63, 61, 50, 82, 60, 88, 44, 33, 125, 89, 71, 69, 69, 70, 48, 53, 56, 51, 72, 61, 31, 66, 84, 60, 67, 77, 45, 66, 56, 46, 65, 81, 61, 50, 65, 62, 76, 54, 70, 70, 58, 82, 67, 45, 60, 58, 74, 35, 63, 74, 32, 102, 47, 58, 91, 53, 67, 66, 46, 71, 88, 58, 60, 75, 62, 66, 54, 56, 65, 72, 56, 64, 75, 74, 40, 71, 73, 16, 37, 72, 84, 79, 25, 66, 62, 50, 95, 59, 55, 45, 30, 19, 86, 84, 95, 11, 89, 47, 44, 53, 21, 76, 101, 91, 68, 49, 65, 13, 65, 71, 39, 89, 46, 70, 82, 102, 97, 61, 59, 56, 42, 84, 61, 64, 70, 69, 100, 78, 67, 61, 85, 80, 52, 34, 79, 62, 28, 62, 72, 71, 89, 228, 53, 54, 106, 29, 44, 56, 87, 69, 83, 45, 64, 48, 64, 60, 57, 28, 56, 79, 57, 47, 51, 54, 51, 48, 40, 43, 59, 62, 64, 54, 101, 76, 62, 70, 34, 74, 49, 40, 66, 35, 76, 62, 65, 131, 61, 52, 47, 27, 70, 103, 61, 49, 66, 73, 43, 30, 35, 83, 26, 96, 72, 47, 102, 63, 58, 74, 74, 72, 63, 57, 28, 59, 80, 36, 79, 66, 66, 58, 55, 46, 90, 21, 67, 40, 98, 49, 74, 22, 47, 49, 92, 48, 54, 93, 63, 62, 126, 53, 96, 58, 65, 71, 63, 60, 53, 45, 95, 35, 55, 62, 95, 23, 24, 59, 76, 73, 71, 34, 60, 66, 53, 49, 46, 78, 64, 53, 37, 57, 56, 40, 53, 81, 16, 66, 65, 75, 103, 82, 37, 40, 137, 57, 45, 72, 50, 43, 47, 85, 45, 66, 67, 62, 27, 78, 24, 30, 61, 65, 81, 58, 62, 60, 58, 50, 63, 67, 73, 51, 52, 76, 70, 43, 63, 45, 37, 34, 55, 56, 53, 80, 62, 53, 53, 102, 93, 66, 49, 39, 51, 65, 69, 56, 84, 74, 78, 61, 45, 61, 73, 56, 67, 76, 102, 62, 69, 81, 73, 52, 77, 73, 50, 71, 61, 51, 68, 35, 76, 62, 59, 31, 55, 52, 62, 58, 93, 60, 27, 43, 59, 47, 27, 53, 69, 59, 85, 64, 68, 42, 55, 67, 70, 72, 62, 48, 62, 26, 37, 84, 77, 42, 35, 49, 84, 83, 69, 52, 91, 42, 77, 48, 63, 62, 61, 57, 77, 43, 69, 93, 58, 45, 65, 61, 49, 64, 43, 98, 57, 90, 74, 72, 39, 51, 42, 80, 68, 55, 85, 62, 60, 46, 71, 45, 88, 73, 61, 57, 26, 38, 28, 88, 46, 71, 56, 48, 67, 76, 40, 58, 42, 75, 63, 79, 45, 54, 68, 74, 46, 68, 58, 51, 88, 60, 69, 70, 101, 51, 37, 75, 63, 49, 91, 66, 83, 70, 27, 64, 85, 51, 32, 80, 65, 51, 35, 53, 60, 48, 83, 51, 75, 62, 50, 67, 40, 46, 96, 76, 53, 36, 42, 46, 61, 32, 84, 64, 19, 53, 51, 32, 78, 95, 50, 74, 76, 74, 45, 58, 83, 70, 69, 48, 54, 96, 66, 84, 27, 61, 28, 84, 71, 48, 61, 72, 56, 41, 63, 64, 111, 72, 88, 81, 68, 67, 52, 29, 95, 21, 44, 82, 49, 120, 73, 43, 50, 73, 52, 57, 35, 56, 66, 102, 102, 63, 76, 40, 58, 13, 55, 31, 67, 116, 92, 59, 59, 32, 53, 44, 40, 62, 64, 96, 46, 52, 70, 17, 58, 76, 46, 67, 64, 45, 70, 71, 19, 23, 97, 82, 83, 88, 42, 34, 48, 38, 51, 69, 53, 33, 75, 38, 54, 47, 63, 62, 86, 52, 37, 66, 57, 65, 63, 18, 24, 69, 50, 59, 37, 26, 86, 63, 67, 57, 64, 72, 70, 62, 38, 34, 50, 82, 54, 45, 69, 83, 79, 22, 50, 39, 77, 74, 50, 44, 66, 109, 29, 50, 77, 69, 29, 66, 61, 37, 33, 62, 63, 68, 31, 42, 77, 74, 70, 66, 60, 48, 44, 32, 60, 48, 59, 51, 53, 77, 87, 96, 71, 37, 50, 64, 76, 76, 55, 35, 74, 12, 79, 42, 39, 50, 83, 24, 85, 85, 43, 37, 35, 73, 47, 72, 41, 79, 41, 57, 60, 49, 61, 39, 73, 38, 99, 70, 40, 52, 47, 48, 75, 42, 65, 39, 94, 88, 69, 51, 56, 36, 61, 59, 70, 40, 62, 99, 63, 38, 40, 49, 50, 45, 63, 69, 40, 40, 69, 26, 47, 69, 68, 44, 57, 70, 71, 61, 64, 64, 55, 49, 58, 52, 32, 66, 38, 24, 36, 122, 80, 77, 48, 70, 33, 36, 50, 60, 89, 54, 40, 48, 68, 20, 66, 78, 61, 59, 61, 58, 22, 85, 36, 74, 66, 55, 66, 53, 60, 35, 97, 71, 67, 71, 56, 53, 67, 81, 54, 84, 64, 50, 80, 38, 92, 72, 55, 59, 45, 93, 40, 62, 70, 49, 45, 42, 18, 50, 40, 61, 55, 37, 70, 29, 75, 33, 76, 72, 62, 99, 64, 74, 80, 121, 88, 51, 44, 71, 57, 73, 65, 63, 54, 41, 76, 74, 60, 63, 68, 62, 98, 61, 70, 95, 50, 76, 78, 72, 68, 91, 57, 54, 67, 38, 61, 83, 71, 75, 71, 71, 49, 95, 78, 66, 99, 33, 75, 71, 51, 78, 75, 59, 68, 69, 99, 46, 68, 53, 67, 69, 63, 65, 62, 73, 47, 93, 78, 71, 77, 72, 60, 48, 59, 82, 58, 34, 65, 66, 76, 70, 61, 54, 75, 61, 88, 55, 31, 66, 59, 67, 51, 25, 86, 61, 62, 62, 83, 73, 62, 35, 69, 72, 62, 83, 46, 30, 69, 86, 66, 59, 91, 55, 8, 78, 61, 46, 34, 70, 64, 33, 35, 82, 45, 93, 60, 50, 85, 42, 45, 79, 62, 79, 85, 77, 68, 69, 73, 79, 34, 67, 62, 63, 76, 63, 77, 38, 45, 82, 81, 62, 58, 45, 42, 41, 34, 36, 87, 69, 67, 43, 50, 58, 53, 11, 40, 58, 61, 64, 68, 46, 69, 70, 53, 75, 65, 85, 49, 78, 79, 62, 48, 57, 48, 81, 83, 89, 55, 60, 37, 98, 77, 65, 65, 78, 88, 46, 46, 55, 47, 60, 36, 74, 15, 80, 78, 77, 52, 69, 85, 17, 69, 48, 67, 35, 70, 74, 54, 52, 45, 52, 45, 33, 61, 37, 61, 104, 64, 48, 36, 58, 104, 59, 54, 49, 64, 73, 68, 38, 32, 103, 52, 60, 74, 49, 32, 50, 71, 74, 22, 40, 88, 30, 83, 44, 51, 41, 58, 80, 60, 45, 49, 50, 81, 72, 56, 64, 55, 61, 55, 94, 59, 69, 60, 76, 43, 57, 61, 65, 68, 70, 55, 90, 77, 50, 61, 64, 54, 28, 110, 60, 64, 65, 68, 67, 65, 57, 72, 70, 41, 71, 60, 71, 65, 83, 84, 69, 66, 55, 56, 79, 64, 70, 73, 46, 47, 125, 32, 70, 75, 78, 46, 63, 46, 71, 77, 69, 47, 86, 66, 49, 33, 65, 52, 23, 57, 79, 56, 46, 67, 81, 52, 49, 64, 69, 51, 38, 54, 48, 94, 45, 48, 46, 86, 57, 50, 70, 63, 40, 62, 49, 67, 65, 48, 49, 74, 64, 18, 35, 73, 17, 66, 74, 70, 87, 43, 119, 77, 78, 72, 67, 73, 30, 51, 69, 62, 60, 62, 48, 40, 107, 44, 104, 56, 31, 67, 62, 68, 56, 80, 78, 35, 56, 44, 100, 46, 97, 46, 71, 73, 57, 92, 49, 56, 44, 32, 53, 65, 51, 59, 54, 79, 60, 91, 76, 47, 74, 64, 64, 66, 75, 44, 83, 91, 60, 47, 40, 37, 66, 60, 70, 93, 61, 49, 68, 63, 46, 66, 46, 45, 60, 41, 85, 26, 54, 66, 57, 73, 31, 77, 83, 39, 71, 75, 40, 39, 59, 74, 58, 77, 32, 81, 24, 82, 52, 62, 60, 72, 52, 74, 77, 77, 62, 65, 39, 31, 47, 58, 91, 81, 66, 52, 116, 73, 52, 65, 36, 60, 87, 65, 46, 72, 65, 33, 57, 71, 81, 62, 41, 52, 33, 75, 89, 18, 57, 44, 56, 52, 69, 68, 61, 58, 58, 57, 92, 66, 52, 66, 62, 25, 61, 86, 81, 61, 78, 47, 66, 53, 16, 80, 66, 62, 62, 51, 69, 42, 49, 79, 58, 45, 21, 60, 68, 61, 58, 81, 44, 47, 59, 25, 107, 64, 52, 115, 87, 40, 90, 77, 65, 45, 66, 66, 32, 91, 92, 75, 87, 62, 65, 80, 42, 54, 94, 68, 56, 72, 58, 54, 56, 67, 33, 35, 35, 19, 65, 58, 83, 69, 48, 94, 59, 72, 54, 53, 68, 64, 38, 61, 63, 93, 66, 73, 105, 79, 46, 49, 77, 60, 59, 61, 78, 37, 54, 41, 40, 97, 40, 58, 80, 50, 44, 75, 50, 50, 34, 77, 55, 50, 63, 60, 54, 38, 57, 85, 60, 60, 50, 45, 39, 94, 78, 48, 78, 45, 42, 50, 56, 66, 29, 64, 46, 42, 55, 79, 46, 75, 44, 21, 49, 36, 59, 80, 50, 85, 51, 46, 53, 79, 88, 76, 41, 53, 83, 70, 28, 69, 48, 85, 59, 66, 47, 57, 57, 27, 27, 75, 76, 67, 36, 43, 46, 73, 84, 76, 64, 22, 32, 62, 84, 73, 78, 66, 83, 51, 41, 31, 50, 57, 68, 78, 53, 52, 46, 73, 49, 72, 61, 41, 71, 34, 83, 37, 65, 32, 48, 31, 52, 55, 90, 33, 72, 44, 94, 56, 67, 65, 64, 62, 31, 52, 70, 79, 35, 56, 62, 41, 69, 44, 69, 78, 52, 56, 85, 62, 47, 56, 84, 46, 45, 62, 51, 42, 71, 57, 88, 59, 84, 81, 84, 56, 42, 48, 47, 58, 87, 111, 64, 101, 45, 63, 54, 69, 99, 73, 52, 38, 51, 61, 68, 66, 60, 46, 72, 53, 82, 62, 59, 77, 27, 43, 48, 83, 32, 103, 73, 106, 67, 79, 40, 66, 83, 100, 64, 45, 89, 65, 41, 51, 95, 86, 29, 57, 73, 81, 42, 74, 35, 98, 64, 95, 26, 75, 123, 58, 73, 51, 82, 62, 90, 98, 79, 80, 76, 52, 78, 71, 105, 19, 68, 26, 68, 72, 52, 28, 38, 98, 79, 53, 43, 73, 77, 49, 64, 55, 49, 69, 54, 82, 50, 32, 93, 72, 24, 72, 47, 78, 34, 62, 40, 61, 52, 75, 84, 93, 82, 65, 53, 67, 66, 60, 58, 85, 62, 74, 61, 64, 102, 37, 60, 65, 64, 80, 35, 42, 61, 29, 77, 39, 75, 31, 72, 68, 59, 28, 72, 100, 42, 55, 59, 14, 69, 92, 90, 55, 73, 61, 87, 63, 53, 58, 41, 40, 41, 33, 90, 64, 36, 79, 91, 51, 65, 40, 40, 39, 41, 42, 56, 61, 72, 47, 72, 67, 60, 86, 57, 27, 75, 44, 109, 89, 63, 61, 41, 74, 75, 63, 48, 39, 88, 79, 62, 60, 70, 67, 59, 21, 80, 67, 73, 82, 154, 51, 55, 79, 71, 55, 41, 61, 47, 19, 62, 36, 86, 89, 58, 62, 57, 59, 37, 113, 40, 78, 33, 47, 73, 68, 50, 47, 75, 73, 74, 69, 16, 33, 56, 55, 81, 55, 74, 41, 84, 58, 38, 98, 46, 80, 92, 75, 65, 58, 71, 51, 65, 49, 85, 53, 52, 107, 28, 74, 71, 63, 33, 81, 85, 53, 63, 88, 60, 103, 73, 50, 76, 70, 101, 63, 85, 30, 52, 54, 63, 74, 45, 98, 66, 37, 42, 34, 73, 65, 78, 59, 14, 71, 76, 45, 40, 68, 27, 42, 94, 52, 41, 88, 53, 65, 34, 69, 92, 62, 54, 56, 35, 87, 80, 107, 52, 61, 62, 68, 59, 56, 85, 93, 49, 59, 68, 57, 40, 67, 75, 75, 52, 36, 25, 81, 31, 31, 78, 88, 66, 67, 52, 59, 32, 73, 65, 100, 66, 59, 69, 62, 36, 65, 93, 70, 54, 67, 35, 100, 97, 86, 52, 43, 90, 46, 80, 84, 46, 31, 60, 42, 45, 67, 61, 74, 97, 58, 119, 24, 63, 34, 59, 35, 66, 23, 79, 127, 34, 30, 39, 71, 92, 52, 24, 82, 62, 56, 51, 62, 73, 81, 48, 49, 60, 50, 82, 42, 66, 73, 52, 43, 79, 51, 74, 64, 68, 62, 88, 107, 89, 23, 43, 61, 65, 70, 99, 86, 68, 31, 53, 56, 67, 78, 80, 81, 80, 80, 21, 32, 78, 92, 48, 53, 80, 44, 80, 63, 65, 65, 59, 34, 69, 85, 34, 77, 65, 44, 38, 26, 73, 75, 42, 52, 86, 60, 64, 60, 46, 78, 49, 57, 39, 66, 105, 74, 37, 44, 62, 61, 43, 56, 62, 73, 64, 61, 73, 77, 50, 108, 98, 65, 49, 28, 57, 46, 76, 65, 68, 18, 57, 56, 41, 80, 95, 86, 59, 91, 49, 43, 65, 42, 71, 70, 100, 77, 52, 66, 71, 100, 79, 63, 14, 52, 61, 63, 55, 98, 72, 76, 45, 71, 58, 55, 62, 85, 71, 80, 71, 46, 66, 75, 60, 64, 74, 45, 76, 69, 75, 74, 64, 65, 65, 83, 60, 62, 64, 64, 66, 49, 29, 72, 74, 51, 60, 78, 63, 53, 54, 68, 15, 67, 59, 60, 80, 31, 45, 75, 60, 72, 61, 79, 72, 64, 64, 42, 54, 81, 71, 50, 39, 70, 87, 77, 36, 73, 75, 75, 47, 30, 55, 38, 39, 90, 62, 61, 30, 61, 60, 59, 50, 112, 45, 37, 78, 68, 34, 74, 57, 46, 62, 53, 23, 67, 55, 76, 34, 76, 92, 47, 83, 71, 57, 57, 61, 63, 85, 19, 71, 41, 75, 84, 46, 48, 57, 76, 61, 49, 64, 75, 26, 80, 80, 68, 42, 53, 110, 57, 74, 44, 53, 45, 65, 65, 67, 97, 42, 59, 58, 60, 77, 80, 72, 67, 62, 61, 57, 49, 42, 69, 66, 71, 40, 66, 47, 102, 71, 48, 56, 83, 63, 85, 83, 55, 45, 110, 54, 54, 27, 76, 63, 72, 25, 81, 43, 137, 71, 83, 47, 67, 65, 61, 42, 87, 99, 69, 29, 66, 83, 45, 68, 68, 44, 53, 25, 95, 59, 30, 48, 78, 69, 47, 62, 61, 69, 77, 64, 53, 74, 66, 63, 40, 59, 59, 55, 58, 39, 77, 46, 70, 84, 46, 77, 27, 42, 62, 33, 67, 50, 67, 91, 63, 83, 72, 53, 63, 47, 59, 36, 52, 43, 65, 59, 77, 47, 82, 73, 41, 65, 51, 89, 37, 65, 51, 65, 57, 58, 24, 73, 81, 29, 84, 41, 53, 51, 75, 74, 48, 50, 67, 77, 78, 47, 64, 66, 63, 77, 87, 68, 44, 50, 67, 38, 56, 62, 70, 64, 75, 104, 75, 69, 52, 91, 45, 76, 53, 87, 32, 41, 62, 39, 90, 58, 43, 63, 27, 97, 20, 59, 85, 82, 56, 66, 65, 30, 56, 82, 83, 70, 89, 55, 43, 47, 23, 53, 54, 53, 87, 82, 63, 62, 60, 66, 43, 83, 70, 56, 67, 54, 54, 80, 63, 55, 65, 72, 48, 66, 43, 38, 76, 71, 47, 55, 55, 32, 40, 45, 55, 85, 50, 61, 55, 62, 124, 80, 74, 54, 85, 66, 73, 64, 72, 86, 50, 36, 73, 44, 42, 44, 74, 71, 27, 62, 47, 66, 56, 50, 47, 63, 49, 84, 68, 54, 88, 81, 34, 73, 93, 78, 56, 54, 28, 74, 76, 48, 94, 82, 60, 51, 64, 45, 54, 30, 53, 64, 46, 43, 62, 74, 78, 35, 106, 71, 51, 69, 54, 67, 72, 51, 76, 76, 60, 34, 64, 65, 59, 53, 79, 47, 41, 45, 38, 18, 46, 76, 92, 72, 51, 75, 49, 79, 70, 58, 53, 69, 59, 67, 42, 29, 72, 48, 71, 100, 70, 44, 56, 48, 36, 37, 43, 39, 30, 50, 90, 55, 62, 19, 92, 92, 68, 24, 39, 63, 56, 61, 39, 58, 52, 52, 60, 33, 54, 36, 41, 60, 73, 53, 96, 62, 62, 74, 84, 71, 103, 26, 60, 43, 38, 49, 26, 46, 40, 50, 41, 77, 38, 35, 21, 45, 60, 80, 41, 86, 78, 34, 65, 34, 62, 60, 41, 60, 78, 37, 50, 48, 57, 66, 71, 71, 80, 31, 82, 85, 67, 59, 61, 57, 60, 59, 50, 64, 49, 74, 71, 51, 82, 47, 67, 57, 26, 49, 62, 40, 73, 93, 63, 39, 88, 40, 38, 80, 67, 61, 76, 56, 64, 55, 74, 66, 76, 47, 76, 90, 86, 17, 58, 70, 64, 81, 66, 71, 75, 80, 70, 53, 72, 57, 69, 74, 46, 44, 122, 61, 31, 58, 71, 53, 81, 55, 51, 33, 58, 80, 83, 83, 57, 66, 82, 62, 57, 79, 81, 63, 62, 39, 66, 58, 31, 60, 46, 37, 62, 45, 55, 61, 25, 57, 29, 54, 76, 28, 55, 42, 31, 23, 80, 15, 65, 48, 66, 57, 43, 58, 49, 56, 55, 45, 64, 50, 67, 50, 69, 54, 81, 65, 45, 46, 58, 47, 71, 69, 61, 87, 63, 69, 39, 61, 53, 43, 59, 69, 79, 60, 49, 35, 54, 43, 36, 70, 45, 77, 49, 73, 54, 57, 36, 74, 66, 76, 30, 26, 70, 42, 19, 29, 35, 49, 88, 32, 83, 82, 96, 29, 65, 19, 65, 65, 56, 81, 96, 57, 53, 70, 53, 74, 79, 56, 70, 70, 70, 63, 86, 63, 117, 86, 72, 73, 67, 60, 54, 61, 70, 62, 99, 69, 64, 71, 42, 29, 42, 79, 75, 103, 59, 51, 60, 63, 56, 62, 55, 70, 70, 45, 38, 92, 40, 71, 59, 77, 66, 55, 57, 75, 103, 50, 38, 57, 82, 59, 50, 84, 25, 63, 86, 61, 75, 21, 49, 46, 66, 58, 58, 60, 64, 91, 52, 57, 69, 51, 56, 80, 88, 27, 70, 89, 47, 77, 60, 86, 45, 75, 42, 66, 49, 37, 73, 36, 86, 68, 62, 53, 46, 60, 75, 55, 63, 79, 44, 79, 58, 47, 64, 73, 57, 94, 57, 93, 45, 85, 64, 58, 86, 63, 54, 81, 56, 62, 74, 72, 46, 60, 76, 49, 51, 105, 67, 43, 82, 57, 55, 86, 69, 76, 116, 56, 80, 86, 49, 83, 61, 60, 45, 61, 32, 72, 66, 63, 59, 30, 55, 46, 56, 60, 53, 57, 16, 20, 34, 43, 100, 59, 50, 74, 71, 89, 58, 17, 29, 52, 74, 59, 69, 83, 98, 64, 65, 37, 62, 51, 59, 93, 66, 89, 85, 53, 73, 45, 62, 75, 49, 70, 75, 89, 71, 71, 69, 98, 56, 60, 47, 69, 84, 40, 55, 52, 44, 75, 86, 38, 79, 66, 55, 69, 54, 95, 128, 46, 62, 58, 27, 43, 72, 58, 47, 97, 39, 55, 20, 53, 64, 59, 69, 56, 38, 25, 52, 69, 25, 49, 84, 82, 72, 48, 75, 76, 76, 57, 35, 76, 76, 63, 58, 56, 49, 42, 116, 77, 83, 78, 64, 55, 58, 46, 60, 13, 149, 53, 62, 96, 48, 32, 52, 95, 65, 61, 87, 73, 45, 52, 65, 51, 65, 56, 65, 55, 65, 84, 51, 55, 49, 57, 68, 83, 59, 65, 46, 78, 74, 91, 78, 30, 69, 74, 63, 50, 64, 76, 60, 49, 93, 46, 63, 45, 24, 41, 69, 62, 52, 90, 55, 52, 78, 75, 26, 64, 81, 52, 18, 30, 60, 41, 73, 47, 41, 74, 72, 54, 42, 63, 39, 68, 52, 70, 75, 68, 60, 57, 51, 71, 86, 47, 80, 131, 71, 74, 78, 84, 86, 67, 56, 56, 58, 22, 52, 39, 93, 61, 27, 80, 14, 77, 57, 64, 62, 61, 83, 100, 69, 67, 80, 38, 34, 51, 88, 57, 77, 70, 41, 51, 77, 77, 82, 53, 93, 41, 78, 70, 84, 64, 62, 66, 56, 59, 105, 77, 59, 66, 50, 73, 64, 82, 57, 44, 56, 52, 81, 54, 91, 49, 90, 107, 56, 41, 57, 54, 67, 73, 48, 53, 82, 72, 76, 68, 61, 59, 91, 77, 60, 38, 51, 106, 69, 90, 63, 103, 48, 32, 53, 31, 56, 64, 21, 72, 47, 67, 83, 51, 50, 96, 32, 81, 45, 77, 78, 30, 72, 70, 43, 64, 59, 80, 56, 30, 54, 58, 55, 72, 50, 25, 88, 41, 37, 29, 69, 75, 84, 55, 72, 56, 62, 54, 61, 33, 52, 65, 61, 64, 64, 68, 54, 40, 36, 64, 49, 47, 74, 86, 64, 75, 67, 59, 96, 65, 43, 44, 60, 24, 38, 57, 42, 71, 85, 73, 40, 48, 72, 82, 86, 84, 53, 48, 76, 48, 74, 54, 43, 65, 77, 57, 62, 57, 37, 63, 58, 66, 70, 80, 59, 86, 68, 86, 55, 75, 71, 65, 47, 45, 34, 74, 31, 77, 72, 61, 45, 107, 51, 55, 68, 69, 68, 39, 98, 56, 93, 49, 114, 82, 52, 40, 47, 58, 62, 42, 25, 65, 40, 62, 54, 49, 36, 61, 87, 45, 56, 40, 44, 43, 72, 56, 65, 38, 84, 102, 65, 85, 83, 39, 82, 65, 89, 48, 71, 69, 57, 54, 51, 74, 77, 112, 61, 47, 44, 60, 44, 63, 28, 77, 50, 55, 104, 39, 45, 78, 37, 74, 65, 77, 40, 105, 43, 73, 73, 58, 45, 63, 57, 82, 43, 54, 78, 30, 66, 46, 82, 71, 79, 54, 74, 57, 79, 84, 29, 71, 52, 37, 50, 59, 36, 42, 53, 96, 53, 56, 105, 72, 50, 75, 52, 77, 93, 68, 45, 47, 76, 66, 74, 80, 62, 51, 90, 82, 33, 50, 75, 42, 56, 62, 36, 52, 74, 57, 40, 50, 59, 81, 65, 90, 48, 60, 71, 63, 59, 63, 56, 71, 59, 48, 89, 61, 81, 43, 51, 78, 58, 77, 76, 47, 63, 54, 81, 57, 45, 47, 60, 56, 79, 50, 80, 46, 68, 70, 70, 78, 107, 42, 56, 72, 34, 68, 71, 53, 60, 77, 36, 70, 89, 52, 68, 30, 72, 70, 79, 83, 64, 68, 88, 75, 58, 95, 30, 69, 44, 69, 44, 94, 53, 20, 65, 85, 28, 57, 48, 56, 50, 59, 48, 62, 49, 64, 52, 48, 61, 41, 65, 72, 55, 37, 18, 70, 63, 91, 79, 89, 22, 48, 49, 64, 67, 44, 55, 69, 28, 34, 68, 69, 53, 30, 109, 93, 88, 100, 72, 28, 65, 72, 103, 83, 77, 87, 45, 62, 59, 87, 26, 58, 40, 67, 124, 49, 34, 48, 50, 69, 60, 67, 28, 48, 74, 53, 60, 65, 45, 52, 73, 75, 25, 59, 84, 75, 74, 58, 73, 61, 37, 87, 77, 73, 64, 71, 44, 69, 71, 94, 77, 60, 61, 85, 105, 55, 53, 90, 109, 58, 57, 55, 76, 53, 55, 45, 60, 61, 57, 46, 62, 45, 58, 39, 35, 79, 64, 60, 68, 47, 41, 24, 44, 48, 71, 44, 54, 45, 60, 45, 57, 98, 22, 58, 52, 87, 49, 63, 65, 55, 54, 78, 97, 55, 42, 80, 66, 48, 60, 54, 42, 62, 36, 74, 62, 66, 38, 73, 53, 52, 62, 87, 47, 63, 80, 66, 58, 45, 70, 65, 42, 50, 56, 55, 82, 47, 31, 52, 67, 87, 54, 68, 31, 60, 58, 63, 47, 84, 76, 82, 58, 59, 74, 62, 65, 65, 76, 82, 74, 57, 55, 79, 63, 77, 112, 66, 31, 46, 58, 82, 57, 37, 78, 61, 57, 68, 77, 46, 73, 41, 62, 101, 82, 50, 44, 79, 61, 59, 58, 13, 74, 66, 66, 80, 59, 93, 29, 74, 76, 38, 40, 51, 80, 37, 74, 97, 71, 92, 95, 36, 58, 51, 42, 67, 88, 51, 43, 64, 88, 61, 42, 63, 40, 49, 79, 49, 66, 40, 78, 68, 46, 57, 48, 95, 65, 36, 48, 100, 114, 59, 35, 31, 74, 69, 56, 84, 35, 74, 104, 63, 71, 48, 68, 12, 85, 62, 25, 60, 55, 56, 54, 71, 38, 35, 61, 71, 71, 88, 92, 55, 50, 72, 103, 55, 76, 52, 46, 64, 75, 54, 60, 36, 38, 44, 60, 86, 49, 51, 61, 46, 46, 69, 64, 64, 47, 63, 51, 101, 69, 70, 44, 122, 83, 42, 73, 55, 58, 29, 78, 66, 33, 73, 52, 80, 94, 53, 87, 50, 39, 63, 81, 64, 73, 31, 71, 70, 51, 74, 44, 39, 89, 68, 57, 46, 37, 67, 51, 63, 51, 29, 94, 25, 74, 74, 102, 73, 77, 23, 22, 78, 63, 50, 32, 45, 98, 40, 53, 36, 78, 68, 79, 102, 50, 59, 84, 97, 27, 71, 73, 39, 66, 43, 79, 61, 30, 60, 61, 51, 53, 48, 76, 50, 62, 42, 40, 47, 95, 62, 64, 49, 64, 80, 50, 66, 55, 56, 63, 58, 65, 32, 70, 72, 45, 41, 60, 42, 37, 65, 42, 40, 55, 64, 50, 39, 65, 66, 64, 26, 75, 44, 77, 30, 34, 49, 48, 25, 80, 116, 59, 65, 52, 57, 79, 52, 42, 71, 62, 93, 45, 53, 41, 39, 51, 55, 35, 67, 53, 56, 64, 57, 59, 63, 50, 80, 40, 49, 104, 34, 60, 70, 51, 35, 35, 60, 19, 61, 95, 68, 64, 49, 51, 39, 45, 65, 61, 94, 70, 67, 46, 63, 42, 60, 66, 65, 48, 25, 21, 75, 66, 82, 34, 77, 60, 59, 49, 31, 36, 88, 73, 65, 77, 86, 44, 77, 66, 74, 65, 65, 56, 59, 87, 35, 15, 32, 85, 30, 61, 58, 48, 62, 69, 70, 69, 92, 51, 68, 72, 70, 78, 55, 81, 60, 46, 30, 92, 91, 43, 43, 60, 84, 59, 72, 77, 47, 64, 54, 80, 56, 40, 88, 50, 76, 62, 65, 22, 86, 70, 67, 45, 44, 56, 46, 77, 82, 69, 65, 68, 75, 71, 52, 46, 75, 74, 74, 40, 32, 51, 37, 51, 97, 52, 49, 40, 63, 79, 47, 80, 35, 57, 118, 99, 69, 84, 54, 36, 65, 70, 51, 94, 42, 60, 72, 54, 51, 66, 78, 45, 92, 72, 54, 84, 32, 66, 56, 57, 79, 54, 32, 63, 92, 52, 41, 79, 62, 45, 109, 57, 42, 90, 101, 68, 81, 65, 49, 56, 59, 11, 24, 92, 56, 83, 76, 56, 59, 50, 52, 54, 45, 50, 42, 47, 45, 52, 42, 56, 63, 80, 60, 23, 58, 61, 75, 103, 43, 83, 68, 68, 62, 32, 106, 33, 82, 21, 41, 56, 70, 75, 57, 20, 53, 35, 55, 115, 76, 67, 72, 61, 76, 75, 53, 84, 60, 58, 96, 86, 67, 31, 67, 84, 82, 64, 27, 39, 63, 50, 53, 77, 61, 52, 48, 71, 113, 82, 70, 92, 38, 61, 72, 59, 32, 81, 38, 46, 61, 56, 27, 62, 55, 66, 43, 59, 32, 57, 53, 66, 43, 11, 75, 43, 67, 49, 50, 40, 91, 31, 71, 37, 61, 48, 52, 73, 36, 99, 45, 62, 21, 60, 49, 72, 38, 94, 64, 36, 33, 63, 71, 23, 72, 15, 70, 89, 58, 75, 28, 21, 58, 49, 116, 53, 91, 36, 57, 58, 49, 63, 50, 17, 97, 59, 65, 66, 66, 115, 59, 64, 76, 40, 47, 74, 32, 45, 72, 77, 81, 77, 34, 43, 46, 66, 50, 48, 89, 18, 72, 65, 62, 75, 72, 60, 43, 46, 48, 59, 63, 33, 75, 71, 39, 75, 47, 70, 82, 65, 64, 31, 76, 62, 42, 60, 50, 47, 79, 64, 60, 62, 76, 58, 44, 26, 89, 56, 33, 62, 69, 70, 21, 42, 63, 84, 58, 92, 72, 77, 30, 63, 79, 64, 41, 75, 71, 81, 25, 87, 72, 58, 68, 74, 83, 79, 64, 43, 40, 35, 83, 63, 68, 38, 20, 99, 63, 29, 51, 85, 78, 79, 34, 65, 61, 58, 57, 30, 60, 24, 35, 61, 53, 74, 68, 73, 67, 75, 71, 61, 61, 46, 62, 60, 69, 40, 67, 86, 44, 35, 60, 85, 60, 48, 60, 113, 57, 43, 52, 51, 80, 67, 53, 88, 69, 33, 89, 60, 70, 56, 97, 52, 76, 68, 64, 35, 86, 83, 67, 64, 57, 83, 53, 81, 74, 67, 57, 22, 34, 46, 61, 50, 91, 59, 74, 58, 90, 59, 72, 60, 102, 58, 46, 39, 112, 61, 54, 63, 55, 62, 64, 60, 103, 73, 62, 90, 64, 87, 90, 70, 45, 89, 66, 91, 32, 22, 54, 20, 63, 77, 67, 77, 47, 59, 38, 65, 81, 80, 90, 54, 94, 50, 86, 72, 83, 54, 31, 50, 64, 18, 40, 89, 77, 60, 46, 65, 109, 69, 66, 63, 64, 82, 64, 46, 44, 71, 69, 46, 58, 69, 55, 42, 58, 116, 73, 64, 95, 77, 32, 63, 78, 61, 81, 52, 72, 69, 53, 53, 58, 74, 60, 82, 57, 83, 80, 63, 55, 60, 47, 56, 80, 108, 57, 34, 54, 49, 76, 35, 50, 75, 99, 51, 22, 42, 55, 72, 45, 42, 79, 71, 75, 72, 77, 16, 44, 50, 46, 78, 79, 73, 82, 37, 52, 44, 75, 73, 27, 42, 93, 57, 50, 86, 42, 54, 30, 87, 73, 56, 28, 48, 60, 57, 62, 43, 32, 50, 50, 53, 93, 67, 66, 70, 67, 85, 93, 50, 61, 39, 76, 61, 80, 64, 69, 69, 73, 56, 96, 70, 77, 67, 52, 49, 67, 50, 61, 55, 64, 47, 64, 69, 51, 35, 47, 44, 44, 49, 56, 89, 59, 58, 54, 47, 40, 41, 79, 61, 76, 94, 80, 69, 64, 23, 86, 71, 49, 36, 47, 32, 76, 66, 33, 55, 30, 71, 46, 76, 92, 45, 90, 61, 55, 58, 48, 55, 33, 19, 40, 42, 79, 68, 77, 77, 51, 74, 36, 69, 82, 72, 42, 61, 42, 69, 34, 62, 73, 74, 59, 33, 55, 24, 72, 40, 55, 81, 34, 76, 82, 71, 67, 47, 56, 42, 31, 67, 64, 71, 84, 49, 88, 41, 44, 79, 44, 66, 79, 64, 29, 75, 65, 103, 99, 62, 42, 51, 46, 67, 62, 69, 47, 34, 58, 62, 58, 52, 76, 64, 44, 81, 68, 52, 59, 67, 58, 40, 70, 89, 72, 60, 76, 49, 67, 57, 49, 73, 64, 66, 55, 68, 61, 52, 64, 70, 67, 89, 71, 75, 64, 23, 46, 79, 89, 66, 43, 46, 65, 60, 86, 26, 58, 59, 74, 83, 72, 61, 58, 83, 46, 79, 59, 92, 67, 60, 77, 38, 55, 60, 74, 67, 74, 76, 63, 72, 40, 72, 59, 36, 23, 21, 60, 33]\n"
     ]
    }
   ],
   "source": [
    "#To store the len of each line in a dict\n",
    "len1=[]\n",
    "len1=[len(x) for x in data['headline']]\n",
    "print(len1)"
   ]
  },
  {
   "cell_type": "code",
   "execution_count": 16,
   "metadata": {},
   "outputs": [
    {
     "name": "stdout",
     "output_type": "stream",
     "text": [
      "254\n"
     ]
    }
   ],
   "source": [
    "#To get max of sequence length\n",
    "max_seq=max(len1)\n",
    "print(max_seq)"
   ]
  },
  {
   "cell_type": "raw",
   "metadata": {},
   "source": [
    "#We can use this also instead of above code\n",
    "k = max(len(i) for i in data['headline'])\n",
    "print(k)"
   ]
  },
  {
   "cell_type": "markdown",
   "metadata": {
    "colab_type": "text",
    "id": "VPPd0YuPXi2M"
   },
   "source": [
    "#**## Modelling**"
   ]
  },
  {
   "cell_type": "markdown",
   "metadata": {
    "colab_type": "text",
    "id": "35abKfRx8as3"
   },
   "source": [
    "## Import required modules required for modelling."
   ]
  },
  {
   "cell_type": "code",
   "execution_count": 17,
   "metadata": {
    "colab": {},
    "colab_type": "code",
    "id": "DVel73hYEV4r"
   },
   "outputs": [],
   "source": [
    "#import important lib for lstm\n",
    "import numpy as np\n",
    "from tensorflow.keras.preprocessing.text import Tokenizer\n",
    "from tensorflow.keras.preprocessing.sequence import pad_sequences\n",
    "from tensorflow.keras.layers import Dense, Input, LSTM, Embedding, Dropout, Activation, Flatten, Bidirectional, GlobalMaxPool1D\n",
    "from tensorflow.keras.models import Model, Sequential"
   ]
  },
  {
   "cell_type": "markdown",
   "metadata": {
    "colab_type": "text",
    "id": "9ziybaD1RdD9"
   },
   "source": [
    "# Set Different Parameters for the model. ( 2 marks)"
   ]
  },
  {
   "cell_type": "code",
   "execution_count": 18,
   "metadata": {
    "colab": {},
    "colab_type": "code",
    "id": "jPw9gAN_EV6m"
   },
   "outputs": [],
   "source": [
    "#Defining important variable\n",
    "max_features = 20000\n",
    "maxlen = max_seq\n",
    "embedding_size = 200\n",
    "Epochs=7\n",
    "batch=100"
   ]
  },
  {
   "cell_type": "markdown",
   "metadata": {
    "colab_type": "text",
    "id": "9abSe-bM8fn9"
   },
   "source": [
    "## Apply Keras Tokenizer of headline column of your data.  ( 4 marks)\n",
    "Hint - First create a tokenizer instance using Tokenizer(num_words=max_features) \n",
    "And then fit this tokenizer instance on your data column df['headline'] using .fit_on_texts()"
   ]
  },
  {
   "cell_type": "code",
   "execution_count": 19,
   "metadata": {
    "colab": {},
    "colab_type": "code",
    "id": "T9Ad26HfTFMS"
   },
   "outputs": [],
   "source": [
    "#Tokenize the input data so to covert each sentence into sequence\n",
    "token=Tokenizer(num_words=max_features) \n",
    "token.fit_on_texts(data['headline'])\n",
    "input_sequences = token.texts_to_sequences(data['headline'])"
   ]
  },
  {
   "cell_type": "code",
   "execution_count": 20,
   "metadata": {},
   "outputs": [
    {
     "data": {
      "text/plain": [
       "[[307, 15114, 678, 3336, 2297, 47, 381, 2575, 15115, 5, 2576, 8433],\n",
       " [3, 8434, 3337, 2745, 21, 1, 165, 8435, 415, 3111, 5, 257, 8, 1001],\n",
       " [144, 837, 1, 906, 1748, 2092, 581, 4718, 220, 142, 38, 45, 1, 10735],\n",
       " [1484, 35, 223, 399, 1, 1831, 28, 318, 21, 9, 2923, 1392, 6968, 967],\n",
       " [766, 718, 4719, 907, 10736, 622, 593, 4, 3, 94, 1308, 91]]"
      ]
     },
     "execution_count": 20,
     "metadata": {},
     "output_type": "execute_result"
    }
   ],
   "source": [
    "#Cross check step to see first 5 coded sequence\n",
    "input_sequences[0:5]"
   ]
  },
  {
   "cell_type": "markdown",
   "metadata": {
    "colab_type": "text",
    "id": "0Ffi63KsST3P"
   },
   "source": [
    "# Define X and y for your model."
   ]
  },
  {
   "cell_type": "code",
   "execution_count": 21,
   "metadata": {
    "colab": {},
    "colab_type": "code",
    "id": "wnjxBdqmSS4s"
   },
   "outputs": [
    {
     "name": "stdout",
     "output_type": "stream",
     "text": [
      "Number of Samples: 26709\n",
      "[  307 15114   678  3336  2297    47   381  2575 15115     5  2576  8433\n",
      "     0     0     0     0     0     0     0     0     0     0     0     0\n",
      "     0     0     0     0     0     0     0     0     0     0     0     0\n",
      "     0     0     0     0     0     0     0     0     0     0     0     0\n",
      "     0     0     0     0     0     0     0     0     0     0     0     0\n",
      "     0     0     0     0     0     0     0     0     0     0     0     0\n",
      "     0     0     0     0     0     0     0     0     0     0     0     0\n",
      "     0     0     0     0     0     0     0     0     0     0     0     0\n",
      "     0     0     0     0     0     0     0     0     0     0     0     0\n",
      "     0     0     0     0     0     0     0     0     0     0     0     0\n",
      "     0     0     0     0     0     0     0     0     0     0     0     0\n",
      "     0     0     0     0     0     0     0     0     0     0     0     0\n",
      "     0     0     0     0     0     0     0     0     0     0     0     0\n",
      "     0     0     0     0     0     0     0     0     0     0     0     0\n",
      "     0     0     0     0     0     0     0     0     0     0     0     0\n",
      "     0     0     0     0     0     0     0     0     0     0     0     0\n",
      "     0     0     0     0     0     0     0     0     0     0     0     0\n",
      "     0     0     0     0     0     0     0     0     0     0     0     0\n",
      "     0     0     0     0     0     0     0     0     0     0     0     0\n",
      "     0     0     0     0     0     0     0     0     0     0     0     0\n",
      "     0     0     0     0     0     0     0     0     0     0     0     0\n",
      "     0     0]\n",
      "Number of Labels:  26709\n",
      "0\n"
     ]
    }
   ],
   "source": [
    "#Here we are using padding lib to pad sequence with max seq 254\n",
    "X = pad_sequences(input_sequences, maxlen = max_seq, padding='post')\n",
    "y = np.asarray(data['is_sarcastic'])\n",
    "\n",
    "print(\"Number of Samples:\", len(X))\n",
    "print(X[0])\n",
    "print(\"Number of Labels: \", len(y))\n",
    "print(y[0])"
   ]
  },
  {
   "cell_type": "markdown",
   "metadata": {
    "colab_type": "text",
    "id": "WJLyKg-98rH_"
   },
   "source": [
    "## Get the Vocabulary size ( 2 marks)\n",
    "Hint : You can use tokenizer.word_index."
   ]
  },
  {
   "cell_type": "code",
   "execution_count": 22,
   "metadata": {},
   "outputs": [
    {
     "name": "stdout",
     "output_type": "stream",
     "text": [
      "Found 29656 unique input tokens.\n"
     ]
    }
   ],
   "source": [
    "# get the word to index mapping for input\n",
    "word2idx_inputs = token.word_index #This creates words to index dictionary where key is word and vlaue us the dictionary\n",
    "print('Found %s unique input tokens.' % len(word2idx_inputs))"
   ]
  },
  {
   "cell_type": "code",
   "execution_count": 23,
   "metadata": {},
   "outputs": [
    {
     "data": {
      "text/plain": [
       "29656"
      ]
     },
     "execution_count": 23,
     "metadata": {},
     "output_type": "execute_result"
    }
   ],
   "source": [
    "#This is reverse mapping of the the word 2 index dictionary. This is used to trace back the sequence\n",
    "idx2words={v:x for x,v in word2idx_inputs.items()} \n",
    "len(idx2words)"
   ]
  },
  {
   "cell_type": "code",
   "execution_count": 24,
   "metadata": {},
   "outputs": [
    {
     "data": {
      "text/plain": [
       "29657"
      ]
     },
     "execution_count": 24,
     "metadata": {},
     "output_type": "execute_result"
    }
   ],
   "source": [
    "num_words_output = len(word2idx_inputs) + 1 #Here plus 1 as index start from 0\n",
    "num_words_output"
   ]
  },
  {
   "cell_type": "markdown",
   "metadata": {
    "colab_type": "text",
    "id": "5hjeMi40XcB1"
   },
   "source": [
    "#**## Word Embedding**"
   ]
  },
  {
   "cell_type": "markdown",
   "metadata": {
    "colab_type": "text",
    "id": "bUF1TuQa8ux0"
   },
   "source": [
    "## Get Glove Word Embeddings"
   ]
  },
  {
   "cell_type": "code",
   "execution_count": 25,
   "metadata": {},
   "outputs": [
    {
     "name": "stdout",
     "output_type": "stream",
     "text": [
      "C:\\Users\\sarth\\Anaconda projects\\great learning\\AI\\NPL\\project2\n",
      "\n",
      "\n",
      "['.ipynb_checkpoints', 'data', 'github', 'glove.6B.100d.txt', 'NLP_Project_Sarcasm_Detection_Questions.ipynb', 'Problem Statement - Project - LSTM.pdf', 'qw.ipynb']\n",
      "\n",
      "\n",
      "['Data', 'Data-20200412T173825Z-001.zip', 'Data-20200412T173825Z-002.zip']\n",
      "\n",
      "\n",
      "['glove.6B.100d.txt', 'glove.6B.200d.txt', 'glove.6B.50d.txt', 'Sarcasm_Headlines_Dataset.json']\n"
     ]
    }
   ],
   "source": [
    "#This is used to navigate the to the directory of pre trained embeddings\n",
    "print(os.getcwd())\n",
    "print('\\n')\n",
    "print(os.listdir())\n",
    "print('\\n')\n",
    "print(os.listdir('data'))\n",
    "print('\\n')\n",
    "print(os.listdir('data/Data')) #Here you can see all the glove vectors"
   ]
  },
  {
   "cell_type": "markdown",
   "metadata": {
    "colab_type": "text",
    "id": "9IuXlu8-U3HG"
   },
   "source": [
    "# Get the Word Embeddings using Embedding file as given below."
   ]
  },
  {
   "cell_type": "code",
   "execution_count": 26,
   "metadata": {
    "colab": {},
    "colab_type": "code",
    "id": "elZ-T5aFGZmZ"
   },
   "outputs": [
    {
     "name": "stdout",
     "output_type": "stream",
     "text": [
      "Found 400000 word vectors.\n"
     ]
    }
   ],
   "source": [
    "#load Pretrained glove vector from file\n",
    "#Note the pretrained are of 200 dim long as I am using it from 'glove.6B.200d. This embed each word with 200 dimensions\n",
    "EMBEDDING_FILE = 'data/Data/glove.6B.200d.txt'   #location of the vector\n",
    "\n",
    "embeddings = {}\n",
    "for o in open(EMBEDDING_FILE, encoding=\"utf8\"): #import data from file\n",
    "    word = o.split(\" \")[0]\n",
    "    # print(word)\n",
    "    embd = o.split(\" \")[1:] #Store value in the variable\n",
    "    embd = np.asarray(embd, dtype='float32') \n",
    "    # print(embd)\n",
    "    embeddings[word] = embd\n",
    "\n",
    "print('Found %s word vectors.' % len(embeddings)) #print lenth of the dict that stored value"
   ]
  },
  {
   "cell_type": "markdown",
   "metadata": {
    "colab_type": "text",
    "id": "bTPxveDmVCrA"
   },
   "source": [
    "# Create a weight matrix for words in training docs"
   ]
  },
  {
   "cell_type": "code",
   "execution_count": 27,
   "metadata": {
    "colab": {},
    "colab_type": "code",
    "id": "xQgOhiywU9nU"
   },
   "outputs": [
    {
     "data": {
      "text/plain": [
       "400000"
      ]
     },
     "execution_count": 27,
     "metadata": {},
     "output_type": "execute_result"
    }
   ],
   "source": [
    "#this is that embedding from embeddings that are in embeddings in our dataset\n",
    "#This steps store only those vectors that are there in our dictionary word2idx_inputs\n",
    "#Only those word's vectors that are there in our vocabulary\n",
    "EMBEDDING_DIM = 200\n",
    "num_words = max(max_features, len(word2idx_inputs) + 1)\n",
    "embedding_matrix = np.zeros((num_words, EMBEDDING_DIM))\n",
    "\n",
    "for word, i in token.word_index.items():\n",
    "    embedding_vector = embeddings.get(word)  #Get pretrained glove vector from word2vec that are there in our vocalbulary and stroe in some other variable one by one\n",
    "    if embedding_vector is not None:    # words not found in embedding index will be all zeros.\n",
    "        embedding_matrix[i] = embedding_vector\n",
    "\n",
    "len(embeddings.values())\n",
    "\n",
    "#Note the embedding_matrix is nothing but the pretrained glove vector from file 'glove.6B.200d.txt' but has only those words that are there in our dictionary"
   ]
  },
  {
   "cell_type": "markdown",
   "metadata": {
    "colab_type": "text",
    "id": "u7IbWuEX82Ra"
   },
   "source": [
    "## Create and Compile your Model  ( 7 marks)\n",
    "Hint - Use Sequential model instance and then add Embedding layer, Bidirectional(LSTM) layer, then dense and dropout layers as required. \n",
    "In the end add a final dense layer with sigmoid activation for binary classification.\n"
   ]
  },
  {
   "cell_type": "code",
   "execution_count": 28,
   "metadata": {},
   "outputs": [],
   "source": [
    "#Model buliding\n",
    "model = Sequential()  #Sequential model\n",
    "model.add(Embedding(num_words, EMBEDDING_DIM, input_length = max_seq, weights = [embedding_matrix]))\n",
    "#embedding layer takes input of vocabulary size, embedding dimension i.e 200 and input sequence i.e number of columns of dataset i.e 254\n",
    "#Here I am using pretrained glove vector stored in variable \n",
    "model.add(Dropout(0.5)) #use dropout for regularization embedding_matrix\n",
    "model.add(Bidirectional(LSTM(100, dropout=0.5)))  #Hidden layer with dropout Here return_sequences=true as I want to get output from all layer than apply global max pool over all the output so that I dont miss out important info\n",
    "model.add(Dense(1, activation=\"sigmoid\")) #Final dense layer "
   ]
  },
  {
   "cell_type": "markdown",
   "metadata": {},
   "source": [
    "Note: Extra Dropout layer is used so that the model does not overfit"
   ]
  },
  {
   "cell_type": "code",
   "execution_count": 29,
   "metadata": {},
   "outputs": [
    {
     "name": "stdout",
     "output_type": "stream",
     "text": [
      "Model: \"sequential\"\n",
      "_________________________________________________________________\n",
      "Layer (type)                 Output Shape              Param #   \n",
      "=================================================================\n",
      "embedding (Embedding)        (None, 254, 200)          5931400   \n",
      "_________________________________________________________________\n",
      "dropout (Dropout)            (None, 254, 200)          0         \n",
      "_________________________________________________________________\n",
      "bidirectional (Bidirectional (None, 200)               240800    \n",
      "_________________________________________________________________\n",
      "dense (Dense)                (None, 1)                 201       \n",
      "=================================================================\n",
      "Total params: 6,172,401\n",
      "Trainable params: 6,172,401\n",
      "Non-trainable params: 0\n",
      "_________________________________________________________________\n"
     ]
    }
   ],
   "source": [
    "#print model summary\n",
    "model.summary()"
   ]
  },
  {
   "cell_type": "markdown",
   "metadata": {
    "colab_type": "text",
    "id": "IJFMxZwMWoTw"
   },
   "source": [
    "# Fit your model with a batch size of 100 and validation_split = 0.2. and state the validation accuracy ( 5 marks)\n"
   ]
  },
  {
   "cell_type": "code",
   "execution_count": 30,
   "metadata": {},
   "outputs": [],
   "source": [
    "#Compile model with optimizer adam, loss as binary cross entropy and metric is accuracy\n",
    "model.compile(\n",
    "  loss='binary_crossentropy',\n",
    "  optimizer='adam',\n",
    "  metrics=['acc']\n",
    ")"
   ]
  },
  {
   "cell_type": "code",
   "execution_count": 31,
   "metadata": {},
   "outputs": [],
   "source": [
    "#Define checkpoint, early stop and reduced lr\n",
    "stop = EarlyStopping(monitor=\"val_loss\", patience=3, mode=\"min\")\n",
    "reduce_lr = ReduceLROnPlateau(monitor=\"val_loss\", factor=0.2, patience=2, min_lr=1e-6, verbose=1, mode=\"min\") "
   ]
  },
  {
   "cell_type": "code",
   "execution_count": 32,
   "metadata": {
    "colab": {},
    "colab_type": "code",
    "id": "ZpVkajCcWnRK"
   },
   "outputs": [
    {
     "name": "stdout",
     "output_type": "stream",
     "text": [
      "Train on 21367 samples, validate on 5342 samples\n",
      "Epoch 1/7\n",
      "21367/21367 [==============================] - 57s 3ms/sample - loss: 0.5561 - acc: 0.7036 - val_loss: 0.4112 - val_acc: 0.8115\n",
      "Epoch 2/7\n",
      "21367/21367 [==============================] - 45s 2ms/sample - loss: 0.4213 - acc: 0.8033 - val_loss: 0.3571 - val_acc: 0.8446\n",
      "Epoch 3/7\n",
      "21367/21367 [==============================] - 45s 2ms/sample - loss: 0.3609 - acc: 0.8392 - val_loss: 0.3212 - val_acc: 0.8630\n",
      "Epoch 4/7\n",
      "21367/21367 [==============================] - 45s 2ms/sample - loss: 0.3177 - acc: 0.8617 - val_loss: 0.2993 - val_acc: 0.8729\n",
      "Epoch 5/7\n",
      "21367/21367 [==============================] - 45s 2ms/sample - loss: 0.2797 - acc: 0.8797 - val_loss: 0.3208 - val_acc: 0.8738\n",
      "Epoch 6/7\n",
      "21300/21367 [============================>.] - ETA: 0s - loss: 0.2538 - acc: 0.8940\n",
      "Epoch 00006: ReduceLROnPlateau reducing learning rate to 0.00020000000949949026.\n",
      "21367/21367 [==============================] - 45s 2ms/sample - loss: 0.2536 - acc: 0.8942 - val_loss: 0.3239 - val_acc: 0.8703\n",
      "Epoch 7/7\n",
      "21367/21367 [==============================] - 45s 2ms/sample - loss: 0.2248 - acc: 0.9092 - val_loss: 0.3090 - val_acc: 0.8779\n"
     ]
    }
   ],
   "source": [
    "#Fitting model to X and y with defined epochs and batch size\n",
    "#Here I have used requlaization and model performance tech such as reduced lr and early stop\n",
    "\n",
    "r = model.fit(\n",
    "  X,\n",
    "  y,\n",
    "  batch_size=batch,\n",
    "  epochs=Epochs,\n",
    "  validation_split = 0.2,\n",
    "  callbacks=[reduce_lr, stop],\n",
    "  verbose=1\n",
    ")"
   ]
  },
  {
   "cell_type": "code",
   "execution_count": 33,
   "metadata": {},
   "outputs": [
    {
     "name": "stdout",
     "output_type": "stream",
     "text": [
      "26709/26709 [==============================] - 20s 738us/sample - loss: 0.1705 - acc: 0.9332\n",
      "Model accuracy:  0.933206\n"
     ]
    }
   ],
   "source": [
    "#Evaluate model then print accuracy\n",
    "results = model.evaluate(X, y)\n",
    "print('Model accuracy: ', results[1])"
   ]
  },
  {
   "cell_type": "code",
   "execution_count": 34,
   "metadata": {},
   "outputs": [],
   "source": [
    "#Getting prediction of dataset\n",
    "predictions = model.predict(X)"
   ]
  },
  {
   "cell_type": "code",
   "execution_count": null,
   "metadata": {},
   "outputs": [],
   "source": []
  },
  {
   "cell_type": "code",
   "execution_count": 35,
   "metadata": {},
   "outputs": [],
   "source": [
    "#Set threshold\n",
    "#we want the value to be either 0 or 1\n",
    "pred2=np.zeros((len(X),))\n",
    "count=0\n",
    "for i in predictions:\n",
    "    if i>0.5:  #Got .5 after many hit and try\n",
    "        pred2[count]=1\n",
    "    \n",
    "    else:\n",
    "        pred2[count]=0\n",
    "    \n",
    "    count+=1\n",
    "        \n",
    "#threshold is 0.5"
   ]
  },
  {
   "cell_type": "code",
   "execution_count": 36,
   "metadata": {},
   "outputs": [
    {
     "data": {
      "text/plain": [
       "array([0., 0., 1., ..., 0., 0., 0.])"
      ]
     },
     "execution_count": 36,
     "metadata": {},
     "output_type": "execute_result"
    }
   ],
   "source": [
    "#print value after threshold\n",
    "pred2"
   ]
  },
  {
   "cell_type": "code",
   "execution_count": 37,
   "metadata": {},
   "outputs": [
    {
     "name": "stdout",
     "output_type": "stream",
     "text": [
      "accuracy : 0.9332\n",
      "F1 score : 0.9228\n",
      "precision score : 0.9369\n",
      "recall score : 0.9091\n",
      "              precision    recall  f1-score   support\n",
      "\n",
      "           0       0.93      0.95      0.94     14985\n",
      "           1       0.94      0.91      0.92     11724\n",
      "\n",
      "    accuracy                           0.93     26709\n",
      "   macro avg       0.93      0.93      0.93     26709\n",
      "weighted avg       0.93      0.93      0.93     26709\n",
      "\n"
     ]
    }
   ],
   "source": [
    "#print accuracy score, f1 score, precision, recall and classification report\n",
    "print(\"accuracy : {0:.4f}\".format(accuracy_score(y,pred2)))\n",
    "print(\"F1 score : {0:.4f}\".format(f1_score(y,pred2)))\n",
    "print(\"precision score : {0:.4f}\".format(precision_score(y,pred2)))\n",
    "print(\"recall score : {0:.4f}\".format(recall_score(y,pred2)))\n",
    "print(metrics.classification_report(y,pred2))"
   ]
  },
  {
   "cell_type": "code",
   "execution_count": 38,
   "metadata": {},
   "outputs": [
    {
     "name": "stdout",
     "output_type": "stream",
     "text": [
      "0.982077374770426\n"
     ]
    }
   ],
   "source": [
    "#print AUC for dataset\n",
    "aucs = []\n",
    "for j in range(6):\n",
    "    auc = roc_auc_score(y, predictions)\n",
    "    aucs.append(auc)\n",
    "print(np.mean(aucs))\n"
   ]
  },
  {
   "cell_type": "code",
   "execution_count": null,
   "metadata": {},
   "outputs": [],
   "source": []
  },
  {
   "cell_type": "code",
   "execution_count": 39,
   "metadata": {},
   "outputs": [
    {
     "name": "stdout",
     "output_type": "stream",
     "text": [
      "{'loss': [0.5561266658628818, 0.42131696918518746, 0.36090928734690625, 0.3177028469489935, 0.27965101879138016, 0.2536385065730846, 0.22477696535140088], 'acc': [0.70356154, 0.8033416, 0.83919126, 0.86165583, 0.87972105, 0.8941826, 0.9092058], 'val_loss': [0.41115727531959034, 0.35706976911897564, 0.3211711286181861, 0.29927148282505606, 0.3207752896087172, 0.3239169027621449, 0.30895475652145565], 'val_acc': [0.8114938, 0.8446275, 0.8629727, 0.87289405, 0.87383, 0.8702733, 0.87794834], 'lr': [0.001, 0.001, 0.001, 0.001, 0.001, 0.001, 0.00020000001]}\n"
     ]
    }
   ],
   "source": [
    "#To see what out model stores info so that these can be plotted\n",
    "print(r.history)"
   ]
  },
  {
   "cell_type": "code",
   "execution_count": 40,
   "metadata": {},
   "outputs": [
    {
     "data": {
      "image/png": "[encoded data removed]",
      "text/plain": [
       "<Figure size 432x288 with 1 Axes>"
      ]
     },
     "metadata": {},
     "output_type": "display_data"
    }
   ],
   "source": [
    "# plot model loss\n",
    "plt.plot(r.history['loss'], label='loss')\n",
    "plt.plot(r.history['val_loss'], label='val_loss')\n",
    "plt.legend()\n",
    "plt.show()"
   ]
  },
  {
   "cell_type": "code",
   "execution_count": 41,
   "metadata": {},
   "outputs": [
    {
     "data": {
      "image/png": "[encoded data removed]",
      "text/plain": [
       "<Figure size 432x288 with 1 Axes>"
      ]
     },
     "metadata": {},
     "output_type": "display_data"
    }
   ],
   "source": [
    "#plot model accuracies\n",
    "plt.plot(r.history['acc'], label='acc')\n",
    "plt.plot(r.history['val_acc'], label='val_acc')\n",
    "plt.legend()\n",
    "plt.show()"
   ]
  },
  {
   "cell_type": "markdown",
   "metadata": {},
   "source": [
    "#### Note\n",
    "The model is performing very well.."
   ]
  },
  {
   "cell_type": "markdown",
   "metadata": {},
   "source": [
    "#### Some predictions"
   ]
  },
  {
   "cell_type": "code",
   "execution_count": 49,
   "metadata": {},
   "outputs": [],
   "source": [
    "#Check on this\n",
    "n=100"
   ]
  },
  {
   "cell_type": "code",
   "execution_count": 50,
   "metadata": {},
   "outputs": [
    {
     "name": "stdout",
     "output_type": "stream",
     "text": [
      "X_test shape =  (26709, 254)\n",
      "Shape of x =  (254,)\n",
      "New Shape of x =  (1, 254)\n",
      "\n",
      "\n",
      "Predicted review =  0\n",
      "Actual value =  0\n",
      "\n",
      "\n",
      "0 means not sarcastic therfore this statement is NOT SARCASTIC\n"
     ]
    }
   ],
   "source": [
    "print(\"X_test shape = \",X.shape) #To see shape of X_test\n",
    "\n",
    "x=X[n]  #Put test value in x\n",
    "print(\"Shape of x = \",x.shape)\n",
    "#AS you can see it is out of shape when comared to x_test because it is a single value therefore we need to reshape it\n",
    "\n",
    "x2=x.reshape(1,max_seq)  #Reshape to (1,254) so to put in our model if not done this step it will throw error as our model accept this shape only\n",
    "\n",
    "print(\"New Shape of x = \",x2.shape) #Cross check step to see our new shape\n",
    "\n",
    "P=model.predict(x2) #predict x based on our model\n",
    "\n",
    "P2 = 1 if P>0.5 else 0  #Setting threshold if value less than 0.5 it is -ve review otherwise poistive\n",
    "\n",
    "print(\"\\n\")\n",
    "print(\"Predicted review = \",P2) #predicted review\n",
    "print(\"Actual value = \",y[n])\n",
    "print(\"\\n\")\n",
    "\n",
    "if P2==1: #To print if sarcastic or not\n",
    "    print('1 means sarcastic therfore this statement is SARCASTIC')\n",
    "else:\n",
    "    print('0 means not sarcastic therfore this statement is NOT SARCASTIC')    \n"
   ]
  },
  {
   "cell_type": "code",
   "execution_count": 51,
   "metadata": {},
   "outputs": [],
   "source": [
    "#This step is visual step where encoding in the dataset is converted back to readable or alphabetic form \n",
    "#Here each integer in the text is matched with the index, and replaced by the corresponding word\n",
    "\n",
    "def decode(text):\n",
    "    return ' '.join([idx2words.get(i,\" \") for i in text])"
   ]
  },
  {
   "cell_type": "code",
   "execution_count": 52,
   "metadata": {},
   "outputs": [
    {
     "name": "stdout",
     "output_type": "stream",
     "text": [
      "demi lovato drops emotional 'nightingale' music vid                                                                                                                                                                                                                                                                                                                                                                                                                                                                                                              \n"
     ]
    }
   ],
   "source": [
    "#This returns the decoded value by using above decoded function\n",
    "k=decode(X[n])\n",
    "print(k)\n",
    "#Note here data sequence is less as in tokenization step many words didnt get mapped as this is the downside of using lib"
   ]
  },
  {
   "cell_type": "code",
   "execution_count": null,
   "metadata": {},
   "outputs": [],
   "source": []
  },
  {
   "cell_type": "markdown",
   "metadata": {},
   "source": [
    "### Some real examples "
   ]
  },
  {
   "cell_type": "code",
   "execution_count": 53,
   "metadata": {},
   "outputs": [],
   "source": [
    "#This function takes input and convert to appropriate format so that it can predict. Here all instances are used based on previous instances\n",
    "def tokeniz(sent):\n",
    "    sent1 = token.texts_to_sequences([sent]) #tokenization\n",
    "    sent2 = pad_sequences(sent1, maxlen = max_seq, padding='post') #padding\n",
    "    p=model.predict(sent2) #predicting\n",
    "    return p"
   ]
  },
  {
   "cell_type": "code",
   "execution_count": 54,
   "metadata": {},
   "outputs": [],
   "source": [
    "def prediction(p):\n",
    "    Pred = 1 if p>0.5 else 0  #condition to check if its greater than 0.5\n",
    "    print(\"Predicted review = \",Pred) #predicted review\n",
    "    if Pred==1:  #To print if sarcastic or not\n",
    "        print('1 means sarcastic therfore this statement is SARCASTIC')\n",
    "    else:\n",
    "        print('0 means not sarcastic therfore this statement is NOT SARCASTIC')    "
   ]
  },
  {
   "cell_type": "code",
   "execution_count": 55,
   "metadata": {},
   "outputs": [
    {
     "name": "stdout",
     "output_type": "stream",
     "text": [
      "Predicted review =  1\n",
      "1 means sarcastic therfore this statement is SARCASTIC\n"
     ]
    }
   ],
   "source": [
    "#Here  have used my own dialog or comment to see if its sarcatic or not based on our model\n",
    "#Here I used sarcastic comment\n",
    "k=\"Zombies eat brains. You’re safe.\"\n",
    "pred = tokeniz(k)\n",
    "prediction(pred)"
   ]
  },
  {
   "cell_type": "code",
   "execution_count": null,
   "metadata": {},
   "outputs": [],
   "source": []
  },
  {
   "cell_type": "code",
   "execution_count": null,
   "metadata": {},
   "outputs": [],
   "source": []
  }
 ],
 "metadata": {
  "accelerator": "GPU",
  "colab": {
   "collapsed_sections": [],
   "name": "Copy of Sarcasm_Detection.ipynb",
   "provenance": []
  },
  "kernelspec": {
   "display_name": "gpu",
   "language": "python",
   "name": "gpu"
  },
  "language_info": {
   "codemirror_mode": {
    "name": "ipython",
    "version": 3
   },
   "file_extension": ".py",
   "mimetype": "text/x-python",
   "name": "python",
   "nbconvert_exporter": "python",
   "pygments_lexer": "ipython3",
   "version": "3.7.6"
  }
 },
 "nbformat": 4,
 "nbformat_minor": 1
}
